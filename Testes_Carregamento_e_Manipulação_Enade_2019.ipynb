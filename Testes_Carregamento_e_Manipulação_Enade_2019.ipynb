{
 "cells": [
  {
   "cell_type": "markdown",
   "metadata": {},
   "source": [
    "# <font color='blue'>Carregamento microdados Enade 2019</font>"
   ]
  },
  {
   "cell_type": "code",
   "execution_count": null,
   "metadata": {},
   "outputs": [],
   "source": [
    "# Abrindo o arquivo para leitura\n",
    "microdados_enade_2019 = open(\"Dados/microdados_enade_2019.txt\", \"r\")"
   ]
  },
  {
   "cell_type": "code",
   "execution_count": null,
   "metadata": {},
   "outputs": [],
   "source": [
    "# Lendo o arquivo\n",
    "data_enade_2019 = microdados_enade_2019.read()"
   ]
  },
  {
   "cell_type": "code",
   "execution_count": null,
   "metadata": {},
   "outputs": [],
   "source": [
    "rows = data_enade_2019.split('\\n')"
   ]
  },
  {
   "cell_type": "code",
   "execution_count": null,
   "metadata": {},
   "outputs": [],
   "source": [
    "full_data = []"
   ]
  },
  {
   "cell_type": "code",
   "execution_count": null,
   "metadata": {},
   "outputs": [],
   "source": [
    "for row in rows:\n",
    "    split_row = row.split(\";\")\n",
    "    full_data.append(split_row)\n"
   ]
  },
  {
   "cell_type": "code",
   "execution_count": null,
   "metadata": {},
   "outputs": [],
   "source": [
    "import time\n",
    "\n",
    "inicio = time.time()\n",
    "print(full_data[0:3])\n",
    "fim = time.time()"
   ]
  },
  {
   "cell_type": "code",
   "execution_count": null,
   "metadata": {},
   "outputs": [],
   "source": [
    "print(fim - inicio)"
   ]
  },
  {
   "cell_type": "markdown",
   "metadata": {},
   "source": [
    "### Contando as linhas"
   ]
  },
  {
   "cell_type": "code",
   "execution_count": null,
   "metadata": {},
   "outputs": [],
   "source": [
    "count = 0\n",
    "for row in full_data:\n",
    "    count += 1"
   ]
  },
  {
   "cell_type": "code",
   "execution_count": null,
   "metadata": {},
   "outputs": [],
   "source": [
    "print(count)"
   ]
  },
  {
   "cell_type": "markdown",
   "metadata": {},
   "source": [
    "### Contando as colunas"
   ]
  },
  {
   "cell_type": "code",
   "execution_count": null,
   "metadata": {},
   "outputs": [],
   "source": [
    "count = 0\n",
    "for column in full_data[0]:\n",
    "    count = count + 1"
   ]
  },
  {
   "cell_type": "code",
   "execution_count": null,
   "metadata": {},
   "outputs": [],
   "source": [
    "print(count)"
   ]
  },
  {
   "cell_type": "markdown",
   "metadata": {},
   "source": [
    "## Inportando o dataset com pandas"
   ]
  },
  {
   "cell_type": "code",
   "execution_count": 1,
   "metadata": {},
   "outputs": [
    {
     "data": {
      "text/plain": [
       "'1.1.3'"
      ]
     },
     "execution_count": 1,
     "metadata": {},
     "output_type": "execute_result"
    }
   ],
   "source": [
    "# Importando pandas\n",
    "import pandas as pd\n",
    "pd.__version__"
   ]
  },
  {
   "cell_type": "code",
   "execution_count": null,
   "metadata": {},
   "outputs": [],
   "source": [
    "file_name = \"Dados/microdados_enade_2019.txt\""
   ]
  },
  {
   "cell_type": "code",
   "execution_count": null,
   "metadata": {},
   "outputs": [],
   "source": [
    "# Criação do DataFrame com os dados do CSV\n",
    "# low_memory=False para ignorar a limitação de memória\n",
    "df = pd.read_csv(file_name, encoding='utf-8', sep=\";\", low_memory=False)"
   ]
  },
  {
   "cell_type": "code",
   "execution_count": null,
   "metadata": {},
   "outputs": [],
   "source": [
    "df.head()"
   ]
  },
  {
   "cell_type": "code",
   "execution_count": null,
   "metadata": {},
   "outputs": [],
   "source": [
    "df['CO_GRUPO'].value_counts()"
   ]
  },
  {
   "cell_type": "code",
   "execution_count": null,
   "metadata": {},
   "outputs": [],
   "source": [
    "cod = [4003, 5710, 5806, 5814, 5902, 6002, 6008, 6208, 6307, 6405]"
   ]
  },
  {
   "cell_type": "code",
   "execution_count": null,
   "metadata": {},
   "outputs": [],
   "source": [
    "engenharias_ufpa = df.query(f'CO_GRUPO in {cod} and CO_IES == 569')"
   ]
  },
  {
   "cell_type": "code",
   "execution_count": null,
   "metadata": {},
   "outputs": [],
   "source": [
    "engenharias_ufpa.head()"
   ]
  },
  {
   "cell_type": "code",
   "execution_count": null,
   "metadata": {},
   "outputs": [],
   "source": [
    "engenharias_ufpa['CO_GRUPO'].value_counts()"
   ]
  },
  {
   "cell_type": "code",
   "execution_count": null,
   "metadata": {},
   "outputs": [],
   "source": [
    "engenharias_ufpa"
   ]
  },
  {
   "cell_type": "code",
   "execution_count": null,
   "metadata": {},
   "outputs": [],
   "source": [
    "df"
   ]
  },
  {
   "cell_type": "code",
   "execution_count": null,
   "metadata": {},
   "outputs": [],
   "source": [
    "engenharias_ufpa['CO_UF_CURSO'].value_counts()"
   ]
  },
  {
   "cell_type": "code",
   "execution_count": null,
   "metadata": {},
   "outputs": [],
   "source": [
    "# Importando sweetviz\n",
    "import sweetviz as sv\n",
    "import numpy as np"
   ]
  },
  {
   "cell_type": "code",
   "execution_count": 4,
   "metadata": {},
   "outputs": [],
   "source": [
    "import dtale"
   ]
  },
  {
   "cell_type": "code",
   "execution_count": 5,
   "metadata": {},
   "outputs": [
    {
     "name": "stderr",
     "output_type": "stream",
     "text": [
      "2021-05-10 09:03:47,567 - INFO     - NumExpr defaulting to 6 threads.\n"
     ]
    },
    {
     "data": {
      "text/html": [
       "\n",
       "        <iframe\n",
       "            width=\"100%\"\n",
       "            height=\"475\"\n",
       "            src=\"http://DESKTOP-T1C7ISN:40000/dtale/iframe/1\"\n",
       "            frameborder=\"0\"\n",
       "            allowfullscreen\n",
       "        ></iframe>\n",
       "        "
      ],
      "text/plain": [
       "<IPython.lib.display.IFrame at 0x13f0993b790>"
      ]
     },
     "metadata": {},
     "output_type": "display_data"
    },
    {
     "data": {
      "text/plain": []
     },
     "execution_count": 5,
     "metadata": {},
     "output_type": "execute_result"
    }
   ],
   "source": [
    "dtale.show(engenharias_ufpa_csv)"
   ]
  },
  {
   "cell_type": "code",
   "execution_count": null,
   "metadata": {},
   "outputs": [],
   "source": [
    "# Cria o report e chama de my_report\n",
    "# my_report = sv.analyze(df)"
   ]
  },
  {
   "cell_type": "code",
   "execution_count": null,
   "metadata": {},
   "outputs": [],
   "source": [
    "# Exporta report para HTML\n",
    "# my_report.show_html()"
   ]
  },
  {
   "cell_type": "code",
   "execution_count": 2,
   "metadata": {},
   "outputs": [],
   "source": [
    "engenharias_ufpa_csv = pd.read_csv(\"Dados/2019/microdados_enade_2019_engenharias_UFPA - Copia.csv\", encoding='utf-8', sep=\";\", low_memory=False)"
   ]
  },
  {
   "cell_type": "code",
   "execution_count": 3,
   "metadata": {},
   "outputs": [],
   "source": [
    "engenharias_ufpa_csv = engenharias_ufpa_csv.drop(columns=['ANO EXAME', 'CO_IES', 'CO_CATEGAD', 'CO_ORGACAD', 'CO_CURSO', 'CO_MODALIDADE',\n",
    "                                                          'CO_UF_CURSO', 'CO_REGIAO_CURSO', 'TP_INSCRICAO_ADM', 'TP_INSCRICAO', \n",
    "                                                          'NU_ITEM_OFG', 'NU_ITEM_OFG_Z', 'NU_ITEM_OFG_X', 'NU_ITEM_OFG_N', \n",
    "                                                          'NU_ITEM_OCE', 'NU_ITEM_OCE_Z', 'NU_ITEM_OCE_X', 'NU_ITEM_OCE_N', \n",
    "                                                          'DS_VT_GAB_OFG_ORIG', 'DS_VT_GAB_OFG_FIN', 'DS_VT_GAB_OCE_ORIG', \n",
    "                                                          'DS_VT_GAB_OCE_FIN', 'DS_VT_ESC_OFG', 'DS_VT_ACE_OFG', 'DS_VT_ESC_OCE',\n",
    "                                                          'DS_VT_ACE_OCE', 'PRESENCA NO ENADE', 'TP_PR_GER', 'TP_PR_OB_FG', \n",
    "                                                          'TP_PR_DI_FG', 'TP_PR_OB_CE', 'TP_PR_DI_CE', 'TP_SFG_D1', 'TP_SFG_D2', \n",
    "                                                          'TP_SCE_D1', 'TP_SCE_D2', 'TP_SCE_D3', 'NT_FG_D1', 'NT_FG_D1_PT', \n",
    "                                                          'NT_FG_D1_CT', 'NT_FG_D2', 'NT_FG_D2_PT', 'NT_FG_D2_CT', 'NT_CE_D1', \n",
    "                                                          'NT_CE_D2', 'NT_CE_D3'])"
   ]
  },
  {
   "cell_type": "code",
   "execution_count": null,
   "metadata": {},
   "outputs": [],
   "source": [
    "my_report = sv.analyze(engenharias_ufpa_csv)"
   ]
  },
  {
   "cell_type": "code",
   "execution_count": null,
   "metadata": {},
   "outputs": [],
   "source": [
    "engenharias_ufpa_csv.head()"
   ]
  },
  {
   "cell_type": "code",
   "execution_count": null,
   "metadata": {},
   "outputs": [],
   "source": [
    "my_report.show_html()"
   ]
  },
  {
   "cell_type": "code",
   "execution_count": null,
   "metadata": {},
   "outputs": [],
   "source": [
    "engenharias_ufpa_csv['NOTA PROVA'].mean()"
   ]
  },
  {
   "cell_type": "code",
   "execution_count": null,
   "metadata": {},
   "outputs": [],
   "source": [
    "eng_ufpa_sem_na = engenharias_ufpa_csv.dropna()"
   ]
  },
  {
   "cell_type": "code",
   "execution_count": null,
   "metadata": {},
   "outputs": [],
   "source": [
    "eng_ufpa_sem_na"
   ]
  },
  {
   "cell_type": "code",
   "execution_count": null,
   "metadata": {},
   "outputs": [],
   "source": [
    "my_report = sv.analyze(eng_ufpa_sem_na)"
   ]
  },
  {
   "cell_type": "code",
   "execution_count": null,
   "metadata": {},
   "outputs": [],
   "source": [
    "my_report.show_html()"
   ]
  },
  {
   "cell_type": "code",
   "execution_count": null,
   "metadata": {},
   "outputs": [],
   "source": [
    "engcomp = engenharias_ufpa_csv.query('CO_GRUPO == 4003')"
   ]
  },
  {
   "cell_type": "code",
   "execution_count": null,
   "metadata": {},
   "outputs": [],
   "source": [
    "my_report = sv.analyze(engcomp)"
   ]
  },
  {
   "cell_type": "code",
   "execution_count": null,
   "metadata": {},
   "outputs": [],
   "source": [
    "my_report.show_html()"
   ]
  },
  {
   "cell_type": "code",
   "execution_count": null,
   "metadata": {},
   "outputs": [],
   "source": [
    "engcivil = engenharias_ufpa_csv.query('CO_GRUPO == 5710')"
   ]
  },
  {
   "cell_type": "code",
   "execution_count": null,
   "metadata": {},
   "outputs": [],
   "source": [
    "my_report = sv.analyze(engcivil)"
   ]
  },
  {
   "cell_type": "code",
   "execution_count": null,
   "metadata": {},
   "outputs": [],
   "source": [
    "my_report.show_html()"
   ]
  },
  {
   "cell_type": "code",
   "execution_count": null,
   "metadata": {},
   "outputs": [],
   "source": [
    "engeletrica = engenharias_ufpa_csv.query('CO_GRUPO == 5806')"
   ]
  },
  {
   "cell_type": "code",
   "execution_count": null,
   "metadata": {},
   "outputs": [],
   "source": [
    "my_report = sv.analyze(engeletrica)"
   ]
  },
  {
   "cell_type": "code",
   "execution_count": null,
   "metadata": {},
   "outputs": [],
   "source": [
    "my_report.show_html()"
   ]
  },
  {
   "cell_type": "code",
   "execution_count": null,
   "metadata": {},
   "outputs": [],
   "source": [
    "engmec = engenharias_ufpa_csv.query('CO_GRUPO == 5902')"
   ]
  },
  {
   "cell_type": "code",
   "execution_count": null,
   "metadata": {},
   "outputs": [],
   "source": [
    "my_report_engmec = sv.analyze(engmec)"
   ]
  },
  {
   "cell_type": "code",
   "execution_count": null,
   "metadata": {},
   "outputs": [],
   "source": [
    "my_report_engmec.show_html()"
   ]
  },
  {
   "cell_type": "code",
   "execution_count": null,
   "metadata": {},
   "outputs": [],
   "source": [
    "engali = engenharias_ufpa_csv.query('CO_GRUPO == 6002')"
   ]
  },
  {
   "cell_type": "code",
   "execution_count": null,
   "metadata": {},
   "outputs": [],
   "source": [
    "my_report_engali = sv.analyze(engali)"
   ]
  },
  {
   "cell_type": "code",
   "execution_count": null,
   "metadata": {},
   "outputs": [],
   "source": [
    "my_report_engali.show_html()"
   ]
  },
  {
   "cell_type": "code",
   "execution_count": null,
   "metadata": {},
   "outputs": [],
   "source": [
    "engquim = engenharias_ufpa_csv.query('CO_GRUPO == 6008')"
   ]
  },
  {
   "cell_type": "code",
   "execution_count": null,
   "metadata": {},
   "outputs": [],
   "source": [
    "my_report_engquim = sv.analyze(engquim)"
   ]
  },
  {
   "cell_type": "code",
   "execution_count": null,
   "metadata": {},
   "outputs": [],
   "source": [
    "my_report_engquim.show_html()"
   ]
  },
  {
   "cell_type": "code",
   "execution_count": null,
   "metadata": {},
   "outputs": [],
   "source": [
    "engprod = engenharias_ufpa_csv.query('CO_GRUPO == 6208')"
   ]
  },
  {
   "cell_type": "code",
   "execution_count": null,
   "metadata": {},
   "outputs": [],
   "source": [
    "my_report_engprod = sv.analyze(engprod)"
   ]
  },
  {
   "cell_type": "code",
   "execution_count": null,
   "metadata": {},
   "outputs": [],
   "source": [
    "my_report_engprod.show_html()"
   ]
  },
  {
   "cell_type": "code",
   "execution_count": null,
   "metadata": {},
   "outputs": [],
   "source": [
    "engflo = engenharias_ufpa_csv.query('CO_GRUPO == 6405')"
   ]
  },
  {
   "cell_type": "code",
   "execution_count": null,
   "metadata": {},
   "outputs": [],
   "source": [
    "my_report_engflo = sv.analyze(engflo)"
   ]
  },
  {
   "cell_type": "code",
   "execution_count": null,
   "metadata": {},
   "outputs": [],
   "source": [
    "my_report_engflo.show_html()"
   ]
  },
  {
   "cell_type": "code",
   "execution_count": null,
   "metadata": {},
   "outputs": [],
   "source": [
    "engamb = engenharias_ufpa_csv.query('CO_GRUPO == 6307')"
   ]
  },
  {
   "cell_type": "code",
   "execution_count": null,
   "metadata": {},
   "outputs": [],
   "source": [
    "my_report_engamb = sv.analyze(engamb)"
   ]
  },
  {
   "cell_type": "code",
   "execution_count": null,
   "metadata": {},
   "outputs": [],
   "source": [
    "my_report_engamb.show_html()"
   ]
  },
  {
   "cell_type": "code",
   "execution_count": 6,
   "metadata": {},
   "outputs": [],
   "source": [
    "import plotly.express as px"
   ]
  },
  {
   "cell_type": "code",
   "execution_count": 22,
   "metadata": {},
   "outputs": [
    {
     "data": {
      "application/vnd.plotly.v1+json": {
       "config": {
        "plotlyServerURL": "https://plot.ly"
       },
       "data": [
        {
         "alignmentgroup": "True",
         "boxpoints": "all",
         "hovertemplate": "Qual é a sua cor ou raça?=%{x}<br>NOTA PROVA=%{y}<extra></extra>",
         "legendgroup": "",
         "marker": {
          "color": "#636efa"
         },
         "name": "",
         "notched": false,
         "offsetgroup": "",
         "orientation": "v",
         "showlegend": false,
         "type": "box",
         "x": [
          "Branca",
          "Parda",
          "Branca",
          "Branca",
          "Preta",
          "Parda",
          "Parda",
          "Parda",
          "Parda",
          "Parda",
          "Branca",
          "Branca",
          "Preta",
          "Parda",
          "Branca",
          "Parda",
          "Parda",
          "Branca",
          "Preta",
          "Branca",
          "Parda",
          "Preta",
          "Parda",
          "Branca",
          "Parda",
          "Parda",
          "Parda",
          "Branca",
          "Branca",
          "Não quero declarar.",
          "Parda",
          "Parda",
          "Parda",
          "Parda",
          "Branca",
          "Branca",
          "Parda",
          "Branca",
          "Branca",
          "Preta",
          "Parda",
          "Branca",
          "Branca",
          "Preta",
          "Preta",
          "Branca",
          "Parda",
          "Parda",
          "Preta",
          "Parda",
          "Não quero declarar.",
          "Branca",
          "Parda",
          "Preta",
          "Branca",
          "Preta",
          "Parda",
          "Parda",
          "Parda",
          "Parda",
          "Parda",
          "Branca",
          "Parda",
          "Branca",
          "Branca",
          "Parda",
          "Parda",
          "Parda",
          "Parda",
          "Preta",
          "Parda",
          "Parda",
          "Branca",
          "Parda",
          "Parda",
          "Parda",
          "Branca",
          "Branca",
          "Parda",
          "Preta",
          "Parda",
          "Não quero declarar.",
          "Parda",
          "Parda",
          "Branca",
          "Parda",
          "Parda",
          "Parda",
          "Preta",
          "Branca",
          "Parda",
          "Parda",
          "Não quero declarar.",
          "Parda",
          "Parda",
          "Branca",
          "Parda",
          "Parda",
          "Parda",
          "Parda",
          "Não quero declarar.",
          "Parda",
          "Parda",
          "Parda",
          "Branca",
          "Branca",
          "Não quero declarar.",
          "Parda",
          "Parda",
          "Parda",
          "Branca",
          "Branca",
          "Parda",
          "Parda",
          "Parda",
          "Preta",
          "Parda",
          "Parda",
          "Parda",
          "Parda",
          "Parda",
          "Parda",
          "Branca",
          "Parda",
          "Parda",
          "Branca",
          "Parda",
          "Parda",
          "Branca",
          "Parda",
          "Preta",
          "Parda",
          "Preta",
          "Parda",
          "Parda",
          "Parda",
          "Parda",
          "Parda",
          "Branca",
          "Branca",
          "Parda",
          "Parda",
          "Parda",
          "Parda",
          "Branca",
          "Branca",
          "Parda",
          "Parda",
          "Parda",
          "Parda",
          "Branca",
          "Branca",
          "Preta",
          "Parda",
          "Preta",
          "Parda",
          "Parda",
          "Parda",
          "Parda",
          "Parda",
          "Branca",
          "Parda",
          "Parda",
          "Branca",
          "Parda",
          "Não quero declarar.",
          "Branca",
          "Parda",
          "Preta",
          "Parda",
          "Parda",
          "Preta",
          "Parda",
          "Preta",
          "Parda",
          "Parda",
          "Parda",
          "Branca",
          "Branca",
          "Branca",
          "Preta",
          "Branca",
          "Branca",
          "Preta",
          "Não quero declarar.",
          "Preta",
          "Parda",
          "Parda",
          "Parda",
          "Parda",
          "Parda",
          "Parda",
          "Parda",
          "Preta",
          "Amarela",
          "Parda",
          "Preta",
          "Parda",
          "Parda",
          "Branca",
          "Parda",
          "Parda",
          "Preta",
          "Branca",
          "Parda",
          "Branca",
          "Parda",
          "Amarela",
          "Preta",
          "Parda",
          "Parda",
          "Branca",
          "Branca",
          "Parda",
          "Parda",
          "Preta",
          "Branca",
          "Parda",
          "Preta",
          "Parda",
          "Parda",
          "Parda",
          "Parda",
          "Parda",
          "Parda",
          "Branca",
          "Parda",
          "Branca",
          "Branca",
          "Branca",
          "Preta",
          "Parda",
          "Parda",
          "Preta",
          "Parda",
          "Parda",
          "Parda",
          "Não quero declarar.",
          "Parda",
          "Parda",
          "Branca",
          "Parda",
          "Branca",
          "Branca",
          "Branca",
          "Parda",
          "Branca",
          "Parda",
          "Parda",
          "Branca",
          "Parda",
          "Branca",
          "Parda",
          "Parda",
          "Parda",
          "Branca",
          "Parda",
          "Branca",
          "Branca",
          "Parda",
          "Parda",
          "Não quero declarar.",
          "Branca",
          "Preta",
          "Parda",
          "Branca",
          "Preta",
          "Parda",
          "Parda",
          "Preta",
          "Não quero declarar.",
          "Preta",
          "Branca",
          "Preta",
          "Branca",
          "Não quero declarar.",
          "Parda",
          "Parda",
          "Preta",
          "Parda",
          "Branca",
          "Parda",
          "Branca",
          "Parda",
          "Não quero declarar.",
          "Parda",
          "Preta",
          "Preta",
          "Preta",
          "Parda",
          "Amarela",
          "Parda",
          "Branca",
          "Preta",
          "Branca",
          "Branca",
          "Parda",
          "Branca",
          "Parda",
          "Branca",
          "Parda",
          "Branca",
          "Preta",
          "Parda",
          "Parda",
          "Branca",
          "Amarela",
          "Preta",
          "Parda",
          "Branca",
          "Parda",
          "Preta",
          "Parda",
          "Parda",
          "Parda",
          "Parda",
          "Parda",
          "Branca",
          "Branca",
          "Branca",
          "Parda",
          "Parda",
          "Preta",
          "Preta",
          "Branca",
          "Parda",
          "Parda",
          "Amarela",
          "Parda",
          "Parda",
          "Preta",
          "Preta",
          "Parda",
          "Parda",
          "Preta",
          "Branca",
          "Branca",
          "Parda",
          "Branca",
          "Parda",
          "Não quero declarar.",
          "Parda",
          "Parda",
          "Branca",
          "Parda",
          "Parda",
          "Preta",
          "Branca",
          "Indígena.",
          "Parda",
          "Preta",
          "Parda",
          "Parda",
          "Branca",
          "Parda",
          "Parda",
          "Parda",
          "Parda",
          "Parda",
          "Branca",
          "Parda",
          "Branca",
          "Preta",
          "Branca",
          "Parda",
          "Branca",
          "Parda",
          "Parda",
          "Parda",
          "Parda",
          "Parda",
          "Parda",
          "Parda",
          "Parda",
          "Branca",
          "Parda",
          "Parda",
          "Branca",
          "Parda",
          "Parda",
          "Parda",
          "Branca",
          "Branca",
          "Parda",
          "Parda",
          "Branca",
          "Branca",
          "Não quero declarar.",
          "Parda",
          "Parda",
          "Preta",
          "Branca",
          "Branca",
          "Preta",
          "Branca",
          "Parda",
          "Preta",
          "Parda",
          "Parda",
          "Parda",
          "Parda",
          "Branca",
          "Parda",
          "Parda",
          "Parda",
          "Parda",
          "Indígena.",
          "Parda",
          "Parda",
          "Parda",
          "Parda",
          "Parda",
          "Branca",
          "Branca",
          "Preta",
          "Parda",
          "Preta",
          "Branca",
          "Preta",
          "Parda",
          "Parda",
          "Branca",
          "Não quero declarar.",
          "Preta",
          "Não quero declarar.",
          "Parda",
          "Branca",
          "Parda",
          "Parda",
          "Branca",
          "Preta",
          "Parda",
          "Preta",
          "Preta",
          "Parda",
          "Branca",
          "Parda",
          "Parda",
          "Parda",
          "Branca",
          "Branca",
          "Parda",
          "Branca",
          "Branca",
          "Branca",
          "Branca",
          "Parda",
          "Parda",
          "Branca",
          "Parda",
          "Parda",
          "Parda",
          "Parda",
          "Parda",
          "Parda",
          "Amarela",
          "Branca",
          "Parda",
          "Preta",
          "Preta",
          "Parda",
          "Parda",
          "Parda",
          "Parda",
          "Branca",
          "Preta",
          "Parda",
          "Branca",
          "Parda",
          "Parda",
          "Parda",
          "Parda",
          "Preta",
          "Amarela",
          "Parda",
          "Parda",
          "Parda",
          "Parda",
          "Parda",
          "Branca",
          "Parda",
          "Parda",
          "Branca",
          "Parda",
          "Preta",
          "Parda",
          "Parda",
          "Parda",
          "Branca",
          "Branca",
          "Branca",
          "Branca",
          "Amarela",
          "Branca",
          "Parda",
          "Branca",
          "Parda",
          "Parda",
          "Parda",
          "Preta",
          "Parda",
          "Parda",
          "Parda",
          "Parda",
          "Branca",
          "Parda",
          "Parda",
          "Branca",
          "Branca",
          "Parda",
          "Parda",
          "Parda",
          "Amarela",
          "Parda",
          "Preta",
          "Parda",
          "Parda",
          "Branca",
          "Branca",
          "Parda",
          "Parda",
          "Parda",
          "Preta",
          "Parda",
          "Branca",
          "Preta",
          "Parda",
          "Parda",
          "Branca",
          "Branca",
          "Branca",
          "Parda",
          "Parda",
          "Parda",
          "Amarela",
          "Parda",
          "Branca",
          "Parda",
          "Parda",
          "Parda",
          "Branca",
          "Branca",
          "Parda",
          "Preta",
          "Parda",
          "Parda",
          "Branca",
          "Parda",
          "Branca",
          "Preta",
          "Parda",
          "Branca",
          "Preta",
          "Preta",
          "Parda",
          "Parda",
          "Preta",
          "Preta",
          "Parda",
          "Branca",
          "Parda",
          "Parda",
          "Amarela",
          "Parda",
          "Branca",
          "Parda",
          "Parda",
          "Parda",
          "Preta",
          "Parda",
          "Parda",
          "Parda",
          "Parda",
          "Branca",
          "Parda",
          "Parda",
          "Preta",
          "Parda",
          "Parda",
          "Parda",
          "Parda",
          "Branca",
          "Parda",
          "Parda",
          "Parda",
          "Parda",
          "Branca",
          "Parda",
          "Preta",
          "Branca",
          "Parda",
          "Parda",
          "Parda",
          "Parda",
          "Parda",
          "Parda",
          "Parda",
          "Branca",
          "Parda",
          "Parda",
          "Parda",
          "Amarela",
          "Parda",
          "Branca",
          "Parda",
          "Preta",
          "Branca",
          "Parda",
          "Não quero declarar.",
          "Branca",
          "Parda",
          "Preta",
          "Parda",
          "Branca",
          "Parda",
          "Parda",
          "Branca",
          "Parda",
          "Branca",
          "Parda",
          "Preta",
          "Branca",
          "Indígena.",
          "Parda",
          "Parda",
          "Parda",
          "Branca",
          "Preta",
          "Parda",
          "Parda",
          "Preta",
          "Branca",
          "Preta",
          "Branca",
          "Branca",
          "Preta",
          "Parda",
          "Parda",
          "Branca",
          "Parda",
          "Branca",
          "Parda",
          "Não quero declarar.",
          "Parda",
          "Branca",
          "Preta",
          "Parda",
          "Preta",
          "Parda",
          "Parda",
          "Preta",
          "Parda",
          "Parda",
          "Parda",
          "Branca",
          "Parda",
          "Branca",
          "Preta",
          "Preta",
          "Branca",
          "Preta",
          "Parda",
          "Branca",
          "Branca",
          "Amarela",
          "Parda",
          "Branca",
          "Branca",
          "Parda",
          "Branca",
          "Parda",
          "Parda",
          "Amarela",
          "Branca",
          "Branca",
          "Parda",
          "Parda",
          "Branca",
          "Branca",
          "Parda",
          "Amarela",
          "Parda",
          "Parda",
          "Parda",
          "Parda",
          "Parda",
          "Preta",
          "Preta",
          "Branca",
          "Branca",
          "Parda",
          "Branca",
          "Parda",
          "Preta",
          "Parda",
          "Branca",
          "Parda",
          "Branca",
          "Branca",
          "Parda",
          "Parda",
          "Parda",
          "Parda",
          "Preta",
          "Parda",
          "Branca",
          "Parda",
          "Parda",
          "Preta",
          "Branca",
          "Branca",
          "Branca",
          "Branca",
          "Branca",
          "Preta",
          "Branca",
          "Parda",
          "Preta",
          "Branca",
          "Parda",
          "Parda",
          "Preta",
          "Preta",
          "Preta",
          "Branca",
          "Parda",
          "Preta",
          "Parda",
          "Parda",
          "Parda",
          "Parda",
          "Preta",
          "Preta",
          "Preta",
          "Parda",
          "Parda",
          "Parda",
          "Parda",
          "Parda",
          "Parda",
          "Parda",
          "Branca",
          "Parda",
          "Parda",
          "Branca",
          "Preta",
          "Preta",
          "Parda",
          "Não quero declarar.",
          "Parda",
          "Preta",
          "Parda",
          "Parda",
          "Parda",
          "Preta",
          "Parda",
          "Parda",
          "Parda",
          "Parda",
          "Preta",
          "Parda",
          "Parda",
          "Parda",
          "Parda",
          "Parda",
          "Branca",
          "Parda",
          "Parda",
          "Preta",
          "Branca",
          "Parda",
          "Parda",
          "Branca",
          "Parda",
          "Parda",
          "Preta",
          "Parda",
          "Branca",
          "Preta",
          "Branca",
          "Branca",
          "Branca",
          "Parda",
          "Parda",
          "Parda",
          "Branca",
          "Parda",
          "Parda",
          "Parda",
          "Parda",
          "Parda",
          "Branca",
          "Não quero declarar.",
          "Parda",
          "Não quero declarar.",
          "Parda",
          "Preta",
          "Parda",
          "Parda",
          "Parda",
          "Não quero declarar.",
          "Parda",
          "Branca",
          "Parda",
          "Parda",
          "Parda",
          "Branca",
          "Parda",
          "Preta",
          "Parda",
          "Parda",
          "Branca",
          "Preta",
          "Branca",
          "Parda",
          "Parda",
          "Parda",
          "Parda",
          "Parda",
          "Parda",
          "Não quero declarar.",
          "Parda",
          "Parda",
          "Parda"
         ],
         "x0": " ",
         "xaxis": "x",
         "y": [
          77.8,
          39.7,
          46,
          70.5,
          56.7,
          50.9,
          44.4,
          62.9,
          38.3,
          68.5,
          48.4,
          50.1,
          28,
          43.2,
          41.9,
          54.1,
          45.4,
          77,
          69.6,
          37.8,
          42.8,
          73.6,
          46.2,
          43.8,
          34.5,
          53.4,
          79.7,
          60.2,
          44.8,
          35.2,
          58.3,
          75.7,
          60.8,
          45,
          70.9,
          39.4,
          58.6,
          47.7,
          62.6,
          47.5,
          57.7,
          56.1,
          62,
          29.4,
          55.9,
          58.3,
          53.8,
          47,
          49.8,
          38.2,
          45.5,
          54.2,
          68.8,
          38.2,
          73.3,
          53.1,
          62.6,
          41.3,
          41.9,
          22.9,
          67.4,
          60.8,
          62.7,
          52.7,
          60.1,
          47.7,
          39.9,
          47.2,
          39,
          51.8,
          60,
          47.6,
          34,
          55,
          54.4,
          61.5,
          55.4,
          72.3,
          60.9,
          38.6,
          57,
          31.6,
          59.2,
          64.7,
          30.3,
          36.2,
          43.9,
          46.7,
          36.7,
          51.3,
          37.5,
          49,
          51.2,
          51,
          63.3,
          27.7,
          42.8,
          55.7,
          54.9,
          43.6,
          56.4,
          47.6,
          55.8,
          67.8,
          55.8,
          47.8,
          45.5,
          37.3,
          47.1,
          45.2,
          59.6,
          32.5,
          52.4,
          24.1,
          39.3,
          51.6,
          54,
          57,
          64.1,
          42.3,
          73.9,
          65.1,
          32.9,
          52.9,
          45.7,
          51.4,
          42.1,
          34.9,
          47.5,
          52.6,
          49.2,
          48.6,
          48.8,
          45.3,
          45.1,
          31.1,
          48.7,
          58.2,
          28,
          68.4,
          28.8,
          33.2,
          34.1,
          35,
          28.5,
          45.4,
          41.9,
          27.6,
          57.5,
          18.5,
          35.9,
          65.5,
          56.5,
          43.9,
          25.6,
          0,
          38.8,
          41.9,
          60.9,
          38.4,
          41.3,
          41.6,
          51.4,
          57.4,
          37.2,
          44.2,
          48.7,
          34.8,
          38.7,
          61.9,
          40.4,
          36.4,
          63.3,
          17.5,
          35,
          42.2,
          40.6,
          44.2,
          56.4,
          39.5,
          24.6,
          46.9,
          49.4,
          47.5,
          53.9,
          46.4,
          28.2,
          33.4,
          35.7,
          51.1,
          39.5,
          26.2,
          48.8,
          44.7,
          39.1,
          39.6,
          67.7,
          30.6,
          36.2,
          43,
          30.2,
          40.8,
          39.1,
          25.1,
          32.6,
          23.1,
          33.5,
          43.1,
          23,
          30.5,
          32.6,
          18.8,
          42.3,
          30,
          49.2,
          35.2,
          59.1,
          21.9,
          49.3,
          46.7,
          25.9,
          26.7,
          39.7,
          37,
          17.5,
          40.4,
          35.4,
          31.3,
          45.6,
          28.1,
          20.6,
          25.5,
          45.4,
          32.1,
          24.5,
          32,
          56.1,
          50,
          22.5,
          20.9,
          25.3,
          34.2,
          31.4,
          33.2,
          53.5,
          39.2,
          56.4,
          38.8,
          68.6,
          74.1,
          21.2,
          22.2,
          40,
          20.7,
          51.2,
          24.6,
          34.1,
          63.7,
          21.3,
          69.9,
          31.5,
          45.7,
          42.1,
          37.3,
          29.9,
          31.3,
          36.4,
          31.1,
          40.3,
          59.2,
          46.7,
          27.9,
          28.8,
          36,
          31.6,
          32.1,
          66.7,
          42.7,
          43.4,
          19.9,
          54.3,
          45,
          31.3,
          37.7,
          16.6,
          49.7,
          27.7,
          35.3,
          23.2,
          50.6,
          32.7,
          0,
          40.3,
          51.8,
          33,
          39.2,
          12.9,
          18.9,
          36.3,
          47.1,
          54.6,
          46.9,
          45.9,
          21.3,
          48.9,
          45.7,
          43.6,
          57.5,
          37.2,
          63.3,
          35.3,
          26.2,
          42.5,
          29.9,
          16.7,
          35,
          27.4,
          55.8,
          25.1,
          62.5,
          26.6,
          36.2,
          17.3,
          19.5,
          38.2,
          38.3,
          37,
          28.1,
          34,
          68.9,
          19.7,
          35.5,
          15.7,
          29.1,
          24.7,
          55.3,
          26.2,
          38.9,
          23.2,
          20.9,
          34.7,
          48.1,
          23.2,
          28.6,
          51.9,
          44.5,
          40,
          16.3,
          34.5,
          40.2,
          49.1,
          31.3,
          44.2,
          39.2,
          25.6,
          37.7,
          38.7,
          52.9,
          62.3,
          39.3,
          40.4,
          49.6,
          45.4,
          52.9,
          43,
          45.6,
          40.1,
          34,
          32.6,
          58.4,
          30.8,
          35.5,
          23.4,
          37.4,
          52.4,
          41.8,
          32.3,
          33.7,
          16.9,
          46.9,
          28.7,
          36.9,
          61.5,
          34.8,
          33.6,
          58,
          34.5,
          19.5,
          23.7,
          33.3,
          39.5,
          57.3,
          29.8,
          30.3,
          33.8,
          45.6,
          51.3,
          37.7,
          38.6,
          52.5,
          26.6,
          46.2,
          25.9,
          58.8,
          39.7,
          28.8,
          36.3,
          36.9,
          41,
          48.5,
          36.4,
          38,
          32.7,
          28,
          49.7,
          31.9,
          61.6,
          29.6,
          12.5,
          31.3,
          13.5,
          49.4,
          39.9,
          32.4,
          36.6,
          37.2,
          28.1,
          34.6,
          15.7,
          53,
          43.2,
          49.7,
          68.1,
          52.4,
          54.1,
          49.1,
          54.7,
          55,
          63.4,
          43.5,
          45.5,
          40.5,
          51.7,
          52.2,
          60.3,
          58.8,
          49.9,
          49.3,
          51.9,
          58.9,
          59.7,
          52.1,
          52.6,
          49,
          67.7,
          57.9,
          48,
          61.7,
          34.4,
          33.1,
          43,
          36.3,
          43.3,
          16,
          26.1,
          18.7,
          34.9,
          31.6,
          41.1,
          46.5,
          33.5,
          41.8,
          21.4,
          33.1,
          20.1,
          39.5,
          43.8,
          26.6,
          26.2,
          28.8,
          42.3,
          39.5,
          38.3,
          35.1,
          54.5,
          29.9,
          25.2,
          45.6,
          44.7,
          25.4,
          35.1,
          50.8,
          60,
          58.6,
          37.4,
          41.6,
          52.9,
          16.8,
          33.5,
          38.1,
          30.1,
          38,
          30.9,
          17.4,
          22,
          20.6,
          37.9,
          49.5,
          29.7,
          48.8,
          15.6,
          52.9,
          20.4,
          45.1,
          41.8,
          30.9,
          21.6,
          58.3,
          21,
          36.8,
          29.5,
          49.5,
          65,
          40.2,
          54.8,
          42.5,
          61.1,
          42.4,
          59.1,
          23.9,
          43.8,
          38.4,
          30.6,
          54.8,
          37.2,
          33.4,
          52.1,
          48,
          47,
          49.7,
          58.8,
          37.1,
          38.2,
          39.8,
          12.6,
          47.1,
          42.4,
          18.6,
          51,
          35.8,
          39.5,
          29.4,
          19,
          29.1,
          34.8,
          21.6,
          23.6,
          25.9,
          30.9,
          27.6,
          26.3,
          36.7,
          24.2,
          26,
          36.5,
          30.1,
          26.2,
          20.1,
          20.9,
          34.9,
          25.6,
          21.6,
          24.1,
          47.7,
          29.7,
          23.2,
          30.9,
          23.2,
          20.5,
          26.5,
          29.8,
          30,
          42.4,
          29.3,
          62.2,
          14.7,
          39.5,
          23.8,
          20.3,
          31.9,
          39.8,
          25.9,
          46.3,
          38.1,
          33.5,
          29.4,
          36.3,
          29.3,
          35.2,
          32,
          44.3,
          21.1,
          25.9,
          41.5,
          45.7,
          28.2,
          30.1,
          30.1,
          36.8,
          54.7,
          31.3,
          36.2,
          32.1,
          54.7,
          42.5,
          19.5,
          66.2,
          25.7,
          35.9,
          32.4,
          48.9,
          26.6,
          30.4,
          37.3,
          32.3,
          35,
          46.4,
          42.1,
          38.8,
          50.6,
          36.2,
          22.5,
          31,
          34.6,
          42,
          47.2,
          29.1,
          39.4,
          20.3,
          40.4,
          28.9,
          19.8,
          39.6,
          52.4,
          52.3,
          45.9,
          28.5,
          27.9,
          48.1,
          24.9,
          45.7,
          33,
          43,
          47,
          52.3,
          50.1,
          60.6,
          66.5,
          50.2,
          51.7,
          57.3,
          39.4,
          57.7,
          57.7,
          58.7,
          59.3,
          70.5,
          42.7,
          57.9,
          55.9,
          39.9,
          30.2,
          42.8,
          40.1,
          57.2,
          48.2,
          54.9,
          65.5,
          70.7,
          65,
          58.4,
          57.9,
          36.3,
          60.3,
          65.2,
          51.1,
          51.2,
          45.5,
          57.9,
          51.7,
          44.7,
          49.6,
          49.4,
          53,
          45.3,
          42.7,
          57.6,
          38.5,
          53.2,
          51.8,
          55.2,
          45.2,
          45.2,
          54,
          51.1,
          43.9,
          52.7,
          33,
          23.9,
          32.3,
          43.7,
          39.5,
          57.9,
          58.8,
          29.8,
          47.4,
          65.9,
          48,
          45.8,
          46.6,
          51,
          37.1,
          56.2,
          34.5,
          31.9,
          48.9,
          50,
          45.7,
          70.4,
          63.4,
          30.9,
          48.8,
          69.7,
          57,
          57.8,
          39.6,
          34.8,
          24.2,
          35.4,
          52.1,
          61.1,
          53.3,
          40.2,
          69.8,
          43.3,
          56.4,
          54.3,
          42.6,
          36.9,
          43.2,
          53.2,
          37.7,
          36.5,
          33.8,
          41.8,
          48.3,
          57.6,
          54.1,
          50,
          68.4,
          17.8,
          30.1,
          15.4,
          25.4,
          20.5,
          29.5,
          40.3,
          24.3,
          28.6,
          23.8,
          30.3,
          22.8,
          57.2,
          32.7,
          36.4,
          18.7,
          22,
          42.2,
          29,
          44.9,
          34,
          40.3,
          42.8,
          46.6,
          33.7,
          35.2,
          31.1,
          37.7,
          43,
          37.5,
          15.8,
          31.8,
          32.1,
          38.8,
          39.9,
          23.3,
          33.6,
          15,
          34.2,
          27.9,
          33.8,
          30,
          19.9,
          40.6,
          28.8,
          24.2,
          62,
          42,
          55,
          21.6,
          49.9,
          10,
          36.6,
          28.8,
          55.5,
          27.6,
          20.9,
          17.6,
          27,
          43.9,
          29.7,
          41.5,
          13.2,
          42
         ],
         "y0": " ",
         "yaxis": "y"
        }
       ],
       "layout": {
        "boxmode": "group",
        "legend": {
         "tracegroupgap": 0
        },
        "margin": {
         "t": 60
        },
        "template": {
         "data": {
          "bar": [
           {
            "error_x": {
             "color": "#2a3f5f"
            },
            "error_y": {
             "color": "#2a3f5f"
            },
            "marker": {
             "line": {
              "color": "#E5ECF6",
              "width": 0.5
             }
            },
            "type": "bar"
           }
          ],
          "barpolar": [
           {
            "marker": {
             "line": {
              "color": "#E5ECF6",
              "width": 0.5
             }
            },
            "type": "barpolar"
           }
          ],
          "carpet": [
           {
            "aaxis": {
             "endlinecolor": "#2a3f5f",
             "gridcolor": "white",
             "linecolor": "white",
             "minorgridcolor": "white",
             "startlinecolor": "#2a3f5f"
            },
            "baxis": {
             "endlinecolor": "#2a3f5f",
             "gridcolor": "white",
             "linecolor": "white",
             "minorgridcolor": "white",
             "startlinecolor": "#2a3f5f"
            },
            "type": "carpet"
           }
          ],
          "choropleth": [
           {
            "colorbar": {
             "outlinewidth": 0,
             "ticks": ""
            },
            "type": "choropleth"
           }
          ],
          "contour": [
           {
            "colorbar": {
             "outlinewidth": 0,
             "ticks": ""
            },
            "colorscale": [
             [
              0,
              "#0d0887"
             ],
             [
              0.1111111111111111,
              "#46039f"
             ],
             [
              0.2222222222222222,
              "#7201a8"
             ],
             [
              0.3333333333333333,
              "#9c179e"
             ],
             [
              0.4444444444444444,
              "#bd3786"
             ],
             [
              0.5555555555555556,
              "#d8576b"
             ],
             [
              0.6666666666666666,
              "#ed7953"
             ],
             [
              0.7777777777777778,
              "#fb9f3a"
             ],
             [
              0.8888888888888888,
              "#fdca26"
             ],
             [
              1,
              "#f0f921"
             ]
            ],
            "type": "contour"
           }
          ],
          "contourcarpet": [
           {
            "colorbar": {
             "outlinewidth": 0,
             "ticks": ""
            },
            "type": "contourcarpet"
           }
          ],
          "heatmap": [
           {
            "colorbar": {
             "outlinewidth": 0,
             "ticks": ""
            },
            "colorscale": [
             [
              0,
              "#0d0887"
             ],
             [
              0.1111111111111111,
              "#46039f"
             ],
             [
              0.2222222222222222,
              "#7201a8"
             ],
             [
              0.3333333333333333,
              "#9c179e"
             ],
             [
              0.4444444444444444,
              "#bd3786"
             ],
             [
              0.5555555555555556,
              "#d8576b"
             ],
             [
              0.6666666666666666,
              "#ed7953"
             ],
             [
              0.7777777777777778,
              "#fb9f3a"
             ],
             [
              0.8888888888888888,
              "#fdca26"
             ],
             [
              1,
              "#f0f921"
             ]
            ],
            "type": "heatmap"
           }
          ],
          "heatmapgl": [
           {
            "colorbar": {
             "outlinewidth": 0,
             "ticks": ""
            },
            "colorscale": [
             [
              0,
              "#0d0887"
             ],
             [
              0.1111111111111111,
              "#46039f"
             ],
             [
              0.2222222222222222,
              "#7201a8"
             ],
             [
              0.3333333333333333,
              "#9c179e"
             ],
             [
              0.4444444444444444,
              "#bd3786"
             ],
             [
              0.5555555555555556,
              "#d8576b"
             ],
             [
              0.6666666666666666,
              "#ed7953"
             ],
             [
              0.7777777777777778,
              "#fb9f3a"
             ],
             [
              0.8888888888888888,
              "#fdca26"
             ],
             [
              1,
              "#f0f921"
             ]
            ],
            "type": "heatmapgl"
           }
          ],
          "histogram": [
           {
            "marker": {
             "colorbar": {
              "outlinewidth": 0,
              "ticks": ""
             }
            },
            "type": "histogram"
           }
          ],
          "histogram2d": [
           {
            "colorbar": {
             "outlinewidth": 0,
             "ticks": ""
            },
            "colorscale": [
             [
              0,
              "#0d0887"
             ],
             [
              0.1111111111111111,
              "#46039f"
             ],
             [
              0.2222222222222222,
              "#7201a8"
             ],
             [
              0.3333333333333333,
              "#9c179e"
             ],
             [
              0.4444444444444444,
              "#bd3786"
             ],
             [
              0.5555555555555556,
              "#d8576b"
             ],
             [
              0.6666666666666666,
              "#ed7953"
             ],
             [
              0.7777777777777778,
              "#fb9f3a"
             ],
             [
              0.8888888888888888,
              "#fdca26"
             ],
             [
              1,
              "#f0f921"
             ]
            ],
            "type": "histogram2d"
           }
          ],
          "histogram2dcontour": [
           {
            "colorbar": {
             "outlinewidth": 0,
             "ticks": ""
            },
            "colorscale": [
             [
              0,
              "#0d0887"
             ],
             [
              0.1111111111111111,
              "#46039f"
             ],
             [
              0.2222222222222222,
              "#7201a8"
             ],
             [
              0.3333333333333333,
              "#9c179e"
             ],
             [
              0.4444444444444444,
              "#bd3786"
             ],
             [
              0.5555555555555556,
              "#d8576b"
             ],
             [
              0.6666666666666666,
              "#ed7953"
             ],
             [
              0.7777777777777778,
              "#fb9f3a"
             ],
             [
              0.8888888888888888,
              "#fdca26"
             ],
             [
              1,
              "#f0f921"
             ]
            ],
            "type": "histogram2dcontour"
           }
          ],
          "mesh3d": [
           {
            "colorbar": {
             "outlinewidth": 0,
             "ticks": ""
            },
            "type": "mesh3d"
           }
          ],
          "parcoords": [
           {
            "line": {
             "colorbar": {
              "outlinewidth": 0,
              "ticks": ""
             }
            },
            "type": "parcoords"
           }
          ],
          "pie": [
           {
            "automargin": true,
            "type": "pie"
           }
          ],
          "scatter": [
           {
            "marker": {
             "colorbar": {
              "outlinewidth": 0,
              "ticks": ""
             }
            },
            "type": "scatter"
           }
          ],
          "scatter3d": [
           {
            "line": {
             "colorbar": {
              "outlinewidth": 0,
              "ticks": ""
             }
            },
            "marker": {
             "colorbar": {
              "outlinewidth": 0,
              "ticks": ""
             }
            },
            "type": "scatter3d"
           }
          ],
          "scattercarpet": [
           {
            "marker": {
             "colorbar": {
              "outlinewidth": 0,
              "ticks": ""
             }
            },
            "type": "scattercarpet"
           }
          ],
          "scattergeo": [
           {
            "marker": {
             "colorbar": {
              "outlinewidth": 0,
              "ticks": ""
             }
            },
            "type": "scattergeo"
           }
          ],
          "scattergl": [
           {
            "marker": {
             "colorbar": {
              "outlinewidth": 0,
              "ticks": ""
             }
            },
            "type": "scattergl"
           }
          ],
          "scattermapbox": [
           {
            "marker": {
             "colorbar": {
              "outlinewidth": 0,
              "ticks": ""
             }
            },
            "type": "scattermapbox"
           }
          ],
          "scatterpolar": [
           {
            "marker": {
             "colorbar": {
              "outlinewidth": 0,
              "ticks": ""
             }
            },
            "type": "scatterpolar"
           }
          ],
          "scatterpolargl": [
           {
            "marker": {
             "colorbar": {
              "outlinewidth": 0,
              "ticks": ""
             }
            },
            "type": "scatterpolargl"
           }
          ],
          "scatterternary": [
           {
            "marker": {
             "colorbar": {
              "outlinewidth": 0,
              "ticks": ""
             }
            },
            "type": "scatterternary"
           }
          ],
          "surface": [
           {
            "colorbar": {
             "outlinewidth": 0,
             "ticks": ""
            },
            "colorscale": [
             [
              0,
              "#0d0887"
             ],
             [
              0.1111111111111111,
              "#46039f"
             ],
             [
              0.2222222222222222,
              "#7201a8"
             ],
             [
              0.3333333333333333,
              "#9c179e"
             ],
             [
              0.4444444444444444,
              "#bd3786"
             ],
             [
              0.5555555555555556,
              "#d8576b"
             ],
             [
              0.6666666666666666,
              "#ed7953"
             ],
             [
              0.7777777777777778,
              "#fb9f3a"
             ],
             [
              0.8888888888888888,
              "#fdca26"
             ],
             [
              1,
              "#f0f921"
             ]
            ],
            "type": "surface"
           }
          ],
          "table": [
           {
            "cells": {
             "fill": {
              "color": "#EBF0F8"
             },
             "line": {
              "color": "white"
             }
            },
            "header": {
             "fill": {
              "color": "#C8D4E3"
             },
             "line": {
              "color": "white"
             }
            },
            "type": "table"
           }
          ]
         },
         "layout": {
          "annotationdefaults": {
           "arrowcolor": "#2a3f5f",
           "arrowhead": 0,
           "arrowwidth": 1
          },
          "autotypenumbers": "strict",
          "coloraxis": {
           "colorbar": {
            "outlinewidth": 0,
            "ticks": ""
           }
          },
          "colorscale": {
           "diverging": [
            [
             0,
             "#8e0152"
            ],
            [
             0.1,
             "#c51b7d"
            ],
            [
             0.2,
             "#de77ae"
            ],
            [
             0.3,
             "#f1b6da"
            ],
            [
             0.4,
             "#fde0ef"
            ],
            [
             0.5,
             "#f7f7f7"
            ],
            [
             0.6,
             "#e6f5d0"
            ],
            [
             0.7,
             "#b8e186"
            ],
            [
             0.8,
             "#7fbc41"
            ],
            [
             0.9,
             "#4d9221"
            ],
            [
             1,
             "#276419"
            ]
           ],
           "sequential": [
            [
             0,
             "#0d0887"
            ],
            [
             0.1111111111111111,
             "#46039f"
            ],
            [
             0.2222222222222222,
             "#7201a8"
            ],
            [
             0.3333333333333333,
             "#9c179e"
            ],
            [
             0.4444444444444444,
             "#bd3786"
            ],
            [
             0.5555555555555556,
             "#d8576b"
            ],
            [
             0.6666666666666666,
             "#ed7953"
            ],
            [
             0.7777777777777778,
             "#fb9f3a"
            ],
            [
             0.8888888888888888,
             "#fdca26"
            ],
            [
             1,
             "#f0f921"
            ]
           ],
           "sequentialminus": [
            [
             0,
             "#0d0887"
            ],
            [
             0.1111111111111111,
             "#46039f"
            ],
            [
             0.2222222222222222,
             "#7201a8"
            ],
            [
             0.3333333333333333,
             "#9c179e"
            ],
            [
             0.4444444444444444,
             "#bd3786"
            ],
            [
             0.5555555555555556,
             "#d8576b"
            ],
            [
             0.6666666666666666,
             "#ed7953"
            ],
            [
             0.7777777777777778,
             "#fb9f3a"
            ],
            [
             0.8888888888888888,
             "#fdca26"
            ],
            [
             1,
             "#f0f921"
            ]
           ]
          },
          "colorway": [
           "#636efa",
           "#EF553B",
           "#00cc96",
           "#ab63fa",
           "#FFA15A",
           "#19d3f3",
           "#FF6692",
           "#B6E880",
           "#FF97FF",
           "#FECB52"
          ],
          "font": {
           "color": "#2a3f5f"
          },
          "geo": {
           "bgcolor": "white",
           "lakecolor": "white",
           "landcolor": "#E5ECF6",
           "showlakes": true,
           "showland": true,
           "subunitcolor": "white"
          },
          "hoverlabel": {
           "align": "left"
          },
          "hovermode": "closest",
          "mapbox": {
           "style": "light"
          },
          "paper_bgcolor": "white",
          "plot_bgcolor": "#E5ECF6",
          "polar": {
           "angularaxis": {
            "gridcolor": "white",
            "linecolor": "white",
            "ticks": ""
           },
           "bgcolor": "#E5ECF6",
           "radialaxis": {
            "gridcolor": "white",
            "linecolor": "white",
            "ticks": ""
           }
          },
          "scene": {
           "xaxis": {
            "backgroundcolor": "#E5ECF6",
            "gridcolor": "white",
            "gridwidth": 2,
            "linecolor": "white",
            "showbackground": true,
            "ticks": "",
            "zerolinecolor": "white"
           },
           "yaxis": {
            "backgroundcolor": "#E5ECF6",
            "gridcolor": "white",
            "gridwidth": 2,
            "linecolor": "white",
            "showbackground": true,
            "ticks": "",
            "zerolinecolor": "white"
           },
           "zaxis": {
            "backgroundcolor": "#E5ECF6",
            "gridcolor": "white",
            "gridwidth": 2,
            "linecolor": "white",
            "showbackground": true,
            "ticks": "",
            "zerolinecolor": "white"
           }
          },
          "shapedefaults": {
           "line": {
            "color": "#2a3f5f"
           }
          },
          "ternary": {
           "aaxis": {
            "gridcolor": "white",
            "linecolor": "white",
            "ticks": ""
           },
           "baxis": {
            "gridcolor": "white",
            "linecolor": "white",
            "ticks": ""
           },
           "bgcolor": "#E5ECF6",
           "caxis": {
            "gridcolor": "white",
            "linecolor": "white",
            "ticks": ""
           }
          },
          "title": {
           "x": 0.05
          },
          "xaxis": {
           "automargin": true,
           "gridcolor": "white",
           "linecolor": "white",
           "ticks": "",
           "title": {
            "standoff": 15
           },
           "zerolinecolor": "white",
           "zerolinewidth": 2
          },
          "yaxis": {
           "automargin": true,
           "gridcolor": "white",
           "linecolor": "white",
           "ticks": "",
           "title": {
            "standoff": 15
           },
           "zerolinecolor": "white",
           "zerolinewidth": 2
          }
         }
        },
        "xaxis": {
         "anchor": "y",
         "domain": [
          0,
          1
         ],
         "title": {
          "text": "Qual é a sua cor ou raça?"
         }
        },
        "yaxis": {
         "anchor": "x",
         "domain": [
          0,
          1
         ],
         "title": {
          "text": "NOTA PROVA"
         }
        }
       }
      },
      "text/html": [
       "<div>                            <div id=\"9b7947ef-9179-4b28-9002-37a5097a6144\" class=\"plotly-graph-div\" style=\"height:525px; width:100%;\"></div>            <script type=\"text/javascript\">                require([\"plotly\"], function(Plotly) {                    window.PLOTLYENV=window.PLOTLYENV || {};                                    if (document.getElementById(\"9b7947ef-9179-4b28-9002-37a5097a6144\")) {                    Plotly.newPlot(                        \"9b7947ef-9179-4b28-9002-37a5097a6144\",                        [{\"alignmentgroup\": \"True\", \"boxpoints\": \"all\", \"hovertemplate\": \"Qual \\u00e9 a sua cor ou ra\\u00e7a?=%{x}<br>NOTA PROVA=%{y}<extra></extra>\", \"legendgroup\": \"\", \"marker\": {\"color\": \"#636efa\"}, \"name\": \"\", \"notched\": false, \"offsetgroup\": \"\", \"orientation\": \"v\", \"showlegend\": false, \"type\": \"box\", \"x\": [\"Branca\", \"Parda\", \"Branca\", \"Branca\", \"Preta\", \"Parda\", \"Parda\", \"Parda\", \"Parda\", \"Parda\", \"Branca\", \"Branca\", \"Preta\", \"Parda\", \"Branca\", \"Parda\", \"Parda\", \"Branca\", \"Preta\", \"Branca\", \"Parda\", \"Preta\", \"Parda\", \"Branca\", \"Parda\", \"Parda\", \"Parda\", \"Branca\", \"Branca\", \"N\\u00e3o quero declarar.\", \"Parda\", \"Parda\", \"Parda\", \"Parda\", \"Branca\", \"Branca\", \"Parda\", \"Branca\", \"Branca\", \"Preta\", \"Parda\", \"Branca\", \"Branca\", \"Preta\", \"Preta\", \"Branca\", \"Parda\", \"Parda\", \"Preta\", \"Parda\", \"N\\u00e3o quero declarar.\", \"Branca\", \"Parda\", \"Preta\", \"Branca\", \"Preta\", \"Parda\", \"Parda\", \"Parda\", \"Parda\", \"Parda\", \"Branca\", \"Parda\", \"Branca\", \"Branca\", \"Parda\", \"Parda\", \"Parda\", \"Parda\", \"Preta\", \"Parda\", \"Parda\", \"Branca\", \"Parda\", \"Parda\", \"Parda\", \"Branca\", \"Branca\", \"Parda\", \"Preta\", \"Parda\", \"N\\u00e3o quero declarar.\", \"Parda\", \"Parda\", \"Branca\", \"Parda\", \"Parda\", \"Parda\", \"Preta\", \"Branca\", \"Parda\", \"Parda\", \"N\\u00e3o quero declarar.\", \"Parda\", \"Parda\", \"Branca\", \"Parda\", \"Parda\", \"Parda\", \"Parda\", \"N\\u00e3o quero declarar.\", \"Parda\", \"Parda\", \"Parda\", \"Branca\", \"Branca\", \"N\\u00e3o quero declarar.\", \"Parda\", \"Parda\", \"Parda\", \"Branca\", \"Branca\", \"Parda\", \"Parda\", \"Parda\", \"Preta\", \"Parda\", \"Parda\", \"Parda\", \"Parda\", \"Parda\", \"Parda\", \"Branca\", \"Parda\", \"Parda\", \"Branca\", \"Parda\", \"Parda\", \"Branca\", \"Parda\", \"Preta\", \"Parda\", \"Preta\", \"Parda\", \"Parda\", \"Parda\", \"Parda\", \"Parda\", \"Branca\", \"Branca\", \"Parda\", \"Parda\", \"Parda\", \"Parda\", \"Branca\", \"Branca\", \"Parda\", \"Parda\", \"Parda\", \"Parda\", \"Branca\", \"Branca\", \"Preta\", \"Parda\", \"Preta\", \"Parda\", \"Parda\", \"Parda\", \"Parda\", \"Parda\", \"Branca\", \"Parda\", \"Parda\", \"Branca\", \"Parda\", \"N\\u00e3o quero declarar.\", \"Branca\", \"Parda\", \"Preta\", \"Parda\", \"Parda\", \"Preta\", \"Parda\", \"Preta\", \"Parda\", \"Parda\", \"Parda\", \"Branca\", \"Branca\", \"Branca\", \"Preta\", \"Branca\", \"Branca\", \"Preta\", \"N\\u00e3o quero declarar.\", \"Preta\", \"Parda\", \"Parda\", \"Parda\", \"Parda\", \"Parda\", \"Parda\", \"Parda\", \"Preta\", \"Amarela\", \"Parda\", \"Preta\", \"Parda\", \"Parda\", \"Branca\", \"Parda\", \"Parda\", \"Preta\", \"Branca\", \"Parda\", \"Branca\", \"Parda\", \"Amarela\", \"Preta\", \"Parda\", \"Parda\", \"Branca\", \"Branca\", \"Parda\", \"Parda\", \"Preta\", \"Branca\", \"Parda\", \"Preta\", \"Parda\", \"Parda\", \"Parda\", \"Parda\", \"Parda\", \"Parda\", \"Branca\", \"Parda\", \"Branca\", \"Branca\", \"Branca\", \"Preta\", \"Parda\", \"Parda\", \"Preta\", \"Parda\", \"Parda\", \"Parda\", \"N\\u00e3o quero declarar.\", \"Parda\", \"Parda\", \"Branca\", \"Parda\", \"Branca\", \"Branca\", \"Branca\", \"Parda\", \"Branca\", \"Parda\", \"Parda\", \"Branca\", \"Parda\", \"Branca\", \"Parda\", \"Parda\", \"Parda\", \"Branca\", \"Parda\", \"Branca\", \"Branca\", \"Parda\", \"Parda\", \"N\\u00e3o quero declarar.\", \"Branca\", \"Preta\", \"Parda\", \"Branca\", \"Preta\", \"Parda\", \"Parda\", \"Preta\", \"N\\u00e3o quero declarar.\", \"Preta\", \"Branca\", \"Preta\", \"Branca\", \"N\\u00e3o quero declarar.\", \"Parda\", \"Parda\", \"Preta\", \"Parda\", \"Branca\", \"Parda\", \"Branca\", \"Parda\", \"N\\u00e3o quero declarar.\", \"Parda\", \"Preta\", \"Preta\", \"Preta\", \"Parda\", \"Amarela\", \"Parda\", \"Branca\", \"Preta\", \"Branca\", \"Branca\", \"Parda\", \"Branca\", \"Parda\", \"Branca\", \"Parda\", \"Branca\", \"Preta\", \"Parda\", \"Parda\", \"Branca\", \"Amarela\", \"Preta\", \"Parda\", \"Branca\", \"Parda\", \"Preta\", \"Parda\", \"Parda\", \"Parda\", \"Parda\", \"Parda\", \"Branca\", \"Branca\", \"Branca\", \"Parda\", \"Parda\", \"Preta\", \"Preta\", \"Branca\", \"Parda\", \"Parda\", \"Amarela\", \"Parda\", \"Parda\", \"Preta\", \"Preta\", \"Parda\", \"Parda\", \"Preta\", \"Branca\", \"Branca\", \"Parda\", \"Branca\", \"Parda\", \"N\\u00e3o quero declarar.\", \"Parda\", \"Parda\", \"Branca\", \"Parda\", \"Parda\", \"Preta\", \"Branca\", \"Ind\\u00edgena.\", \"Parda\", \"Preta\", \"Parda\", \"Parda\", \"Branca\", \"Parda\", \"Parda\", \"Parda\", \"Parda\", \"Parda\", \"Branca\", \"Parda\", \"Branca\", \"Preta\", \"Branca\", \"Parda\", \"Branca\", \"Parda\", \"Parda\", \"Parda\", \"Parda\", \"Parda\", \"Parda\", \"Parda\", \"Parda\", \"Branca\", \"Parda\", \"Parda\", \"Branca\", \"Parda\", \"Parda\", \"Parda\", \"Branca\", \"Branca\", \"Parda\", \"Parda\", \"Branca\", \"Branca\", \"N\\u00e3o quero declarar.\", \"Parda\", \"Parda\", \"Preta\", \"Branca\", \"Branca\", \"Preta\", \"Branca\", \"Parda\", \"Preta\", \"Parda\", \"Parda\", \"Parda\", \"Parda\", \"Branca\", \"Parda\", \"Parda\", \"Parda\", \"Parda\", \"Ind\\u00edgena.\", \"Parda\", \"Parda\", \"Parda\", \"Parda\", \"Parda\", \"Branca\", \"Branca\", \"Preta\", \"Parda\", \"Preta\", \"Branca\", \"Preta\", \"Parda\", \"Parda\", \"Branca\", \"N\\u00e3o quero declarar.\", \"Preta\", \"N\\u00e3o quero declarar.\", \"Parda\", \"Branca\", \"Parda\", \"Parda\", \"Branca\", \"Preta\", \"Parda\", \"Preta\", \"Preta\", \"Parda\", \"Branca\", \"Parda\", \"Parda\", \"Parda\", \"Branca\", \"Branca\", \"Parda\", \"Branca\", \"Branca\", \"Branca\", \"Branca\", \"Parda\", \"Parda\", \"Branca\", \"Parda\", \"Parda\", \"Parda\", \"Parda\", \"Parda\", \"Parda\", \"Amarela\", \"Branca\", \"Parda\", \"Preta\", \"Preta\", \"Parda\", \"Parda\", \"Parda\", \"Parda\", \"Branca\", \"Preta\", \"Parda\", \"Branca\", \"Parda\", \"Parda\", \"Parda\", \"Parda\", \"Preta\", \"Amarela\", \"Parda\", \"Parda\", \"Parda\", \"Parda\", \"Parda\", \"Branca\", \"Parda\", \"Parda\", \"Branca\", \"Parda\", \"Preta\", \"Parda\", \"Parda\", \"Parda\", \"Branca\", \"Branca\", \"Branca\", \"Branca\", \"Amarela\", \"Branca\", \"Parda\", \"Branca\", \"Parda\", \"Parda\", \"Parda\", \"Preta\", \"Parda\", \"Parda\", \"Parda\", \"Parda\", \"Branca\", \"Parda\", \"Parda\", \"Branca\", \"Branca\", \"Parda\", \"Parda\", \"Parda\", \"Amarela\", \"Parda\", \"Preta\", \"Parda\", \"Parda\", \"Branca\", \"Branca\", \"Parda\", \"Parda\", \"Parda\", \"Preta\", \"Parda\", \"Branca\", \"Preta\", \"Parda\", \"Parda\", \"Branca\", \"Branca\", \"Branca\", \"Parda\", \"Parda\", \"Parda\", \"Amarela\", \"Parda\", \"Branca\", \"Parda\", \"Parda\", \"Parda\", \"Branca\", \"Branca\", \"Parda\", \"Preta\", \"Parda\", \"Parda\", \"Branca\", \"Parda\", \"Branca\", \"Preta\", \"Parda\", \"Branca\", \"Preta\", \"Preta\", \"Parda\", \"Parda\", \"Preta\", \"Preta\", \"Parda\", \"Branca\", \"Parda\", \"Parda\", \"Amarela\", \"Parda\", \"Branca\", \"Parda\", \"Parda\", \"Parda\", \"Preta\", \"Parda\", \"Parda\", \"Parda\", \"Parda\", \"Branca\", \"Parda\", \"Parda\", \"Preta\", \"Parda\", \"Parda\", \"Parda\", \"Parda\", \"Branca\", \"Parda\", \"Parda\", \"Parda\", \"Parda\", \"Branca\", \"Parda\", \"Preta\", \"Branca\", \"Parda\", \"Parda\", \"Parda\", \"Parda\", \"Parda\", \"Parda\", \"Parda\", \"Branca\", \"Parda\", \"Parda\", \"Parda\", \"Amarela\", \"Parda\", \"Branca\", \"Parda\", \"Preta\", \"Branca\", \"Parda\", \"N\\u00e3o quero declarar.\", \"Branca\", \"Parda\", \"Preta\", \"Parda\", \"Branca\", \"Parda\", \"Parda\", \"Branca\", \"Parda\", \"Branca\", \"Parda\", \"Preta\", \"Branca\", \"Ind\\u00edgena.\", \"Parda\", \"Parda\", \"Parda\", \"Branca\", \"Preta\", \"Parda\", \"Parda\", \"Preta\", \"Branca\", \"Preta\", \"Branca\", \"Branca\", \"Preta\", \"Parda\", \"Parda\", \"Branca\", \"Parda\", \"Branca\", \"Parda\", \"N\\u00e3o quero declarar.\", \"Parda\", \"Branca\", \"Preta\", \"Parda\", \"Preta\", \"Parda\", \"Parda\", \"Preta\", \"Parda\", \"Parda\", \"Parda\", \"Branca\", \"Parda\", \"Branca\", \"Preta\", \"Preta\", \"Branca\", \"Preta\", \"Parda\", \"Branca\", \"Branca\", \"Amarela\", \"Parda\", \"Branca\", \"Branca\", \"Parda\", \"Branca\", \"Parda\", \"Parda\", \"Amarela\", \"Branca\", \"Branca\", \"Parda\", \"Parda\", \"Branca\", \"Branca\", \"Parda\", \"Amarela\", \"Parda\", \"Parda\", \"Parda\", \"Parda\", \"Parda\", \"Preta\", \"Preta\", \"Branca\", \"Branca\", \"Parda\", \"Branca\", \"Parda\", \"Preta\", \"Parda\", \"Branca\", \"Parda\", \"Branca\", \"Branca\", \"Parda\", \"Parda\", \"Parda\", \"Parda\", \"Preta\", \"Parda\", \"Branca\", \"Parda\", \"Parda\", \"Preta\", \"Branca\", \"Branca\", \"Branca\", \"Branca\", \"Branca\", \"Preta\", \"Branca\", \"Parda\", \"Preta\", \"Branca\", \"Parda\", \"Parda\", \"Preta\", \"Preta\", \"Preta\", \"Branca\", \"Parda\", \"Preta\", \"Parda\", \"Parda\", \"Parda\", \"Parda\", \"Preta\", \"Preta\", \"Preta\", \"Parda\", \"Parda\", \"Parda\", \"Parda\", \"Parda\", \"Parda\", \"Parda\", \"Branca\", \"Parda\", \"Parda\", \"Branca\", \"Preta\", \"Preta\", \"Parda\", \"N\\u00e3o quero declarar.\", \"Parda\", \"Preta\", \"Parda\", \"Parda\", \"Parda\", \"Preta\", \"Parda\", \"Parda\", \"Parda\", \"Parda\", \"Preta\", \"Parda\", \"Parda\", \"Parda\", \"Parda\", \"Parda\", \"Branca\", \"Parda\", \"Parda\", \"Preta\", \"Branca\", \"Parda\", \"Parda\", \"Branca\", \"Parda\", \"Parda\", \"Preta\", \"Parda\", \"Branca\", \"Preta\", \"Branca\", \"Branca\", \"Branca\", \"Parda\", \"Parda\", \"Parda\", \"Branca\", \"Parda\", \"Parda\", \"Parda\", \"Parda\", \"Parda\", \"Branca\", \"N\\u00e3o quero declarar.\", \"Parda\", \"N\\u00e3o quero declarar.\", \"Parda\", \"Preta\", \"Parda\", \"Parda\", \"Parda\", \"N\\u00e3o quero declarar.\", \"Parda\", \"Branca\", \"Parda\", \"Parda\", \"Parda\", \"Branca\", \"Parda\", \"Preta\", \"Parda\", \"Parda\", \"Branca\", \"Preta\", \"Branca\", \"Parda\", \"Parda\", \"Parda\", \"Parda\", \"Parda\", \"Parda\", \"N\\u00e3o quero declarar.\", \"Parda\", \"Parda\", \"Parda\"], \"x0\": \" \", \"xaxis\": \"x\", \"y\": [77.8, 39.7, 46.0, 70.5, 56.7, 50.9, 44.4, 62.9, 38.3, 68.5, 48.4, 50.1, 28.0, 43.2, 41.9, 54.1, 45.4, 77.0, 69.6, 37.8, 42.8, 73.6, 46.2, 43.8, 34.5, 53.4, 79.7, 60.2, 44.8, 35.2, 58.3, 75.7, 60.8, 45.0, 70.9, 39.4, 58.6, 47.7, 62.6, 47.5, 57.7, 56.1, 62.0, 29.4, 55.9, 58.3, 53.8, 47.0, 49.8, 38.2, 45.5, 54.2, 68.8, 38.2, 73.3, 53.1, 62.6, 41.3, 41.9, 22.9, 67.4, 60.8, 62.7, 52.7, 60.1, 47.7, 39.9, 47.2, 39.0, 51.8, 60.0, 47.6, 34.0, 55.0, 54.4, 61.5, 55.4, 72.3, 60.9, 38.6, 57.0, 31.6, 59.2, 64.7, 30.3, 36.2, 43.9, 46.7, 36.7, 51.3, 37.5, 49.0, 51.2, 51.0, 63.3, 27.7, 42.8, 55.7, 54.9, 43.6, 56.4, 47.6, 55.8, 67.8, 55.8, 47.8, 45.5, 37.3, 47.1, 45.2, 59.6, 32.5, 52.4, 24.1, 39.3, 51.6, 54.0, 57.0, 64.1, 42.3, 73.9, 65.1, 32.9, 52.9, 45.7, 51.4, 42.1, 34.9, 47.5, 52.6, 49.2, 48.6, 48.8, 45.3, 45.1, 31.1, 48.7, 58.2, 28.0, 68.4, 28.8, 33.2, 34.1, 35.0, 28.5, 45.4, 41.9, 27.6, 57.5, 18.5, 35.9, 65.5, 56.5, 43.9, 25.6, 0.0, 38.8, 41.9, 60.9, 38.4, 41.3, 41.6, 51.4, 57.4, 37.2, 44.2, 48.7, 34.8, 38.7, 61.9, 40.4, 36.4, 63.3, 17.5, 35.0, 42.2, 40.6, 44.2, 56.4, 39.5, 24.6, 46.9, 49.4, 47.5, 53.9, 46.4, 28.2, 33.4, 35.7, 51.1, 39.5, 26.2, 48.8, 44.7, 39.1, 39.6, 67.7, 30.6, 36.2, 43.0, 30.2, 40.8, 39.1, 25.1, 32.6, 23.1, 33.5, 43.1, 23.0, 30.5, 32.6, 18.8, 42.3, 30.0, 49.2, 35.2, 59.1, 21.9, 49.3, 46.7, 25.9, 26.7, 39.7, 37.0, 17.5, 40.4, 35.4, 31.3, 45.6, 28.1, 20.6, 25.5, 45.4, 32.1, 24.5, 32.0, 56.1, 50.0, 22.5, 20.9, 25.3, 34.2, 31.4, 33.2, 53.5, 39.2, 56.4, 38.8, 68.6, 74.1, 21.2, 22.2, 40.0, 20.7, 51.2, 24.6, 34.1, 63.7, 21.3, 69.9, 31.5, 45.7, 42.1, 37.3, 29.9, 31.3, 36.4, 31.1, 40.3, 59.2, 46.7, 27.9, 28.8, 36.0, 31.6, 32.1, 66.7, 42.7, 43.4, 19.9, 54.3, 45.0, 31.3, 37.7, 16.6, 49.7, 27.7, 35.3, 23.2, 50.6, 32.7, 0.0, 40.3, 51.8, 33.0, 39.2, 12.9, 18.9, 36.3, 47.1, 54.6, 46.9, 45.9, 21.3, 48.9, 45.7, 43.6, 57.5, 37.2, 63.3, 35.3, 26.2, 42.5, 29.9, 16.7, 35.0, 27.4, 55.8, 25.1, 62.5, 26.6, 36.2, 17.3, 19.5, 38.2, 38.3, 37.0, 28.1, 34.0, 68.9, 19.7, 35.5, 15.7, 29.1, 24.7, 55.3, 26.2, 38.9, 23.2, 20.9, 34.7, 48.1, 23.2, 28.6, 51.9, 44.5, 40.0, 16.3, 34.5, 40.2, 49.1, 31.3, 44.2, 39.2, 25.6, 37.7, 38.7, 52.9, 62.3, 39.3, 40.4, 49.6, 45.4, 52.9, 43.0, 45.6, 40.1, 34.0, 32.6, 58.4, 30.8, 35.5, 23.4, 37.4, 52.4, 41.8, 32.3, 33.7, 16.9, 46.9, 28.7, 36.9, 61.5, 34.8, 33.6, 58.0, 34.5, 19.5, 23.7, 33.3, 39.5, 57.3, 29.8, 30.3, 33.8, 45.6, 51.3, 37.7, 38.6, 52.5, 26.6, 46.2, 25.9, 58.8, 39.7, 28.8, 36.3, 36.9, 41.0, 48.5, 36.4, 38.0, 32.7, 28.0, 49.7, 31.9, 61.6, 29.6, 12.5, 31.3, 13.5, 49.4, 39.9, 32.4, 36.6, 37.2, 28.1, 34.6, 15.7, 53.0, 43.2, 49.7, 68.1, 52.4, 54.1, 49.1, 54.7, 55.0, 63.4, 43.5, 45.5, 40.5, 51.7, 52.2, 60.3, 58.8, 49.9, 49.3, 51.9, 58.9, 59.7, 52.1, 52.6, 49.0, 67.7, 57.9, 48.0, 61.7, 34.4, 33.1, 43.0, 36.3, 43.3, 16.0, 26.1, 18.7, 34.9, 31.6, 41.1, 46.5, 33.5, 41.8, 21.4, 33.1, 20.1, 39.5, 43.8, 26.6, 26.2, 28.8, 42.3, 39.5, 38.3, 35.1, 54.5, 29.9, 25.2, 45.6, 44.7, 25.4, 35.1, 50.8, 60.0, 58.6, 37.4, 41.6, 52.9, 16.8, 33.5, 38.1, 30.1, 38.0, 30.9, 17.4, 22.0, 20.6, 37.9, 49.5, 29.7, 48.8, 15.6, 52.9, 20.4, 45.1, 41.8, 30.9, 21.6, 58.3, 21.0, 36.8, 29.5, 49.5, 65.0, 40.2, 54.8, 42.5, 61.1, 42.4, 59.1, 23.9, 43.8, 38.4, 30.6, 54.8, 37.2, 33.4, 52.1, 48.0, 47.0, 49.7, 58.8, 37.1, 38.2, 39.8, 12.6, 47.1, 42.4, 18.6, 51.0, 35.8, 39.5, 29.4, 19.0, 29.1, 34.8, 21.6, 23.6, 25.9, 30.9, 27.6, 26.3, 36.7, 24.2, 26.0, 36.5, 30.1, 26.2, 20.1, 20.9, 34.9, 25.6, 21.6, 24.1, 47.7, 29.7, 23.2, 30.9, 23.2, 20.5, 26.5, 29.8, 30.0, 42.4, 29.3, 62.2, 14.7, 39.5, 23.8, 20.3, 31.9, 39.8, 25.9, 46.3, 38.1, 33.5, 29.4, 36.3, 29.3, 35.2, 32.0, 44.3, 21.1, 25.9, 41.5, 45.7, 28.2, 30.1, 30.1, 36.8, 54.7, 31.3, 36.2, 32.1, 54.7, 42.5, 19.5, 66.2, 25.7, 35.9, 32.4, 48.9, 26.6, 30.4, 37.3, 32.3, 35.0, 46.4, 42.1, 38.8, 50.6, 36.2, 22.5, 31.0, 34.6, 42.0, 47.2, 29.1, 39.4, 20.3, 40.4, 28.9, 19.8, 39.6, 52.4, 52.3, 45.9, 28.5, 27.9, 48.1, 24.9, 45.7, 33.0, 43.0, 47.0, 52.3, 50.1, 60.6, 66.5, 50.2, 51.7, 57.3, 39.4, 57.7, 57.7, 58.7, 59.3, 70.5, 42.7, 57.9, 55.9, 39.9, 30.2, 42.8, 40.1, 57.2, 48.2, 54.9, 65.5, 70.7, 65.0, 58.4, 57.9, 36.3, 60.3, 65.2, 51.1, 51.2, 45.5, 57.9, 51.7, 44.7, 49.6, 49.4, 53.0, 45.3, 42.7, 57.6, 38.5, 53.2, 51.8, 55.2, 45.2, 45.2, 54.0, 51.1, 43.9, 52.7, 33.0, 23.9, 32.3, 43.7, 39.5, 57.9, 58.8, 29.8, 47.4, 65.9, 48.0, 45.8, 46.6, 51.0, 37.1, 56.2, 34.5, 31.9, 48.9, 50.0, 45.7, 70.4, 63.4, 30.9, 48.8, 69.7, 57.0, 57.8, 39.6, 34.8, 24.2, 35.4, 52.1, 61.1, 53.3, 40.2, 69.8, 43.3, 56.4, 54.3, 42.6, 36.9, 43.2, 53.2, 37.7, 36.5, 33.8, 41.8, 48.3, 57.6, 54.1, 50.0, 68.4, 17.8, 30.1, 15.4, 25.4, 20.5, 29.5, 40.3, 24.3, 28.6, 23.8, 30.3, 22.8, 57.2, 32.7, 36.4, 18.7, 22.0, 42.2, 29.0, 44.9, 34.0, 40.3, 42.8, 46.6, 33.7, 35.2, 31.1, 37.7, 43.0, 37.5, 15.8, 31.8, 32.1, 38.8, 39.9, 23.3, 33.6, 15.0, 34.2, 27.9, 33.8, 30.0, 19.9, 40.6, 28.8, 24.2, 62.0, 42.0, 55.0, 21.6, 49.9, 10.0, 36.6, 28.8, 55.5, 27.6, 20.9, 17.6, 27.0, 43.9, 29.7, 41.5, 13.2, 42.0], \"y0\": \" \", \"yaxis\": \"y\"}],                        {\"boxmode\": \"group\", \"legend\": {\"tracegroupgap\": 0}, \"margin\": {\"t\": 60}, \"template\": {\"data\": {\"bar\": [{\"error_x\": {\"color\": \"#2a3f5f\"}, \"error_y\": {\"color\": \"#2a3f5f\"}, \"marker\": {\"line\": {\"color\": \"#E5ECF6\", \"width\": 0.5}}, \"type\": \"bar\"}], \"barpolar\": [{\"marker\": {\"line\": {\"color\": \"#E5ECF6\", \"width\": 0.5}}, \"type\": \"barpolar\"}], \"carpet\": [{\"aaxis\": {\"endlinecolor\": \"#2a3f5f\", \"gridcolor\": \"white\", \"linecolor\": \"white\", \"minorgridcolor\": \"white\", \"startlinecolor\": \"#2a3f5f\"}, \"baxis\": {\"endlinecolor\": \"#2a3f5f\", \"gridcolor\": \"white\", \"linecolor\": \"white\", \"minorgridcolor\": \"white\", \"startlinecolor\": \"#2a3f5f\"}, \"type\": \"carpet\"}], \"choropleth\": [{\"colorbar\": {\"outlinewidth\": 0, \"ticks\": \"\"}, \"type\": \"choropleth\"}], \"contour\": [{\"colorbar\": {\"outlinewidth\": 0, \"ticks\": \"\"}, \"colorscale\": [[0.0, \"#0d0887\"], [0.1111111111111111, \"#46039f\"], [0.2222222222222222, \"#7201a8\"], [0.3333333333333333, \"#9c179e\"], [0.4444444444444444, \"#bd3786\"], [0.5555555555555556, \"#d8576b\"], [0.6666666666666666, \"#ed7953\"], [0.7777777777777778, \"#fb9f3a\"], [0.8888888888888888, \"#fdca26\"], [1.0, \"#f0f921\"]], \"type\": \"contour\"}], \"contourcarpet\": [{\"colorbar\": {\"outlinewidth\": 0, \"ticks\": \"\"}, \"type\": \"contourcarpet\"}], \"heatmap\": [{\"colorbar\": {\"outlinewidth\": 0, \"ticks\": \"\"}, \"colorscale\": [[0.0, \"#0d0887\"], [0.1111111111111111, \"#46039f\"], [0.2222222222222222, \"#7201a8\"], [0.3333333333333333, \"#9c179e\"], [0.4444444444444444, \"#bd3786\"], [0.5555555555555556, \"#d8576b\"], [0.6666666666666666, \"#ed7953\"], [0.7777777777777778, \"#fb9f3a\"], [0.8888888888888888, \"#fdca26\"], [1.0, \"#f0f921\"]], \"type\": \"heatmap\"}], \"heatmapgl\": [{\"colorbar\": {\"outlinewidth\": 0, \"ticks\": \"\"}, \"colorscale\": [[0.0, \"#0d0887\"], [0.1111111111111111, \"#46039f\"], [0.2222222222222222, \"#7201a8\"], [0.3333333333333333, \"#9c179e\"], [0.4444444444444444, \"#bd3786\"], [0.5555555555555556, \"#d8576b\"], [0.6666666666666666, \"#ed7953\"], [0.7777777777777778, \"#fb9f3a\"], [0.8888888888888888, \"#fdca26\"], [1.0, \"#f0f921\"]], \"type\": \"heatmapgl\"}], \"histogram\": [{\"marker\": {\"colorbar\": {\"outlinewidth\": 0, \"ticks\": \"\"}}, \"type\": \"histogram\"}], \"histogram2d\": [{\"colorbar\": {\"outlinewidth\": 0, \"ticks\": \"\"}, \"colorscale\": [[0.0, \"#0d0887\"], [0.1111111111111111, \"#46039f\"], [0.2222222222222222, \"#7201a8\"], [0.3333333333333333, \"#9c179e\"], [0.4444444444444444, \"#bd3786\"], [0.5555555555555556, \"#d8576b\"], [0.6666666666666666, \"#ed7953\"], [0.7777777777777778, \"#fb9f3a\"], [0.8888888888888888, \"#fdca26\"], [1.0, \"#f0f921\"]], \"type\": \"histogram2d\"}], \"histogram2dcontour\": [{\"colorbar\": {\"outlinewidth\": 0, \"ticks\": \"\"}, \"colorscale\": [[0.0, \"#0d0887\"], [0.1111111111111111, \"#46039f\"], [0.2222222222222222, \"#7201a8\"], [0.3333333333333333, \"#9c179e\"], [0.4444444444444444, \"#bd3786\"], [0.5555555555555556, \"#d8576b\"], [0.6666666666666666, \"#ed7953\"], [0.7777777777777778, \"#fb9f3a\"], [0.8888888888888888, \"#fdca26\"], [1.0, \"#f0f921\"]], \"type\": \"histogram2dcontour\"}], \"mesh3d\": [{\"colorbar\": {\"outlinewidth\": 0, \"ticks\": \"\"}, \"type\": \"mesh3d\"}], \"parcoords\": [{\"line\": {\"colorbar\": {\"outlinewidth\": 0, \"ticks\": \"\"}}, \"type\": \"parcoords\"}], \"pie\": [{\"automargin\": true, \"type\": \"pie\"}], \"scatter\": [{\"marker\": {\"colorbar\": {\"outlinewidth\": 0, \"ticks\": \"\"}}, \"type\": \"scatter\"}], \"scatter3d\": [{\"line\": {\"colorbar\": {\"outlinewidth\": 0, \"ticks\": \"\"}}, \"marker\": {\"colorbar\": {\"outlinewidth\": 0, \"ticks\": \"\"}}, \"type\": \"scatter3d\"}], \"scattercarpet\": [{\"marker\": {\"colorbar\": {\"outlinewidth\": 0, \"ticks\": \"\"}}, \"type\": \"scattercarpet\"}], \"scattergeo\": [{\"marker\": {\"colorbar\": {\"outlinewidth\": 0, \"ticks\": \"\"}}, \"type\": \"scattergeo\"}], \"scattergl\": [{\"marker\": {\"colorbar\": {\"outlinewidth\": 0, \"ticks\": \"\"}}, \"type\": \"scattergl\"}], \"scattermapbox\": [{\"marker\": {\"colorbar\": {\"outlinewidth\": 0, \"ticks\": \"\"}}, \"type\": \"scattermapbox\"}], \"scatterpolar\": [{\"marker\": {\"colorbar\": {\"outlinewidth\": 0, \"ticks\": \"\"}}, \"type\": \"scatterpolar\"}], \"scatterpolargl\": [{\"marker\": {\"colorbar\": {\"outlinewidth\": 0, \"ticks\": \"\"}}, \"type\": \"scatterpolargl\"}], \"scatterternary\": [{\"marker\": {\"colorbar\": {\"outlinewidth\": 0, \"ticks\": \"\"}}, \"type\": \"scatterternary\"}], \"surface\": [{\"colorbar\": {\"outlinewidth\": 0, \"ticks\": \"\"}, \"colorscale\": [[0.0, \"#0d0887\"], [0.1111111111111111, \"#46039f\"], [0.2222222222222222, \"#7201a8\"], [0.3333333333333333, \"#9c179e\"], [0.4444444444444444, \"#bd3786\"], [0.5555555555555556, \"#d8576b\"], [0.6666666666666666, \"#ed7953\"], [0.7777777777777778, \"#fb9f3a\"], [0.8888888888888888, \"#fdca26\"], [1.0, \"#f0f921\"]], \"type\": \"surface\"}], \"table\": [{\"cells\": {\"fill\": {\"color\": \"#EBF0F8\"}, \"line\": {\"color\": \"white\"}}, \"header\": {\"fill\": {\"color\": \"#C8D4E3\"}, \"line\": {\"color\": \"white\"}}, \"type\": \"table\"}]}, \"layout\": {\"annotationdefaults\": {\"arrowcolor\": \"#2a3f5f\", \"arrowhead\": 0, \"arrowwidth\": 1}, \"autotypenumbers\": \"strict\", \"coloraxis\": {\"colorbar\": {\"outlinewidth\": 0, \"ticks\": \"\"}}, \"colorscale\": {\"diverging\": [[0, \"#8e0152\"], [0.1, \"#c51b7d\"], [0.2, \"#de77ae\"], [0.3, \"#f1b6da\"], [0.4, \"#fde0ef\"], [0.5, \"#f7f7f7\"], [0.6, \"#e6f5d0\"], [0.7, \"#b8e186\"], [0.8, \"#7fbc41\"], [0.9, \"#4d9221\"], [1, \"#276419\"]], \"sequential\": [[0.0, \"#0d0887\"], [0.1111111111111111, \"#46039f\"], [0.2222222222222222, \"#7201a8\"], [0.3333333333333333, \"#9c179e\"], [0.4444444444444444, \"#bd3786\"], [0.5555555555555556, \"#d8576b\"], [0.6666666666666666, \"#ed7953\"], [0.7777777777777778, \"#fb9f3a\"], [0.8888888888888888, \"#fdca26\"], [1.0, \"#f0f921\"]], \"sequentialminus\": [[0.0, \"#0d0887\"], [0.1111111111111111, \"#46039f\"], [0.2222222222222222, \"#7201a8\"], [0.3333333333333333, \"#9c179e\"], [0.4444444444444444, \"#bd3786\"], [0.5555555555555556, \"#d8576b\"], [0.6666666666666666, \"#ed7953\"], [0.7777777777777778, \"#fb9f3a\"], [0.8888888888888888, \"#fdca26\"], [1.0, \"#f0f921\"]]}, \"colorway\": [\"#636efa\", \"#EF553B\", \"#00cc96\", \"#ab63fa\", \"#FFA15A\", \"#19d3f3\", \"#FF6692\", \"#B6E880\", \"#FF97FF\", \"#FECB52\"], \"font\": {\"color\": \"#2a3f5f\"}, \"geo\": {\"bgcolor\": \"white\", \"lakecolor\": \"white\", \"landcolor\": \"#E5ECF6\", \"showlakes\": true, \"showland\": true, \"subunitcolor\": \"white\"}, \"hoverlabel\": {\"align\": \"left\"}, \"hovermode\": \"closest\", \"mapbox\": {\"style\": \"light\"}, \"paper_bgcolor\": \"white\", \"plot_bgcolor\": \"#E5ECF6\", \"polar\": {\"angularaxis\": {\"gridcolor\": \"white\", \"linecolor\": \"white\", \"ticks\": \"\"}, \"bgcolor\": \"#E5ECF6\", \"radialaxis\": {\"gridcolor\": \"white\", \"linecolor\": \"white\", \"ticks\": \"\"}}, \"scene\": {\"xaxis\": {\"backgroundcolor\": \"#E5ECF6\", \"gridcolor\": \"white\", \"gridwidth\": 2, \"linecolor\": \"white\", \"showbackground\": true, \"ticks\": \"\", \"zerolinecolor\": \"white\"}, \"yaxis\": {\"backgroundcolor\": \"#E5ECF6\", \"gridcolor\": \"white\", \"gridwidth\": 2, \"linecolor\": \"white\", \"showbackground\": true, \"ticks\": \"\", \"zerolinecolor\": \"white\"}, \"zaxis\": {\"backgroundcolor\": \"#E5ECF6\", \"gridcolor\": \"white\", \"gridwidth\": 2, \"linecolor\": \"white\", \"showbackground\": true, \"ticks\": \"\", \"zerolinecolor\": \"white\"}}, \"shapedefaults\": {\"line\": {\"color\": \"#2a3f5f\"}}, \"ternary\": {\"aaxis\": {\"gridcolor\": \"white\", \"linecolor\": \"white\", \"ticks\": \"\"}, \"baxis\": {\"gridcolor\": \"white\", \"linecolor\": \"white\", \"ticks\": \"\"}, \"bgcolor\": \"#E5ECF6\", \"caxis\": {\"gridcolor\": \"white\", \"linecolor\": \"white\", \"ticks\": \"\"}}, \"title\": {\"x\": 0.05}, \"xaxis\": {\"automargin\": true, \"gridcolor\": \"white\", \"linecolor\": \"white\", \"ticks\": \"\", \"title\": {\"standoff\": 15}, \"zerolinecolor\": \"white\", \"zerolinewidth\": 2}, \"yaxis\": {\"automargin\": true, \"gridcolor\": \"white\", \"linecolor\": \"white\", \"ticks\": \"\", \"title\": {\"standoff\": 15}, \"zerolinecolor\": \"white\", \"zerolinewidth\": 2}}}, \"xaxis\": {\"anchor\": \"y\", \"domain\": [0.0, 1.0], \"title\": {\"text\": \"Qual \\u00e9 a sua cor ou ra\\u00e7a?\"}}, \"yaxis\": {\"anchor\": \"x\", \"domain\": [0.0, 1.0], \"title\": {\"text\": \"NOTA PROVA\"}}},                        {\"responsive\": true}                    ).then(function(){\n",
       "                            \n",
       "var gd = document.getElementById('9b7947ef-9179-4b28-9002-37a5097a6144');\n",
       "var x = new MutationObserver(function (mutations, observer) {{\n",
       "        var display = window.getComputedStyle(gd).display;\n",
       "        if (!display || display === 'none') {{\n",
       "            console.log([gd, 'removed!']);\n",
       "            Plotly.purge(gd);\n",
       "            observer.disconnect();\n",
       "        }}\n",
       "}});\n",
       "\n",
       "// Listen for the removal of the full notebook cells\n",
       "var notebookContainer = gd.closest('#notebook-container');\n",
       "if (notebookContainer) {{\n",
       "    x.observe(notebookContainer, {childList: true});\n",
       "}}\n",
       "\n",
       "// Listen for the clearing of the current output cell\n",
       "var outputEl = gd.closest('.output');\n",
       "if (outputEl) {{\n",
       "    x.observe(outputEl, {childList: true});\n",
       "}}\n",
       "\n",
       "                        })                };                });            </script>        </div>"
      ]
     },
     "metadata": {},
     "output_type": "display_data"
    }
   ],
   "source": [
    "fig = px.box(engenharias_ufpa_csv, x = 'Qual é a sua cor ou raça?' , y = 'NOTA PROVA', points='all')\n",
    "fig.show()"
   ]
  },
  {
   "cell_type": "code",
   "execution_count": 23,
   "metadata": {},
   "outputs": [],
   "source": [
    "# DISCLAIMER: 'df' refers to the data you passed in when calling 'dtale.show'\n",
    "\n",
    "import numpy as np\n",
    "import pandas as pd\n",
    "import plotly.graph_objs as go\n",
    "\n",
    "df = engenharias_ufpa_csv\n",
    "if isinstance(df, (pd.DatetimeIndex, pd.MultiIndex)):\n",
    "\tdf = df.to_frame(index=False)\n",
    "\n",
    "# remove any pre-existing indices for ease of use in the D-Tale code, but this is not required\n",
    "df = df.reset_index().drop('index', axis=1, errors='ignore')\n",
    "df.columns = [str(c) for c in df.columns]  # update columns to strings in case they are numbers\n",
    "\n",
    "s = df[~pd.isnull(df['Qual é a sua cor ou raça?'])]['Qual é a sua cor ou raça?']\n",
    "chart = pd.value_counts(s).to_frame(name='data')\n",
    "ordinal_data = df.groupby('Qual é a sua cor ou raça?')[['NOTA PROVA']].mean()\n",
    "chart['ordinal'] = ordinal_data\n",
    "chart.index.name = 'labels'\n",
    "chart = chart.reset_index().sort_values('ordinal')\n",
    "chart = chart[:8]\n",
    "charts = [go.Bar(x=chart['labels'].values, y=chart['data'].values, name='Frequency')]\n",
    "charts.append(go.Scatter(\n",
    "\tx=chart['labels'].values, y=chart['ordinal'].values, yaxis='y2',\n",
    "\tname='NOTA PROVA (mean)', line={'shape': 'spline', 'smoothing': 0.3}, mode='lines'\n",
    "))\n",
    "figure = go.Figure(data=charts, layout=go.Layout({\n",
    "    'barmode': 'group',\n",
    "    'legend': {'orientation': 'h'},\n",
    "    'title': {'text': 'Qual é a sua cor ou raça? Value Counts'},\n",
    "    'xaxis': {'title': {'text': 'Qual é a sua cor ou raça?'}},\n",
    "    'yaxis': {'title': {'text': 'Frequency'}},\n",
    "    'yaxis2': {'overlaying': 'y', 'side': 'right', 'title': {'text': 'NOTA PROVA (mean)'}}\n",
    "}))\n",
    "\n",
    "# If you're having trouble viewing your chart in your notebook try passing your 'chart' into this snippet:\n",
    "#\n"
   ]
  },
  {
   "cell_type": "code",
   "execution_count": 20,
   "metadata": {},
   "outputs": [
    {
     "data": {
      "text/plain": [
       "plotly.graph_objs._figure.Figure"
      ]
     },
     "execution_count": 20,
     "metadata": {},
     "output_type": "execute_result"
    }
   ],
   "source": [
    "type(figure)"
   ]
  },
  {
   "cell_type": "code",
   "execution_count": 21,
   "metadata": {},
   "outputs": [
    {
     "data": {
      "text/plain": [
       "plotly.graph_objs._figure.Figure"
      ]
     },
     "execution_count": 21,
     "metadata": {},
     "output_type": "execute_result"
    },
    {
     "name": "stdout",
     "output_type": "stream",
     "text": [
      "Executing shutdown due to inactivity...\n"
     ]
    },
    {
     "name": "stderr",
     "output_type": "stream",
     "text": [
      "2021-05-10 11:43:00,859 - INFO     - Executing shutdown due to inactivity...\n"
     ]
    },
    {
     "name": "stdout",
     "output_type": "stream",
     "text": [
      "Executing shutdown...\n"
     ]
    },
    {
     "name": "stderr",
     "output_type": "stream",
     "text": [
      "2021-05-10 11:43:04,970 - INFO     - Executing shutdown...\n"
     ]
    }
   ],
   "source": [
    "type(fig)"
   ]
  },
  {
   "cell_type": "code",
   "execution_count": 24,
   "metadata": {},
   "outputs": [
    {
     "data": {
      "application/vnd.plotly.v1+json": {
       "config": {
        "plotlyServerURL": "https://plot.ly"
       },
       "data": [
        {
         "name": "Frequency",
         "type": "bar",
         "x": [
          "Indígena.",
          "Não quero declarar.",
          "Amarela",
          "Parda",
          "Preta",
          "Branca"
         ],
         "y": [
          3,
          24,
          15,
          452,
          119,
          211
         ]
        },
        {
         "line": {
          "shape": "spline",
          "smoothing": 0.3
         },
         "mode": "lines",
         "name": "NOTA PROVA (mean)",
         "type": "scatter",
         "x": [
          "Indígena.",
          "Não quero declarar.",
          "Amarela",
          "Parda",
          "Preta",
          "Branca"
         ],
         "y": [
          33.73333333333333,
          38.92083333333333,
          40.026666666666664,
          40.042477876106155,
          40.973109243697486,
          44.06208530805686
         ],
         "yaxis": "y2"
        }
       ],
       "layout": {
        "barmode": "group",
        "legend": {
         "orientation": "h"
        },
        "template": {
         "data": {
          "bar": [
           {
            "error_x": {
             "color": "#2a3f5f"
            },
            "error_y": {
             "color": "#2a3f5f"
            },
            "marker": {
             "line": {
              "color": "#E5ECF6",
              "width": 0.5
             }
            },
            "type": "bar"
           }
          ],
          "barpolar": [
           {
            "marker": {
             "line": {
              "color": "#E5ECF6",
              "width": 0.5
             }
            },
            "type": "barpolar"
           }
          ],
          "carpet": [
           {
            "aaxis": {
             "endlinecolor": "#2a3f5f",
             "gridcolor": "white",
             "linecolor": "white",
             "minorgridcolor": "white",
             "startlinecolor": "#2a3f5f"
            },
            "baxis": {
             "endlinecolor": "#2a3f5f",
             "gridcolor": "white",
             "linecolor": "white",
             "minorgridcolor": "white",
             "startlinecolor": "#2a3f5f"
            },
            "type": "carpet"
           }
          ],
          "choropleth": [
           {
            "colorbar": {
             "outlinewidth": 0,
             "ticks": ""
            },
            "type": "choropleth"
           }
          ],
          "contour": [
           {
            "colorbar": {
             "outlinewidth": 0,
             "ticks": ""
            },
            "colorscale": [
             [
              0,
              "#0d0887"
             ],
             [
              0.1111111111111111,
              "#46039f"
             ],
             [
              0.2222222222222222,
              "#7201a8"
             ],
             [
              0.3333333333333333,
              "#9c179e"
             ],
             [
              0.4444444444444444,
              "#bd3786"
             ],
             [
              0.5555555555555556,
              "#d8576b"
             ],
             [
              0.6666666666666666,
              "#ed7953"
             ],
             [
              0.7777777777777778,
              "#fb9f3a"
             ],
             [
              0.8888888888888888,
              "#fdca26"
             ],
             [
              1,
              "#f0f921"
             ]
            ],
            "type": "contour"
           }
          ],
          "contourcarpet": [
           {
            "colorbar": {
             "outlinewidth": 0,
             "ticks": ""
            },
            "type": "contourcarpet"
           }
          ],
          "heatmap": [
           {
            "colorbar": {
             "outlinewidth": 0,
             "ticks": ""
            },
            "colorscale": [
             [
              0,
              "#0d0887"
             ],
             [
              0.1111111111111111,
              "#46039f"
             ],
             [
              0.2222222222222222,
              "#7201a8"
             ],
             [
              0.3333333333333333,
              "#9c179e"
             ],
             [
              0.4444444444444444,
              "#bd3786"
             ],
             [
              0.5555555555555556,
              "#d8576b"
             ],
             [
              0.6666666666666666,
              "#ed7953"
             ],
             [
              0.7777777777777778,
              "#fb9f3a"
             ],
             [
              0.8888888888888888,
              "#fdca26"
             ],
             [
              1,
              "#f0f921"
             ]
            ],
            "type": "heatmap"
           }
          ],
          "heatmapgl": [
           {
            "colorbar": {
             "outlinewidth": 0,
             "ticks": ""
            },
            "colorscale": [
             [
              0,
              "#0d0887"
             ],
             [
              0.1111111111111111,
              "#46039f"
             ],
             [
              0.2222222222222222,
              "#7201a8"
             ],
             [
              0.3333333333333333,
              "#9c179e"
             ],
             [
              0.4444444444444444,
              "#bd3786"
             ],
             [
              0.5555555555555556,
              "#d8576b"
             ],
             [
              0.6666666666666666,
              "#ed7953"
             ],
             [
              0.7777777777777778,
              "#fb9f3a"
             ],
             [
              0.8888888888888888,
              "#fdca26"
             ],
             [
              1,
              "#f0f921"
             ]
            ],
            "type": "heatmapgl"
           }
          ],
          "histogram": [
           {
            "marker": {
             "colorbar": {
              "outlinewidth": 0,
              "ticks": ""
             }
            },
            "type": "histogram"
           }
          ],
          "histogram2d": [
           {
            "colorbar": {
             "outlinewidth": 0,
             "ticks": ""
            },
            "colorscale": [
             [
              0,
              "#0d0887"
             ],
             [
              0.1111111111111111,
              "#46039f"
             ],
             [
              0.2222222222222222,
              "#7201a8"
             ],
             [
              0.3333333333333333,
              "#9c179e"
             ],
             [
              0.4444444444444444,
              "#bd3786"
             ],
             [
              0.5555555555555556,
              "#d8576b"
             ],
             [
              0.6666666666666666,
              "#ed7953"
             ],
             [
              0.7777777777777778,
              "#fb9f3a"
             ],
             [
              0.8888888888888888,
              "#fdca26"
             ],
             [
              1,
              "#f0f921"
             ]
            ],
            "type": "histogram2d"
           }
          ],
          "histogram2dcontour": [
           {
            "colorbar": {
             "outlinewidth": 0,
             "ticks": ""
            },
            "colorscale": [
             [
              0,
              "#0d0887"
             ],
             [
              0.1111111111111111,
              "#46039f"
             ],
             [
              0.2222222222222222,
              "#7201a8"
             ],
             [
              0.3333333333333333,
              "#9c179e"
             ],
             [
              0.4444444444444444,
              "#bd3786"
             ],
             [
              0.5555555555555556,
              "#d8576b"
             ],
             [
              0.6666666666666666,
              "#ed7953"
             ],
             [
              0.7777777777777778,
              "#fb9f3a"
             ],
             [
              0.8888888888888888,
              "#fdca26"
             ],
             [
              1,
              "#f0f921"
             ]
            ],
            "type": "histogram2dcontour"
           }
          ],
          "mesh3d": [
           {
            "colorbar": {
             "outlinewidth": 0,
             "ticks": ""
            },
            "type": "mesh3d"
           }
          ],
          "parcoords": [
           {
            "line": {
             "colorbar": {
              "outlinewidth": 0,
              "ticks": ""
             }
            },
            "type": "parcoords"
           }
          ],
          "pie": [
           {
            "automargin": true,
            "type": "pie"
           }
          ],
          "scatter": [
           {
            "marker": {
             "colorbar": {
              "outlinewidth": 0,
              "ticks": ""
             }
            },
            "type": "scatter"
           }
          ],
          "scatter3d": [
           {
            "line": {
             "colorbar": {
              "outlinewidth": 0,
              "ticks": ""
             }
            },
            "marker": {
             "colorbar": {
              "outlinewidth": 0,
              "ticks": ""
             }
            },
            "type": "scatter3d"
           }
          ],
          "scattercarpet": [
           {
            "marker": {
             "colorbar": {
              "outlinewidth": 0,
              "ticks": ""
             }
            },
            "type": "scattercarpet"
           }
          ],
          "scattergeo": [
           {
            "marker": {
             "colorbar": {
              "outlinewidth": 0,
              "ticks": ""
             }
            },
            "type": "scattergeo"
           }
          ],
          "scattergl": [
           {
            "marker": {
             "colorbar": {
              "outlinewidth": 0,
              "ticks": ""
             }
            },
            "type": "scattergl"
           }
          ],
          "scattermapbox": [
           {
            "marker": {
             "colorbar": {
              "outlinewidth": 0,
              "ticks": ""
             }
            },
            "type": "scattermapbox"
           }
          ],
          "scatterpolar": [
           {
            "marker": {
             "colorbar": {
              "outlinewidth": 0,
              "ticks": ""
             }
            },
            "type": "scatterpolar"
           }
          ],
          "scatterpolargl": [
           {
            "marker": {
             "colorbar": {
              "outlinewidth": 0,
              "ticks": ""
             }
            },
            "type": "scatterpolargl"
           }
          ],
          "scatterternary": [
           {
            "marker": {
             "colorbar": {
              "outlinewidth": 0,
              "ticks": ""
             }
            },
            "type": "scatterternary"
           }
          ],
          "surface": [
           {
            "colorbar": {
             "outlinewidth": 0,
             "ticks": ""
            },
            "colorscale": [
             [
              0,
              "#0d0887"
             ],
             [
              0.1111111111111111,
              "#46039f"
             ],
             [
              0.2222222222222222,
              "#7201a8"
             ],
             [
              0.3333333333333333,
              "#9c179e"
             ],
             [
              0.4444444444444444,
              "#bd3786"
             ],
             [
              0.5555555555555556,
              "#d8576b"
             ],
             [
              0.6666666666666666,
              "#ed7953"
             ],
             [
              0.7777777777777778,
              "#fb9f3a"
             ],
             [
              0.8888888888888888,
              "#fdca26"
             ],
             [
              1,
              "#f0f921"
             ]
            ],
            "type": "surface"
           }
          ],
          "table": [
           {
            "cells": {
             "fill": {
              "color": "#EBF0F8"
             },
             "line": {
              "color": "white"
             }
            },
            "header": {
             "fill": {
              "color": "#C8D4E3"
             },
             "line": {
              "color": "white"
             }
            },
            "type": "table"
           }
          ]
         },
         "layout": {
          "annotationdefaults": {
           "arrowcolor": "#2a3f5f",
           "arrowhead": 0,
           "arrowwidth": 1
          },
          "autotypenumbers": "strict",
          "coloraxis": {
           "colorbar": {
            "outlinewidth": 0,
            "ticks": ""
           }
          },
          "colorscale": {
           "diverging": [
            [
             0,
             "#8e0152"
            ],
            [
             0.1,
             "#c51b7d"
            ],
            [
             0.2,
             "#de77ae"
            ],
            [
             0.3,
             "#f1b6da"
            ],
            [
             0.4,
             "#fde0ef"
            ],
            [
             0.5,
             "#f7f7f7"
            ],
            [
             0.6,
             "#e6f5d0"
            ],
            [
             0.7,
             "#b8e186"
            ],
            [
             0.8,
             "#7fbc41"
            ],
            [
             0.9,
             "#4d9221"
            ],
            [
             1,
             "#276419"
            ]
           ],
           "sequential": [
            [
             0,
             "#0d0887"
            ],
            [
             0.1111111111111111,
             "#46039f"
            ],
            [
             0.2222222222222222,
             "#7201a8"
            ],
            [
             0.3333333333333333,
             "#9c179e"
            ],
            [
             0.4444444444444444,
             "#bd3786"
            ],
            [
             0.5555555555555556,
             "#d8576b"
            ],
            [
             0.6666666666666666,
             "#ed7953"
            ],
            [
             0.7777777777777778,
             "#fb9f3a"
            ],
            [
             0.8888888888888888,
             "#fdca26"
            ],
            [
             1,
             "#f0f921"
            ]
           ],
           "sequentialminus": [
            [
             0,
             "#0d0887"
            ],
            [
             0.1111111111111111,
             "#46039f"
            ],
            [
             0.2222222222222222,
             "#7201a8"
            ],
            [
             0.3333333333333333,
             "#9c179e"
            ],
            [
             0.4444444444444444,
             "#bd3786"
            ],
            [
             0.5555555555555556,
             "#d8576b"
            ],
            [
             0.6666666666666666,
             "#ed7953"
            ],
            [
             0.7777777777777778,
             "#fb9f3a"
            ],
            [
             0.8888888888888888,
             "#fdca26"
            ],
            [
             1,
             "#f0f921"
            ]
           ]
          },
          "colorway": [
           "#636efa",
           "#EF553B",
           "#00cc96",
           "#ab63fa",
           "#FFA15A",
           "#19d3f3",
           "#FF6692",
           "#B6E880",
           "#FF97FF",
           "#FECB52"
          ],
          "font": {
           "color": "#2a3f5f"
          },
          "geo": {
           "bgcolor": "white",
           "lakecolor": "white",
           "landcolor": "#E5ECF6",
           "showlakes": true,
           "showland": true,
           "subunitcolor": "white"
          },
          "hoverlabel": {
           "align": "left"
          },
          "hovermode": "closest",
          "mapbox": {
           "style": "light"
          },
          "paper_bgcolor": "white",
          "plot_bgcolor": "#E5ECF6",
          "polar": {
           "angularaxis": {
            "gridcolor": "white",
            "linecolor": "white",
            "ticks": ""
           },
           "bgcolor": "#E5ECF6",
           "radialaxis": {
            "gridcolor": "white",
            "linecolor": "white",
            "ticks": ""
           }
          },
          "scene": {
           "xaxis": {
            "backgroundcolor": "#E5ECF6",
            "gridcolor": "white",
            "gridwidth": 2,
            "linecolor": "white",
            "showbackground": true,
            "ticks": "",
            "zerolinecolor": "white"
           },
           "yaxis": {
            "backgroundcolor": "#E5ECF6",
            "gridcolor": "white",
            "gridwidth": 2,
            "linecolor": "white",
            "showbackground": true,
            "ticks": "",
            "zerolinecolor": "white"
           },
           "zaxis": {
            "backgroundcolor": "#E5ECF6",
            "gridcolor": "white",
            "gridwidth": 2,
            "linecolor": "white",
            "showbackground": true,
            "ticks": "",
            "zerolinecolor": "white"
           }
          },
          "shapedefaults": {
           "line": {
            "color": "#2a3f5f"
           }
          },
          "ternary": {
           "aaxis": {
            "gridcolor": "white",
            "linecolor": "white",
            "ticks": ""
           },
           "baxis": {
            "gridcolor": "white",
            "linecolor": "white",
            "ticks": ""
           },
           "bgcolor": "#E5ECF6",
           "caxis": {
            "gridcolor": "white",
            "linecolor": "white",
            "ticks": ""
           }
          },
          "title": {
           "x": 0.05
          },
          "xaxis": {
           "automargin": true,
           "gridcolor": "white",
           "linecolor": "white",
           "ticks": "",
           "title": {
            "standoff": 15
           },
           "zerolinecolor": "white",
           "zerolinewidth": 2
          },
          "yaxis": {
           "automargin": true,
           "gridcolor": "white",
           "linecolor": "white",
           "ticks": "",
           "title": {
            "standoff": 15
           },
           "zerolinecolor": "white",
           "zerolinewidth": 2
          }
         }
        },
        "title": {
         "text": "Qual é a sua cor ou raça? Value Counts"
        },
        "xaxis": {
         "title": {
          "text": "Qual é a sua cor ou raça?"
         }
        },
        "yaxis": {
         "title": {
          "text": "Frequency"
         }
        },
        "yaxis2": {
         "overlaying": "y",
         "side": "right",
         "title": {
          "text": "NOTA PROVA (mean)"
         }
        }
       }
      },
      "text/html": [
       "<div>                            <div id=\"de273363-1eac-43f5-b025-19cb443b6b33\" class=\"plotly-graph-div\" style=\"height:525px; width:100%;\"></div>            <script type=\"text/javascript\">                require([\"plotly\"], function(Plotly) {                    window.PLOTLYENV=window.PLOTLYENV || {};                                    if (document.getElementById(\"de273363-1eac-43f5-b025-19cb443b6b33\")) {                    Plotly.newPlot(                        \"de273363-1eac-43f5-b025-19cb443b6b33\",                        [{\"name\": \"Frequency\", \"type\": \"bar\", \"x\": [\"Ind\\u00edgena.\", \"N\\u00e3o quero declarar.\", \"Amarela\", \"Parda\", \"Preta\", \"Branca\"], \"y\": [3, 24, 15, 452, 119, 211]}, {\"line\": {\"shape\": \"spline\", \"smoothing\": 0.3}, \"mode\": \"lines\", \"name\": \"NOTA PROVA (mean)\", \"type\": \"scatter\", \"x\": [\"Ind\\u00edgena.\", \"N\\u00e3o quero declarar.\", \"Amarela\", \"Parda\", \"Preta\", \"Branca\"], \"y\": [33.73333333333333, 38.92083333333333, 40.026666666666664, 40.042477876106155, 40.973109243697486, 44.06208530805686], \"yaxis\": \"y2\"}],                        {\"barmode\": \"group\", \"legend\": {\"orientation\": \"h\"}, \"template\": {\"data\": {\"bar\": [{\"error_x\": {\"color\": \"#2a3f5f\"}, \"error_y\": {\"color\": \"#2a3f5f\"}, \"marker\": {\"line\": {\"color\": \"#E5ECF6\", \"width\": 0.5}}, \"type\": \"bar\"}], \"barpolar\": [{\"marker\": {\"line\": {\"color\": \"#E5ECF6\", \"width\": 0.5}}, \"type\": \"barpolar\"}], \"carpet\": [{\"aaxis\": {\"endlinecolor\": \"#2a3f5f\", \"gridcolor\": \"white\", \"linecolor\": \"white\", \"minorgridcolor\": \"white\", \"startlinecolor\": \"#2a3f5f\"}, \"baxis\": {\"endlinecolor\": \"#2a3f5f\", \"gridcolor\": \"white\", \"linecolor\": \"white\", \"minorgridcolor\": \"white\", \"startlinecolor\": \"#2a3f5f\"}, \"type\": \"carpet\"}], \"choropleth\": [{\"colorbar\": {\"outlinewidth\": 0, \"ticks\": \"\"}, \"type\": \"choropleth\"}], \"contour\": [{\"colorbar\": {\"outlinewidth\": 0, \"ticks\": \"\"}, \"colorscale\": [[0.0, \"#0d0887\"], [0.1111111111111111, \"#46039f\"], [0.2222222222222222, \"#7201a8\"], [0.3333333333333333, \"#9c179e\"], [0.4444444444444444, \"#bd3786\"], [0.5555555555555556, \"#d8576b\"], [0.6666666666666666, \"#ed7953\"], [0.7777777777777778, \"#fb9f3a\"], [0.8888888888888888, \"#fdca26\"], [1.0, \"#f0f921\"]], \"type\": \"contour\"}], \"contourcarpet\": [{\"colorbar\": {\"outlinewidth\": 0, \"ticks\": \"\"}, \"type\": \"contourcarpet\"}], \"heatmap\": [{\"colorbar\": {\"outlinewidth\": 0, \"ticks\": \"\"}, \"colorscale\": [[0.0, \"#0d0887\"], [0.1111111111111111, \"#46039f\"], [0.2222222222222222, \"#7201a8\"], [0.3333333333333333, \"#9c179e\"], [0.4444444444444444, \"#bd3786\"], [0.5555555555555556, \"#d8576b\"], [0.6666666666666666, \"#ed7953\"], [0.7777777777777778, \"#fb9f3a\"], [0.8888888888888888, \"#fdca26\"], [1.0, \"#f0f921\"]], \"type\": \"heatmap\"}], \"heatmapgl\": [{\"colorbar\": {\"outlinewidth\": 0, \"ticks\": \"\"}, \"colorscale\": [[0.0, \"#0d0887\"], [0.1111111111111111, \"#46039f\"], [0.2222222222222222, \"#7201a8\"], [0.3333333333333333, \"#9c179e\"], [0.4444444444444444, \"#bd3786\"], [0.5555555555555556, \"#d8576b\"], [0.6666666666666666, \"#ed7953\"], [0.7777777777777778, \"#fb9f3a\"], [0.8888888888888888, \"#fdca26\"], [1.0, \"#f0f921\"]], \"type\": \"heatmapgl\"}], \"histogram\": [{\"marker\": {\"colorbar\": {\"outlinewidth\": 0, \"ticks\": \"\"}}, \"type\": \"histogram\"}], \"histogram2d\": [{\"colorbar\": {\"outlinewidth\": 0, \"ticks\": \"\"}, \"colorscale\": [[0.0, \"#0d0887\"], [0.1111111111111111, \"#46039f\"], [0.2222222222222222, \"#7201a8\"], [0.3333333333333333, \"#9c179e\"], [0.4444444444444444, \"#bd3786\"], [0.5555555555555556, \"#d8576b\"], [0.6666666666666666, \"#ed7953\"], [0.7777777777777778, \"#fb9f3a\"], [0.8888888888888888, \"#fdca26\"], [1.0, \"#f0f921\"]], \"type\": \"histogram2d\"}], \"histogram2dcontour\": [{\"colorbar\": {\"outlinewidth\": 0, \"ticks\": \"\"}, \"colorscale\": [[0.0, \"#0d0887\"], [0.1111111111111111, \"#46039f\"], [0.2222222222222222, \"#7201a8\"], [0.3333333333333333, \"#9c179e\"], [0.4444444444444444, \"#bd3786\"], [0.5555555555555556, \"#d8576b\"], [0.6666666666666666, \"#ed7953\"], [0.7777777777777778, \"#fb9f3a\"], [0.8888888888888888, \"#fdca26\"], [1.0, \"#f0f921\"]], \"type\": \"histogram2dcontour\"}], \"mesh3d\": [{\"colorbar\": {\"outlinewidth\": 0, \"ticks\": \"\"}, \"type\": \"mesh3d\"}], \"parcoords\": [{\"line\": {\"colorbar\": {\"outlinewidth\": 0, \"ticks\": \"\"}}, \"type\": \"parcoords\"}], \"pie\": [{\"automargin\": true, \"type\": \"pie\"}], \"scatter\": [{\"marker\": {\"colorbar\": {\"outlinewidth\": 0, \"ticks\": \"\"}}, \"type\": \"scatter\"}], \"scatter3d\": [{\"line\": {\"colorbar\": {\"outlinewidth\": 0, \"ticks\": \"\"}}, \"marker\": {\"colorbar\": {\"outlinewidth\": 0, \"ticks\": \"\"}}, \"type\": \"scatter3d\"}], \"scattercarpet\": [{\"marker\": {\"colorbar\": {\"outlinewidth\": 0, \"ticks\": \"\"}}, \"type\": \"scattercarpet\"}], \"scattergeo\": [{\"marker\": {\"colorbar\": {\"outlinewidth\": 0, \"ticks\": \"\"}}, \"type\": \"scattergeo\"}], \"scattergl\": [{\"marker\": {\"colorbar\": {\"outlinewidth\": 0, \"ticks\": \"\"}}, \"type\": \"scattergl\"}], \"scattermapbox\": [{\"marker\": {\"colorbar\": {\"outlinewidth\": 0, \"ticks\": \"\"}}, \"type\": \"scattermapbox\"}], \"scatterpolar\": [{\"marker\": {\"colorbar\": {\"outlinewidth\": 0, \"ticks\": \"\"}}, \"type\": \"scatterpolar\"}], \"scatterpolargl\": [{\"marker\": {\"colorbar\": {\"outlinewidth\": 0, \"ticks\": \"\"}}, \"type\": \"scatterpolargl\"}], \"scatterternary\": [{\"marker\": {\"colorbar\": {\"outlinewidth\": 0, \"ticks\": \"\"}}, \"type\": \"scatterternary\"}], \"surface\": [{\"colorbar\": {\"outlinewidth\": 0, \"ticks\": \"\"}, \"colorscale\": [[0.0, \"#0d0887\"], [0.1111111111111111, \"#46039f\"], [0.2222222222222222, \"#7201a8\"], [0.3333333333333333, \"#9c179e\"], [0.4444444444444444, \"#bd3786\"], [0.5555555555555556, \"#d8576b\"], [0.6666666666666666, \"#ed7953\"], [0.7777777777777778, \"#fb9f3a\"], [0.8888888888888888, \"#fdca26\"], [1.0, \"#f0f921\"]], \"type\": \"surface\"}], \"table\": [{\"cells\": {\"fill\": {\"color\": \"#EBF0F8\"}, \"line\": {\"color\": \"white\"}}, \"header\": {\"fill\": {\"color\": \"#C8D4E3\"}, \"line\": {\"color\": \"white\"}}, \"type\": \"table\"}]}, \"layout\": {\"annotationdefaults\": {\"arrowcolor\": \"#2a3f5f\", \"arrowhead\": 0, \"arrowwidth\": 1}, \"autotypenumbers\": \"strict\", \"coloraxis\": {\"colorbar\": {\"outlinewidth\": 0, \"ticks\": \"\"}}, \"colorscale\": {\"diverging\": [[0, \"#8e0152\"], [0.1, \"#c51b7d\"], [0.2, \"#de77ae\"], [0.3, \"#f1b6da\"], [0.4, \"#fde0ef\"], [0.5, \"#f7f7f7\"], [0.6, \"#e6f5d0\"], [0.7, \"#b8e186\"], [0.8, \"#7fbc41\"], [0.9, \"#4d9221\"], [1, \"#276419\"]], \"sequential\": [[0.0, \"#0d0887\"], [0.1111111111111111, \"#46039f\"], [0.2222222222222222, \"#7201a8\"], [0.3333333333333333, \"#9c179e\"], [0.4444444444444444, \"#bd3786\"], [0.5555555555555556, \"#d8576b\"], [0.6666666666666666, \"#ed7953\"], [0.7777777777777778, \"#fb9f3a\"], [0.8888888888888888, \"#fdca26\"], [1.0, \"#f0f921\"]], \"sequentialminus\": [[0.0, \"#0d0887\"], [0.1111111111111111, \"#46039f\"], [0.2222222222222222, \"#7201a8\"], [0.3333333333333333, \"#9c179e\"], [0.4444444444444444, \"#bd3786\"], [0.5555555555555556, \"#d8576b\"], [0.6666666666666666, \"#ed7953\"], [0.7777777777777778, \"#fb9f3a\"], [0.8888888888888888, \"#fdca26\"], [1.0, \"#f0f921\"]]}, \"colorway\": [\"#636efa\", \"#EF553B\", \"#00cc96\", \"#ab63fa\", \"#FFA15A\", \"#19d3f3\", \"#FF6692\", \"#B6E880\", \"#FF97FF\", \"#FECB52\"], \"font\": {\"color\": \"#2a3f5f\"}, \"geo\": {\"bgcolor\": \"white\", \"lakecolor\": \"white\", \"landcolor\": \"#E5ECF6\", \"showlakes\": true, \"showland\": true, \"subunitcolor\": \"white\"}, \"hoverlabel\": {\"align\": \"left\"}, \"hovermode\": \"closest\", \"mapbox\": {\"style\": \"light\"}, \"paper_bgcolor\": \"white\", \"plot_bgcolor\": \"#E5ECF6\", \"polar\": {\"angularaxis\": {\"gridcolor\": \"white\", \"linecolor\": \"white\", \"ticks\": \"\"}, \"bgcolor\": \"#E5ECF6\", \"radialaxis\": {\"gridcolor\": \"white\", \"linecolor\": \"white\", \"ticks\": \"\"}}, \"scene\": {\"xaxis\": {\"backgroundcolor\": \"#E5ECF6\", \"gridcolor\": \"white\", \"gridwidth\": 2, \"linecolor\": \"white\", \"showbackground\": true, \"ticks\": \"\", \"zerolinecolor\": \"white\"}, \"yaxis\": {\"backgroundcolor\": \"#E5ECF6\", \"gridcolor\": \"white\", \"gridwidth\": 2, \"linecolor\": \"white\", \"showbackground\": true, \"ticks\": \"\", \"zerolinecolor\": \"white\"}, \"zaxis\": {\"backgroundcolor\": \"#E5ECF6\", \"gridcolor\": \"white\", \"gridwidth\": 2, \"linecolor\": \"white\", \"showbackground\": true, \"ticks\": \"\", \"zerolinecolor\": \"white\"}}, \"shapedefaults\": {\"line\": {\"color\": \"#2a3f5f\"}}, \"ternary\": {\"aaxis\": {\"gridcolor\": \"white\", \"linecolor\": \"white\", \"ticks\": \"\"}, \"baxis\": {\"gridcolor\": \"white\", \"linecolor\": \"white\", \"ticks\": \"\"}, \"bgcolor\": \"#E5ECF6\", \"caxis\": {\"gridcolor\": \"white\", \"linecolor\": \"white\", \"ticks\": \"\"}}, \"title\": {\"x\": 0.05}, \"xaxis\": {\"automargin\": true, \"gridcolor\": \"white\", \"linecolor\": \"white\", \"ticks\": \"\", \"title\": {\"standoff\": 15}, \"zerolinecolor\": \"white\", \"zerolinewidth\": 2}, \"yaxis\": {\"automargin\": true, \"gridcolor\": \"white\", \"linecolor\": \"white\", \"ticks\": \"\", \"title\": {\"standoff\": 15}, \"zerolinecolor\": \"white\", \"zerolinewidth\": 2}}}, \"title\": {\"text\": \"Qual \\u00e9 a sua cor ou ra\\u00e7a? Value Counts\"}, \"xaxis\": {\"title\": {\"text\": \"Qual \\u00e9 a sua cor ou ra\\u00e7a?\"}}, \"yaxis\": {\"title\": {\"text\": \"Frequency\"}}, \"yaxis2\": {\"overlaying\": \"y\", \"side\": \"right\", \"title\": {\"text\": \"NOTA PROVA (mean)\"}}},                        {\"responsive\": true}                    ).then(function(){\n",
       "                            \n",
       "var gd = document.getElementById('de273363-1eac-43f5-b025-19cb443b6b33');\n",
       "var x = new MutationObserver(function (mutations, observer) {{\n",
       "        var display = window.getComputedStyle(gd).display;\n",
       "        if (!display || display === 'none') {{\n",
       "            console.log([gd, 'removed!']);\n",
       "            Plotly.purge(gd);\n",
       "            observer.disconnect();\n",
       "        }}\n",
       "}});\n",
       "\n",
       "// Listen for the removal of the full notebook cells\n",
       "var notebookContainer = gd.closest('#notebook-container');\n",
       "if (notebookContainer) {{\n",
       "    x.observe(notebookContainer, {childList: true});\n",
       "}}\n",
       "\n",
       "// Listen for the clearing of the current output cell\n",
       "var outputEl = gd.closest('.output');\n",
       "if (outputEl) {{\n",
       "    x.observe(outputEl, {childList: true});\n",
       "}}\n",
       "\n",
       "                        })                };                });            </script>        </div>"
      ]
     },
     "metadata": {},
     "output_type": "display_data"
    }
   ],
   "source": [
    "figure.show()"
   ]
  },
  {
   "cell_type": "code",
   "execution_count": null,
   "metadata": {},
   "outputs": [],
   "source": []
  }
 ],
 "metadata": {
  "kernelspec": {
   "display_name": "Python 3",
   "language": "python",
   "name": "python3"
  },
  "language_info": {
   "codemirror_mode": {
    "name": "ipython",
    "version": 3
   },
   "file_extension": ".py",
   "mimetype": "text/x-python",
   "name": "python",
   "nbconvert_exporter": "python",
   "pygments_lexer": "ipython3",
   "version": "3.8.5"
  }
 },
 "nbformat": 4,
 "nbformat_minor": 4
}
