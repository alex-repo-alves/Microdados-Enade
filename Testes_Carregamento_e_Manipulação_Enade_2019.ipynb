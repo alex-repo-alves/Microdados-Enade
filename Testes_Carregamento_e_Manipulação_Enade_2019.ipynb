{
 "cells": [
  {
   "cell_type": "markdown",
   "metadata": {},
   "source": [
    "# <font color='blue'>Carregamento microdados Enade 2019</font>"
   ]
  },
  {
   "cell_type": "code",
   "execution_count": null,
   "metadata": {},
   "outputs": [],
   "source": [
    "# Abrindo o arquivo para leitura\n",
    "microdados_enade_2019 = open(\"Dados/microdados_enade_2019.txt\", \"r\")"
   ]
  },
  {
   "cell_type": "code",
   "execution_count": null,
   "metadata": {},
   "outputs": [],
   "source": [
    "# Lendo o arquivo\n",
    "data_enade_2019 = microdados_enade_2019.read()"
   ]
  },
  {
   "cell_type": "code",
   "execution_count": null,
   "metadata": {},
   "outputs": [],
   "source": [
    "rows = data_enade_2019.split('\\n')"
   ]
  },
  {
   "cell_type": "code",
   "execution_count": null,
   "metadata": {},
   "outputs": [],
   "source": [
    "full_data = []"
   ]
  },
  {
   "cell_type": "code",
   "execution_count": null,
   "metadata": {},
   "outputs": [],
   "source": [
    "for row in rows:\n",
    "    split_row = row.split(\";\")\n",
    "    full_data.append(split_row)\n"
   ]
  },
  {
   "cell_type": "code",
   "execution_count": null,
   "metadata": {},
   "outputs": [],
   "source": [
    "import time\n",
    "\n",
    "inicio = time.time()\n",
    "print(full_data[0:3])\n",
    "fim = time.time()"
   ]
  },
  {
   "cell_type": "code",
   "execution_count": null,
   "metadata": {},
   "outputs": [],
   "source": [
    "print(fim - inicio)"
   ]
  },
  {
   "cell_type": "markdown",
   "metadata": {},
   "source": [
    "### Contando as linhas"
   ]
  },
  {
   "cell_type": "code",
   "execution_count": null,
   "metadata": {},
   "outputs": [],
   "source": [
    "count = 0\n",
    "for row in full_data:\n",
    "    count += 1"
   ]
  },
  {
   "cell_type": "code",
   "execution_count": null,
   "metadata": {},
   "outputs": [],
   "source": [
    "print(count)"
   ]
  },
  {
   "cell_type": "markdown",
   "metadata": {},
   "source": [
    "### Contando as colunas"
   ]
  },
  {
   "cell_type": "code",
   "execution_count": null,
   "metadata": {},
   "outputs": [],
   "source": [
    "count = 0\n",
    "for column in full_data[0]:\n",
    "    count = count + 1"
   ]
  },
  {
   "cell_type": "code",
   "execution_count": null,
   "metadata": {},
   "outputs": [],
   "source": [
    "print(count)"
   ]
  },
  {
   "cell_type": "markdown",
   "metadata": {},
   "source": [
    "## Inportando o dataset com pandas"
   ]
  },
  {
   "cell_type": "code",
   "execution_count": 1,
   "metadata": {},
   "outputs": [
    {
     "data": {
      "text/plain": [
       "'1.1.3'"
      ]
     },
     "execution_count": 1,
     "metadata": {},
     "output_type": "execute_result"
    }
   ],
   "source": [
    "# Importando pandas\n",
    "import pandas as pd\n",
    "pd.__version__"
   ]
  },
  {
   "cell_type": "code",
   "execution_count": null,
   "metadata": {},
   "outputs": [],
   "source": [
    "file_name = \"Dados/microdados_enade_2019.txt\""
   ]
  },
  {
   "cell_type": "code",
   "execution_count": null,
   "metadata": {},
   "outputs": [],
   "source": [
    "# Criação do DataFrame com os dados do CSV\n",
    "# low_memory=False para ignorar a limitação de memória\n",
    "df = pd.read_csv(file_name, encoding='utf-8', sep=\";\", low_memory=False)"
   ]
  },
  {
   "cell_type": "code",
   "execution_count": null,
   "metadata": {},
   "outputs": [],
   "source": [
    "df.head()"
   ]
  },
  {
   "cell_type": "code",
   "execution_count": null,
   "metadata": {},
   "outputs": [],
   "source": [
    "df['CO_GRUPO'].value_counts()"
   ]
  },
  {
   "cell_type": "code",
   "execution_count": null,
   "metadata": {},
   "outputs": [],
   "source": [
    "cod = [4003, 5710, 5806, 5814, 5902, 6002, 6008, 6208, 6307, 6405]"
   ]
  },
  {
   "cell_type": "code",
   "execution_count": null,
   "metadata": {},
   "outputs": [],
   "source": [
    "engenharias_ufpa = df.query(f'CO_GRUPO in {cod} and CO_IES == 569')"
   ]
  },
  {
   "cell_type": "code",
   "execution_count": null,
   "metadata": {},
   "outputs": [],
   "source": [
    "engenharias_ufpa.head()"
   ]
  },
  {
   "cell_type": "code",
   "execution_count": null,
   "metadata": {},
   "outputs": [],
   "source": [
    "engenharias_ufpa['CO_GRUPO'].value_counts()"
   ]
  },
  {
   "cell_type": "code",
   "execution_count": null,
   "metadata": {},
   "outputs": [],
   "source": [
    "engenharias_ufpa"
   ]
  },
  {
   "cell_type": "code",
   "execution_count": null,
   "metadata": {},
   "outputs": [],
   "source": [
    "df"
   ]
  },
  {
   "cell_type": "code",
   "execution_count": null,
   "metadata": {},
   "outputs": [],
   "source": [
    "engenharias_ufpa['CO_UF_CURSO'].value_counts()"
   ]
  },
  {
   "cell_type": "code",
   "execution_count": 17,
   "metadata": {},
   "outputs": [],
   "source": [
    "# Importando sweetviz\n",
    "import sweetviz as sv\n",
    "import numpy as np"
   ]
  },
  {
   "cell_type": "code",
   "execution_count": 16,
   "metadata": {},
   "outputs": [
    {
     "ename": "ModuleNotFoundError",
     "evalue": "No module named 'dtale'",
     "output_type": "error",
     "traceback": [
      "\u001b[1;31m---------------------------------------------------------------------------\u001b[0m",
      "\u001b[1;31mModuleNotFoundError\u001b[0m                       Traceback (most recent call last)",
      "\u001b[1;32m<ipython-input-16-33560840fdc5>\u001b[0m in \u001b[0;36m<module>\u001b[1;34m\u001b[0m\n\u001b[1;32m----> 1\u001b[1;33m \u001b[1;32mimport\u001b[0m \u001b[0mdtale\u001b[0m\u001b[1;33m\u001b[0m\u001b[1;33m\u001b[0m\u001b[0m\n\u001b[0m",
      "\u001b[1;31mModuleNotFoundError\u001b[0m: No module named 'dtale'"
     ]
    }
   ],
   "source": [
    "import dtale"
   ]
  },
  {
   "cell_type": "code",
   "execution_count": null,
   "metadata": {},
   "outputs": [],
   "source": [
    "dtale.show(engenharias_ufpa_csv)"
   ]
  },
  {
   "cell_type": "code",
   "execution_count": null,
   "metadata": {},
   "outputs": [],
   "source": [
    "# Cria o report e chama de my_report\n",
    "# my_report = sv.analyze(df)"
   ]
  },
  {
   "cell_type": "code",
   "execution_count": null,
   "metadata": {},
   "outputs": [],
   "source": [
    "# Exporta report para HTML\n",
    "# my_report.show_html()"
   ]
  },
  {
   "cell_type": "code",
   "execution_count": 11,
   "metadata": {},
   "outputs": [],
   "source": [
    "engenharias_ufpa_csv = pd.read_csv(\"Dados/2019/microdados_enade_2019_engenharias_UFPA - Copia.csv\", encoding='utf-8', sep=\";\", low_memory=False)"
   ]
  },
  {
   "cell_type": "code",
   "execution_count": 12,
   "metadata": {},
   "outputs": [],
   "source": [
    "engenharias_ufpa_csv = engenharias_ufpa_csv.drop(columns=['ANO EXAME', 'CO_IES', 'CO_CATEGAD', 'CO_ORGACAD', 'CO_CURSO', 'CO_MODALIDADE',\n",
    "                                                          'CO_UF_CURSO', 'CO_REGIAO_CURSO', 'TP_INSCRICAO_ADM', 'TP_INSCRICAO', \n",
    "                                                          'NU_ITEM_OFG', 'NU_ITEM_OFG_Z', 'NU_ITEM_OFG_X', 'NU_ITEM_OFG_N', \n",
    "                                                          'NU_ITEM_OCE', 'NU_ITEM_OCE_Z', 'NU_ITEM_OCE_X', 'NU_ITEM_OCE_N', \n",
    "                                                          'DS_VT_GAB_OFG_ORIG', 'DS_VT_GAB_OFG_FIN', 'DS_VT_GAB_OCE_ORIG', \n",
    "                                                          'DS_VT_GAB_OCE_FIN', 'DS_VT_ESC_OFG', 'DS_VT_ACE_OFG', 'DS_VT_ESC_OCE',\n",
    "                                                          'DS_VT_ACE_OCE', 'PRESENCA NO ENADE', 'TP_PR_GER', 'TP_PR_OB_FG', \n",
    "                                                          'TP_PR_DI_FG', 'TP_PR_OB_CE', 'TP_PR_DI_CE', 'TP_SFG_D1', 'TP_SFG_D2', \n",
    "                                                          'TP_SCE_D1', 'TP_SCE_D2', 'TP_SCE_D3', 'NT_FG_D1', 'NT_FG_D1_PT', \n",
    "                                                          'NT_FG_D1_CT', 'NT_FG_D2', 'NT_FG_D2_PT', 'NT_FG_D2_CT', 'NT_CE_D1', \n",
    "                                                          'NT_CE_D2', 'NT_CE_D3'])"
   ]
  },
  {
   "cell_type": "code",
   "execution_count": null,
   "metadata": {},
   "outputs": [],
   "source": [
    "my_report = sv.analyze(engenharias_ufpa_csv)"
   ]
  },
  {
   "cell_type": "code",
   "execution_count": 13,
   "metadata": {},
   "outputs": [
    {
     "data": {
      "text/html": [
       "<div>\n",
       "<style scoped>\n",
       "    .dataframe tbody tr th:only-of-type {\n",
       "        vertical-align: middle;\n",
       "    }\n",
       "\n",
       "    .dataframe tbody tr th {\n",
       "        vertical-align: top;\n",
       "    }\n",
       "\n",
       "    .dataframe thead th {\n",
       "        text-align: right;\n",
       "    }\n",
       "</style>\n",
       "<table border=\"1\" class=\"dataframe\">\n",
       "  <thead>\n",
       "    <tr style=\"text-align: right;\">\n",
       "      <th></th>\n",
       "      <th>CO_GRUPO</th>\n",
       "      <th>MUNICIPIO CURSO</th>\n",
       "      <th>IDADE</th>\n",
       "      <th>SEXO</th>\n",
       "      <th>ANO FIM ENSINO MEDIO</th>\n",
       "      <th>ANO INICIO GRADUACAO</th>\n",
       "      <th>TURNO GRADUACAO</th>\n",
       "      <th>NOTA PROVA</th>\n",
       "      <th>NOTA FORMACAO GERAL</th>\n",
       "      <th>NOTA PROVA OBJETIVA FORMACAO GERAL</th>\n",
       "      <th>...</th>\n",
       "      <th>A instituição dispôs de quantidade suficiente de funcionários para o apoio administrativo e acadêmico.</th>\n",
       "      <th>O curso disponibilizou monitores ou tutores para auxiliar os estudantes.</th>\n",
       "      <th>As condições de infraestrutura das salas de aula foram adequadas.</th>\n",
       "      <th>Os equipamentos e materiais disponíveis para as aulas práticas foram adequados para a quantidade de estudantes.</th>\n",
       "      <th>Os ambientes e equipamentos destinados às aulas práticas foram adequados ao curso.</th>\n",
       "      <th>A biblioteca dispôs das referências bibliográficas que os estudantes necessitaram.</th>\n",
       "      <th>A instituição contou com biblioteca virtual ou conferiu acesso a obras disponíveis em acervos virtuais.</th>\n",
       "      <th>As atividades acadêmicas desenvolvidas dentro e fora da sala de aula possibilitaram reflexão, convivência e respeito à diversidade.</th>\n",
       "      <th>A instituição promoveu atividades de cultura, de lazer e interação social.</th>\n",
       "      <th>A instituição dispôs de refeitório, cantina e banheiros em condições adequadas que atenderam as necessidades dos seus usuários.</th>\n",
       "    </tr>\n",
       "  </thead>\n",
       "  <tbody>\n",
       "    <tr>\n",
       "      <th>0</th>\n",
       "      <td>ENGENHARIA CIVIL</td>\n",
       "      <td>BELEM</td>\n",
       "      <td>22</td>\n",
       "      <td>M</td>\n",
       "      <td>2014</td>\n",
       "      <td>2015</td>\n",
       "      <td>3</td>\n",
       "      <td>77.8</td>\n",
       "      <td>57.0</td>\n",
       "      <td>85.7</td>\n",
       "      <td>...</td>\n",
       "      <td>Concordo</td>\n",
       "      <td>Concordo totalmente</td>\n",
       "      <td>Concordo totalmente</td>\n",
       "      <td>Concordo totalmente</td>\n",
       "      <td>Concordo totalmente</td>\n",
       "      <td>Concordo totalmente</td>\n",
       "      <td>Concordo totalmente</td>\n",
       "      <td>Concordo totalmente</td>\n",
       "      <td>Concordo totalmente</td>\n",
       "      <td>Concordo totalmente</td>\n",
       "    </tr>\n",
       "    <tr>\n",
       "      <th>1</th>\n",
       "      <td>ENGENHARIA CIVIL</td>\n",
       "      <td>BELEM</td>\n",
       "      <td>27</td>\n",
       "      <td>F</td>\n",
       "      <td>2009</td>\n",
       "      <td>2014</td>\n",
       "      <td>3</td>\n",
       "      <td>39.7</td>\n",
       "      <td>47.6</td>\n",
       "      <td>71.4</td>\n",
       "      <td>...</td>\n",
       "      <td>Concordo totalmente</td>\n",
       "      <td>Concordo totalmente</td>\n",
       "      <td>Concordo totalmente</td>\n",
       "      <td>Concordo totalmente</td>\n",
       "      <td>Concordo</td>\n",
       "      <td>Concordo totalmente</td>\n",
       "      <td>Concordo totalmente</td>\n",
       "      <td>Concordo totalmente</td>\n",
       "      <td>Concordo totalmente</td>\n",
       "      <td>Concordo totalmente</td>\n",
       "    </tr>\n",
       "    <tr>\n",
       "      <th>2</th>\n",
       "      <td>ENGENHARIA CIVIL</td>\n",
       "      <td>BELEM</td>\n",
       "      <td>27</td>\n",
       "      <td>F</td>\n",
       "      <td>2009</td>\n",
       "      <td>2011</td>\n",
       "      <td>3</td>\n",
       "      <td>46.0</td>\n",
       "      <td>80.4</td>\n",
       "      <td>100.0</td>\n",
       "      <td>...</td>\n",
       "      <td>Concordo parcialmente</td>\n",
       "      <td>Discordo parcialmente</td>\n",
       "      <td>Concordo</td>\n",
       "      <td>Concordo parcialmente</td>\n",
       "      <td>Concordo parcialmente</td>\n",
       "      <td>Concordo parcialmente</td>\n",
       "      <td>Concordo parcialmente</td>\n",
       "      <td>Concordo parcialmente</td>\n",
       "      <td>Discordo parcialmente</td>\n",
       "      <td>Concordo parcialmente</td>\n",
       "    </tr>\n",
       "    <tr>\n",
       "      <th>3</th>\n",
       "      <td>ENGENHARIA CIVIL</td>\n",
       "      <td>BELEM</td>\n",
       "      <td>38</td>\n",
       "      <td>M</td>\n",
       "      <td>2009</td>\n",
       "      <td>2014</td>\n",
       "      <td>3</td>\n",
       "      <td>70.5</td>\n",
       "      <td>68.2</td>\n",
       "      <td>85.7</td>\n",
       "      <td>...</td>\n",
       "      <td>Concordo parcialmente</td>\n",
       "      <td>Concordo parcialmente</td>\n",
       "      <td>Concordo</td>\n",
       "      <td>Concordo parcialmente</td>\n",
       "      <td>Concordo</td>\n",
       "      <td>Concordo totalmente</td>\n",
       "      <td>Discordo parcialmente</td>\n",
       "      <td>Concordo</td>\n",
       "      <td>Concordo totalmente</td>\n",
       "      <td>Concordo</td>\n",
       "    </tr>\n",
       "    <tr>\n",
       "      <th>4</th>\n",
       "      <td>ENGENHARIA CIVIL</td>\n",
       "      <td>BELEM</td>\n",
       "      <td>26</td>\n",
       "      <td>M</td>\n",
       "      <td>2011</td>\n",
       "      <td>2014</td>\n",
       "      <td>3</td>\n",
       "      <td>56.7</td>\n",
       "      <td>45.3</td>\n",
       "      <td>57.1</td>\n",
       "      <td>...</td>\n",
       "      <td>Discordo parcialmente</td>\n",
       "      <td>Concordo parcialmente</td>\n",
       "      <td>Concordo</td>\n",
       "      <td>Discordo parcialmente</td>\n",
       "      <td>Discordo parcialmente</td>\n",
       "      <td>Discordo parcialmente</td>\n",
       "      <td>Não se aplica</td>\n",
       "      <td>Concordo parcialmente</td>\n",
       "      <td>Concordo parcialmente</td>\n",
       "      <td>Concordo parcialmente</td>\n",
       "    </tr>\n",
       "  </tbody>\n",
       "</table>\n",
       "<p>5 rows × 91 columns</p>\n",
       "</div>"
      ],
      "text/plain": [
       "           CO_GRUPO MUNICIPIO CURSO  IDADE SEXO  ANO FIM ENSINO MEDIO  \\\n",
       "0  ENGENHARIA CIVIL           BELEM     22    M                  2014   \n",
       "1  ENGENHARIA CIVIL           BELEM     27    F                  2009   \n",
       "2  ENGENHARIA CIVIL           BELEM     27    F                  2009   \n",
       "3  ENGENHARIA CIVIL           BELEM     38    M                  2009   \n",
       "4  ENGENHARIA CIVIL           BELEM     26    M                  2011   \n",
       "\n",
       "   ANO INICIO GRADUACAO  TURNO GRADUACAO  NOTA PROVA  NOTA FORMACAO GERAL  \\\n",
       "0                  2015                3        77.8                 57.0   \n",
       "1                  2014                3        39.7                 47.6   \n",
       "2                  2011                3        46.0                 80.4   \n",
       "3                  2014                3        70.5                 68.2   \n",
       "4                  2014                3        56.7                 45.3   \n",
       "\n",
       "   NOTA PROVA OBJETIVA FORMACAO GERAL  ...  \\\n",
       "0                                85.7  ...   \n",
       "1                                71.4  ...   \n",
       "2                               100.0  ...   \n",
       "3                                85.7  ...   \n",
       "4                                57.1  ...   \n",
       "\n",
       "   A instituição dispôs de quantidade suficiente de funcionários para o apoio administrativo e acadêmico.  \\\n",
       "0                                           Concordo                                                        \n",
       "1                                Concordo totalmente                                                        \n",
       "2                              Concordo parcialmente                                                        \n",
       "3                              Concordo parcialmente                                                        \n",
       "4                              Discordo parcialmente                                                        \n",
       "\n",
       "   O curso disponibilizou monitores ou tutores para auxiliar os estudantes.  \\\n",
       "0                                Concordo totalmente                          \n",
       "1                                Concordo totalmente                          \n",
       "2                              Discordo parcialmente                          \n",
       "3                              Concordo parcialmente                          \n",
       "4                              Concordo parcialmente                          \n",
       "\n",
       "   As condições de infraestrutura das salas de aula foram adequadas.  \\\n",
       "0                                Concordo totalmente                   \n",
       "1                                Concordo totalmente                   \n",
       "2                                           Concordo                   \n",
       "3                                           Concordo                   \n",
       "4                                           Concordo                   \n",
       "\n",
       "   Os equipamentos e materiais disponíveis para as aulas práticas foram adequados para a quantidade de estudantes.  \\\n",
       "0                                Concordo totalmente                                                                 \n",
       "1                                Concordo totalmente                                                                 \n",
       "2                              Concordo parcialmente                                                                 \n",
       "3                              Concordo parcialmente                                                                 \n",
       "4                              Discordo parcialmente                                                                 \n",
       "\n",
       "  Os ambientes e equipamentos destinados às aulas práticas foram adequados ao curso.  \\\n",
       "0                                Concordo totalmente                                   \n",
       "1                                           Concordo                                   \n",
       "2                              Concordo parcialmente                                   \n",
       "3                                           Concordo                                   \n",
       "4                              Discordo parcialmente                                   \n",
       "\n",
       "  A biblioteca dispôs das referências bibliográficas que os estudantes necessitaram.  \\\n",
       "0                                Concordo totalmente                                   \n",
       "1                                Concordo totalmente                                   \n",
       "2                              Concordo parcialmente                                   \n",
       "3                                Concordo totalmente                                   \n",
       "4                              Discordo parcialmente                                   \n",
       "\n",
       "  A instituição contou com biblioteca virtual ou conferiu acesso a obras disponíveis em acervos virtuais.  \\\n",
       "0                                Concordo totalmente                                                        \n",
       "1                                Concordo totalmente                                                        \n",
       "2                              Concordo parcialmente                                                        \n",
       "3                              Discordo parcialmente                                                        \n",
       "4                                      Não se aplica                                                        \n",
       "\n",
       "  As atividades acadêmicas desenvolvidas dentro e fora da sala de aula possibilitaram reflexão, convivência e respeito à diversidade.  \\\n",
       "0                                Concordo totalmente                                                                                    \n",
       "1                                Concordo totalmente                                                                                    \n",
       "2                              Concordo parcialmente                                                                                    \n",
       "3                                           Concordo                                                                                    \n",
       "4                              Concordo parcialmente                                                                                    \n",
       "\n",
       "  A instituição promoveu atividades de cultura, de lazer e interação social.  \\\n",
       "0                                Concordo totalmente                           \n",
       "1                                Concordo totalmente                           \n",
       "2                              Discordo parcialmente                           \n",
       "3                                Concordo totalmente                           \n",
       "4                              Concordo parcialmente                           \n",
       "\n",
       "  A instituição dispôs de refeitório, cantina e banheiros em condições adequadas que atenderam as necessidades dos seus usuários.  \n",
       "0                                Concordo totalmente                                                                               \n",
       "1                                Concordo totalmente                                                                               \n",
       "2                              Concordo parcialmente                                                                               \n",
       "3                                           Concordo                                                                               \n",
       "4                              Concordo parcialmente                                                                               \n",
       "\n",
       "[5 rows x 91 columns]"
      ]
     },
     "execution_count": 13,
     "metadata": {},
     "output_type": "execute_result"
    }
   ],
   "source": [
    "engenharias_ufpa_csv.head()"
   ]
  },
  {
   "cell_type": "code",
   "execution_count": null,
   "metadata": {},
   "outputs": [],
   "source": [
    "my_report.show_html()"
   ]
  },
  {
   "cell_type": "code",
   "execution_count": null,
   "metadata": {},
   "outputs": [],
   "source": [
    "engenharias_ufpa_csv['NOTA PROVA'].mean()"
   ]
  },
  {
   "cell_type": "code",
   "execution_count": null,
   "metadata": {},
   "outputs": [],
   "source": [
    "eng_ufpa_sem_na = engenharias_ufpa_csv.dropna()"
   ]
  },
  {
   "cell_type": "code",
   "execution_count": null,
   "metadata": {},
   "outputs": [],
   "source": [
    "eng_ufpa_sem_na"
   ]
  },
  {
   "cell_type": "code",
   "execution_count": null,
   "metadata": {},
   "outputs": [],
   "source": [
    "my_report = sv.analyze(eng_ufpa_sem_na)"
   ]
  },
  {
   "cell_type": "code",
   "execution_count": null,
   "metadata": {},
   "outputs": [],
   "source": [
    "my_report.show_html()"
   ]
  },
  {
   "cell_type": "code",
   "execution_count": null,
   "metadata": {},
   "outputs": [],
   "source": [
    "engcomp = engenharias_ufpa_csv.query('CO_GRUPO == 4003')"
   ]
  },
  {
   "cell_type": "code",
   "execution_count": null,
   "metadata": {},
   "outputs": [],
   "source": [
    "my_report = sv.analyze(engcomp)"
   ]
  },
  {
   "cell_type": "code",
   "execution_count": null,
   "metadata": {},
   "outputs": [],
   "source": [
    "my_report.show_html()"
   ]
  },
  {
   "cell_type": "code",
   "execution_count": null,
   "metadata": {},
   "outputs": [],
   "source": [
    "engcivil = engenharias_ufpa_csv.query('CO_GRUPO == 5710')"
   ]
  },
  {
   "cell_type": "code",
   "execution_count": null,
   "metadata": {},
   "outputs": [],
   "source": [
    "my_report = sv.analyze(engcivil)"
   ]
  },
  {
   "cell_type": "code",
   "execution_count": null,
   "metadata": {},
   "outputs": [],
   "source": [
    "my_report.show_html()"
   ]
  },
  {
   "cell_type": "code",
   "execution_count": null,
   "metadata": {},
   "outputs": [],
   "source": [
    "engeletrica = engenharias_ufpa_csv.query('CO_GRUPO == 5806')"
   ]
  },
  {
   "cell_type": "code",
   "execution_count": null,
   "metadata": {},
   "outputs": [],
   "source": [
    "my_report = sv.analyze(engeletrica)"
   ]
  },
  {
   "cell_type": "code",
   "execution_count": null,
   "metadata": {},
   "outputs": [],
   "source": [
    "my_report.show_html()"
   ]
  },
  {
   "cell_type": "code",
   "execution_count": null,
   "metadata": {},
   "outputs": [],
   "source": [
    "engmec = engenharias_ufpa_csv.query('CO_GRUPO == 5902')"
   ]
  },
  {
   "cell_type": "code",
   "execution_count": null,
   "metadata": {},
   "outputs": [],
   "source": [
    "my_report_engmec = sv.analyze(engmec)"
   ]
  },
  {
   "cell_type": "code",
   "execution_count": null,
   "metadata": {},
   "outputs": [],
   "source": [
    "my_report_engmec.show_html()"
   ]
  },
  {
   "cell_type": "code",
   "execution_count": null,
   "metadata": {},
   "outputs": [],
   "source": [
    "engali = engenharias_ufpa_csv.query('CO_GRUPO == 6002')"
   ]
  },
  {
   "cell_type": "code",
   "execution_count": null,
   "metadata": {},
   "outputs": [],
   "source": [
    "my_report_engali = sv.analyze(engali)"
   ]
  },
  {
   "cell_type": "code",
   "execution_count": null,
   "metadata": {},
   "outputs": [],
   "source": [
    "my_report_engali.show_html()"
   ]
  },
  {
   "cell_type": "code",
   "execution_count": null,
   "metadata": {},
   "outputs": [],
   "source": [
    "engquim = engenharias_ufpa_csv.query('CO_GRUPO == 6008')"
   ]
  },
  {
   "cell_type": "code",
   "execution_count": null,
   "metadata": {},
   "outputs": [],
   "source": [
    "my_report_engquim = sv.analyze(engquim)"
   ]
  },
  {
   "cell_type": "code",
   "execution_count": null,
   "metadata": {},
   "outputs": [],
   "source": [
    "my_report_engquim.show_html()"
   ]
  },
  {
   "cell_type": "code",
   "execution_count": null,
   "metadata": {},
   "outputs": [],
   "source": [
    "engprod = engenharias_ufpa_csv.query('CO_GRUPO == 6208')"
   ]
  },
  {
   "cell_type": "code",
   "execution_count": null,
   "metadata": {},
   "outputs": [],
   "source": [
    "my_report_engprod = sv.analyze(engprod)"
   ]
  },
  {
   "cell_type": "code",
   "execution_count": null,
   "metadata": {},
   "outputs": [],
   "source": [
    "my_report_engprod.show_html()"
   ]
  },
  {
   "cell_type": "code",
   "execution_count": null,
   "metadata": {},
   "outputs": [],
   "source": [
    "engflo = engenharias_ufpa_csv.query('CO_GRUPO == 6405')"
   ]
  },
  {
   "cell_type": "code",
   "execution_count": null,
   "metadata": {},
   "outputs": [],
   "source": [
    "my_report_engflo = sv.analyze(engflo)"
   ]
  },
  {
   "cell_type": "code",
   "execution_count": null,
   "metadata": {},
   "outputs": [],
   "source": [
    "my_report_engflo.show_html()"
   ]
  },
  {
   "cell_type": "code",
   "execution_count": null,
   "metadata": {},
   "outputs": [],
   "source": [
    "engamb = engenharias_ufpa_csv.query('CO_GRUPO == 6307')"
   ]
  },
  {
   "cell_type": "code",
   "execution_count": null,
   "metadata": {},
   "outputs": [],
   "source": [
    "my_report_engamb = sv.analyze(engamb)"
   ]
  },
  {
   "cell_type": "code",
   "execution_count": null,
   "metadata": {},
   "outputs": [],
   "source": [
    "my_report_engamb.show_html()"
   ]
  },
  {
   "cell_type": "code",
   "execution_count": 8,
   "metadata": {},
   "outputs": [],
   "source": [
    "import plotly.express as px"
   ]
  },
  {
   "cell_type": "code",
   "execution_count": 19,
   "metadata": {},
   "outputs": [
    {
     "data": {
      "application/vnd.plotly.v1+json": {
       "config": {
        "plotlyServerURL": "https://plot.ly"
       },
       "data": [
        {
         "alignmentgroup": "True",
         "boxpoints": "all",
         "hovertemplate": "Até que etapa de escolarização seu pai concluiu?=%{x}<br>NOTA PROVA=%{y}<extra></extra>",
         "legendgroup": "",
         "marker": {
          "color": "#636efa"
         },
         "name": "",
         "notched": false,
         "offsetgroup": "",
         "orientation": "v",
         "showlegend": false,
         "type": "box",
         "x": [
          "Pós-graduação.",
          "Ensino Superior - Graduação.",
          "Ensino Médio",
          "Ensino Superior - Graduação.",
          "Ensino Fundamental: 1º ao 5º ano (1ª a 4ª série).",
          "Pós-graduação.",
          "Ensino Médio",
          "Ensino Médio",
          "Ensino Fundamental: 1º ao 5º ano (1ª a 4ª série).",
          "Ensino Médio",
          "Ensino Médio",
          "Ensino Superior - Graduação.",
          "Nenhuma",
          "Ensino Médio",
          "Ensino Superior - Graduação.",
          "Ensino Fundamental: 1º ao 5º ano (1ª a 4ª série).",
          "Ensino Superior - Graduação.",
          "Pós-graduação.",
          "Ensino Médio",
          "Ensino Superior - Graduação.",
          "Ensino Fundamental: 1º ao 5º ano (1ª a 4ª série).",
          "Ensino Superior - Graduação.",
          "Ensino Fundamental: 1º ao 5º ano (1ª a 4ª série).",
          "Ensino Médio",
          "Ensino Superior - Graduação.",
          "Ensino Fundamental: 1º ao 5º ano (1ª a 4ª série).",
          "Ensino Superior - Graduação.",
          "Ensino Médio",
          "Ensino Superior - Graduação.",
          "Ensino Fundamental: 6º ao 9º ano (5ª a 8ª série).",
          "Ensino Superior - Graduação.",
          "Ensino Médio",
          "Ensino Médio",
          "Ensino Médio",
          "Ensino Médio",
          "Ensino Fundamental: 1º ao 5º ano (1ª a 4ª série).",
          "Nenhuma",
          "Ensino Superior - Graduação.",
          "Ensino Superior - Graduação.",
          "Ensino Médio",
          "Ensino Fundamental: 6º ao 9º ano (5ª a 8ª série).",
          "Ensino Médio",
          "Ensino Superior - Graduação.",
          "Ensino Superior - Graduação.",
          "Ensino Médio",
          "Ensino Fundamental: 6º ao 9º ano (5ª a 8ª série).",
          "Ensino Médio",
          "Ensino Fundamental: 1º ao 5º ano (1ª a 4ª série).",
          "Ensino Fundamental: 6º ao 9º ano (5ª a 8ª série).",
          "Ensino Médio",
          "Ensino Fundamental: 1º ao 5º ano (1ª a 4ª série).",
          "Ensino Superior - Graduação.",
          "Ensino Médio",
          "Ensino Fundamental: 6º ao 9º ano (5ª a 8ª série).",
          "Ensino Médio",
          "Ensino Superior - Graduação.",
          "Ensino Médio",
          "Ensino Fundamental: 6º ao 9º ano (5ª a 8ª série).",
          "Ensino Fundamental: 6º ao 9º ano (5ª a 8ª série).",
          "Ensino Fundamental: 6º ao 9º ano (5ª a 8ª série).",
          "Ensino Fundamental: 1º ao 5º ano (1ª a 4ª série).",
          "Ensino Médio",
          "Ensino Fundamental: 6º ao 9º ano (5ª a 8ª série).",
          "Ensino Médio",
          "Ensino Superior - Graduação.",
          "Ensino Médio",
          "Ensino Fundamental: 1º ao 5º ano (1ª a 4ª série).",
          "Pós-graduação.",
          "Ensino Superior - Graduação.",
          "Ensino Superior - Graduação.",
          "Ensino Médio",
          "Ensino Superior - Graduação.",
          "Ensino Fundamental: 6º ao 9º ano (5ª a 8ª série).",
          "Ensino Médio",
          "Ensino Fundamental: 1º ao 5º ano (1ª a 4ª série).",
          "Ensino Médio",
          "Ensino Superior - Graduação.",
          "Pós-graduação.",
          "Ensino Superior - Graduação.",
          "Ensino Médio",
          "Ensino Médio",
          "Ensino Médio",
          "Pós-graduação.",
          "Ensino Fundamental: 6º ao 9º ano (5ª a 8ª série).",
          "Ensino Fundamental: 1º ao 5º ano (1ª a 4ª série).",
          "Ensino Fundamental: 6º ao 9º ano (5ª a 8ª série).",
          "Ensino Fundamental: 6º ao 9º ano (5ª a 8ª série).",
          "Pós-graduação.",
          "Ensino Fundamental: 1º ao 5º ano (1ª a 4ª série).",
          "Ensino Fundamental: 1º ao 5º ano (1ª a 4ª série).",
          "Ensino Fundamental: 1º ao 5º ano (1ª a 4ª série).",
          "Ensino Médio",
          "Ensino Médio",
          "Ensino Superior - Graduação.",
          "Ensino Fundamental: 1º ao 5º ano (1ª a 4ª série).",
          "Ensino Médio",
          "Ensino Médio",
          "Ensino Médio",
          "Ensino Fundamental: 6º ao 9º ano (5ª a 8ª série).",
          "Ensino Médio",
          "Ensino Superior - Graduação.",
          "Ensino Fundamental: 1º ao 5º ano (1ª a 4ª série).",
          "Ensino Médio",
          "Ensino Superior - Graduação.",
          "Ensino Superior - Graduação.",
          "Ensino Fundamental: 1º ao 5º ano (1ª a 4ª série).",
          "Ensino Superior - Graduação.",
          "Ensino Fundamental: 1º ao 5º ano (1ª a 4ª série).",
          "Pós-graduação.",
          "Ensino Médio",
          "Ensino Médio",
          "Ensino Médio",
          "Ensino Fundamental: 1º ao 5º ano (1ª a 4ª série).",
          "Ensino Superior - Graduação.",
          "Ensino Médio",
          "Ensino Médio",
          "Ensino Médio",
          "Ensino Superior - Graduação.",
          "Pós-graduação.",
          "Ensino Médio",
          "Pós-graduação.",
          "Ensino Superior - Graduação.",
          "Pós-graduação.",
          "Ensino Médio",
          "Pós-graduação.",
          "Ensino Fundamental: 6º ao 9º ano (5ª a 8ª série).",
          "Ensino Superior - Graduação.",
          "Ensino Fundamental: 1º ao 5º ano (1ª a 4ª série).",
          "Ensino Médio",
          "Ensino Médio",
          "Ensino Fundamental: 6º ao 9º ano (5ª a 8ª série).",
          "Ensino Médio",
          "Ensino Superior - Graduação.",
          "Ensino Médio",
          "Ensino Superior - Graduação.",
          "Ensino Médio",
          "Ensino Fundamental: 1º ao 5º ano (1ª a 4ª série).",
          "Ensino Fundamental: 6º ao 9º ano (5ª a 8ª série).",
          "Ensino Superior - Graduação.",
          "Ensino Superior - Graduação.",
          "Ensino Médio",
          "Ensino Médio",
          "Ensino Médio",
          "Ensino Médio",
          "Ensino Fundamental: 6º ao 9º ano (5ª a 8ª série).",
          "Ensino Médio",
          "Ensino Médio",
          "Ensino Médio",
          "Ensino Superior - Graduação.",
          "Ensino Fundamental: 1º ao 5º ano (1ª a 4ª série).",
          "Ensino Superior - Graduação.",
          "Ensino Superior - Graduação.",
          "Ensino Médio",
          "Nenhuma",
          "Ensino Médio",
          "Ensino Fundamental: 1º ao 5º ano (1ª a 4ª série).",
          "Ensino Fundamental: 1º ao 5º ano (1ª a 4ª série).",
          "Ensino Fundamental: 6º ao 9º ano (5ª a 8ª série).",
          "Ensino Médio",
          "Ensino Médio",
          "Ensino Superior - Graduação.",
          "Ensino Médio",
          "Ensino Fundamental: 6º ao 9º ano (5ª a 8ª série).",
          "Ensino Médio",
          "Ensino Médio",
          "Ensino Superior - Graduação.",
          "Ensino Médio",
          "Ensino Médio",
          "Ensino Médio",
          "Ensino Superior - Graduação.",
          "Ensino Fundamental: 6º ao 9º ano (5ª a 8ª série).",
          "Ensino Médio",
          "Ensino Superior - Graduação.",
          "Pós-graduação.",
          "Nenhuma",
          "Ensino Fundamental: 6º ao 9º ano (5ª a 8ª série).",
          "Ensino Médio",
          "Ensino Médio",
          "Ensino Médio",
          "Ensino Fundamental: 6º ao 9º ano (5ª a 8ª série).",
          "Ensino Fundamental: 6º ao 9º ano (5ª a 8ª série).",
          "Ensino Fundamental: 1º ao 5º ano (1ª a 4ª série).",
          "Ensino Médio",
          "Ensino Médio",
          "Ensino Superior - Graduação.",
          "Ensino Superior - Graduação.",
          "Ensino Fundamental: 6º ao 9º ano (5ª a 8ª série).",
          "Ensino Superior - Graduação.",
          "Nenhuma",
          "Ensino Superior - Graduação.",
          "Ensino Médio",
          "Ensino Médio",
          "Ensino Fundamental: 6º ao 9º ano (5ª a 8ª série).",
          "Ensino Médio",
          "Ensino Médio",
          "Ensino Médio",
          "Ensino Médio",
          "Ensino Fundamental: 6º ao 9º ano (5ª a 8ª série).",
          "Ensino Superior - Graduação.",
          "Pós-graduação.",
          "Ensino Fundamental: 1º ao 5º ano (1ª a 4ª série).",
          "Ensino Médio",
          "Ensino Médio",
          "Ensino Médio",
          "Ensino Médio",
          "Ensino Médio",
          "Ensino Médio",
          "Ensino Médio",
          "Ensino Médio",
          "Ensino Superior - Graduação.",
          "Ensino Médio",
          "Ensino Superior - Graduação.",
          "Ensino Superior - Graduação.",
          "Ensino Médio",
          "Ensino Fundamental: 6º ao 9º ano (5ª a 8ª série).",
          "Ensino Médio",
          "Ensino Superior - Graduação.",
          "Ensino Fundamental: 1º ao 5º ano (1ª a 4ª série).",
          "Ensino Fundamental: 1º ao 5º ano (1ª a 4ª série).",
          "Ensino Médio",
          "Ensino Médio",
          "Ensino Fundamental: 6º ao 9º ano (5ª a 8ª série).",
          "Ensino Médio",
          "Pós-graduação.",
          "Ensino Superior - Graduação.",
          "Ensino Fundamental: 6º ao 9º ano (5ª a 8ª série).",
          "Ensino Fundamental: 1º ao 5º ano (1ª a 4ª série).",
          "Pós-graduação.",
          "Ensino Médio",
          "Ensino Médio",
          "Ensino Superior - Graduação.",
          "Ensino Médio",
          "Ensino Superior - Graduação.",
          "Ensino Médio",
          "Ensino Médio",
          "Ensino Médio",
          "Ensino Superior - Graduação.",
          "Ensino Superior - Graduação.",
          "Ensino Fundamental: 6º ao 9º ano (5ª a 8ª série).",
          "Ensino Médio",
          "Ensino Fundamental: 6º ao 9º ano (5ª a 8ª série).",
          "Pós-graduação.",
          "Ensino Fundamental: 1º ao 5º ano (1ª a 4ª série).",
          "Pós-graduação.",
          "Ensino Fundamental: 6º ao 9º ano (5ª a 8ª série).",
          "Pós-graduação.",
          "Ensino Superior - Graduação.",
          "Ensino Médio",
          "Ensino Fundamental: 6º ao 9º ano (5ª a 8ª série).",
          "Ensino Superior - Graduação.",
          "Ensino Médio",
          "Pós-graduação.",
          "Ensino Superior - Graduação.",
          "Ensino Fundamental: 1º ao 5º ano (1ª a 4ª série).",
          "Ensino Médio",
          "Ensino Médio",
          "Ensino Fundamental: 6º ao 9º ano (5ª a 8ª série).",
          "Ensino Médio",
          "Ensino Médio",
          "Ensino Fundamental: 6º ao 9º ano (5ª a 8ª série).",
          "Ensino Fundamental: 6º ao 9º ano (5ª a 8ª série).",
          "Pós-graduação.",
          "Ensino Superior - Graduação.",
          "Ensino Fundamental: 1º ao 5º ano (1ª a 4ª série).",
          "Ensino Médio",
          "Nenhuma",
          "Ensino Médio",
          "Ensino Médio",
          "Ensino Superior - Graduação.",
          "Ensino Superior - Graduação.",
          "Ensino Fundamental: 6º ao 9º ano (5ª a 8ª série).",
          "Ensino Médio",
          "Ensino Superior - Graduação.",
          "Ensino Médio",
          "Ensino Médio",
          "Ensino Fundamental: 6º ao 9º ano (5ª a 8ª série).",
          "Ensino Médio",
          "Pós-graduação.",
          "Ensino Médio",
          "Ensino Médio",
          "Ensino Superior - Graduação.",
          "Ensino Superior - Graduação.",
          "Ensino Superior - Graduação.",
          "Ensino Médio",
          "Ensino Fundamental: 6º ao 9º ano (5ª a 8ª série).",
          "Ensino Fundamental: 6º ao 9º ano (5ª a 8ª série).",
          "Ensino Médio",
          "Ensino Superior - Graduação.",
          "Ensino Médio",
          "Ensino Fundamental: 6º ao 9º ano (5ª a 8ª série).",
          "Ensino Superior - Graduação.",
          "Ensino Fundamental: 6º ao 9º ano (5ª a 8ª série).",
          "Ensino Superior - Graduação.",
          "Ensino Médio",
          "Ensino Fundamental: 6º ao 9º ano (5ª a 8ª série).",
          "Ensino Superior - Graduação.",
          "Ensino Médio",
          "Ensino Superior - Graduação.",
          "Ensino Médio",
          "Pós-graduação.",
          "Ensino Superior - Graduação.",
          "Ensino Médio",
          "Ensino Superior - Graduação.",
          "Ensino Fundamental: 6º ao 9º ano (5ª a 8ª série).",
          "Ensino Fundamental: 6º ao 9º ano (5ª a 8ª série).",
          "Ensino Fundamental: 6º ao 9º ano (5ª a 8ª série).",
          "Ensino Superior - Graduação.",
          "Pós-graduação.",
          "Ensino Médio",
          "Ensino Fundamental: 6º ao 9º ano (5ª a 8ª série).",
          "Ensino Fundamental: 6º ao 9º ano (5ª a 8ª série).",
          "Ensino Médio",
          "Ensino Médio",
          "Ensino Médio",
          "Ensino Fundamental: 1º ao 5º ano (1ª a 4ª série).",
          "Ensino Médio",
          "Ensino Médio",
          "Ensino Superior - Graduação.",
          "Pós-graduação.",
          "Ensino Superior - Graduação.",
          "Ensino Superior - Graduação.",
          "Ensino Superior - Graduação.",
          "Ensino Superior - Graduação.",
          "Nenhuma",
          "Ensino Superior - Graduação.",
          "Ensino Superior - Graduação.",
          "Ensino Fundamental: 1º ao 5º ano (1ª a 4ª série).",
          "Ensino Fundamental: 6º ao 9º ano (5ª a 8ª série).",
          "Ensino Médio",
          "Ensino Fundamental: 1º ao 5º ano (1ª a 4ª série).",
          "Ensino Fundamental: 6º ao 9º ano (5ª a 8ª série).",
          "Pós-graduação.",
          "Ensino Superior - Graduação.",
          "Ensino Médio",
          "Ensino Médio",
          "Ensino Médio",
          "Ensino Médio",
          "Ensino Superior - Graduação.",
          "Ensino Médio",
          "Ensino Médio",
          "Ensino Médio",
          "Pós-graduação.",
          "Ensino Fundamental: 6º ao 9º ano (5ª a 8ª série).",
          "Ensino Fundamental: 1º ao 5º ano (1ª a 4ª série).",
          "Ensino Médio",
          "Ensino Fundamental: 1º ao 5º ano (1ª a 4ª série).",
          "Ensino Superior - Graduação.",
          "Ensino Fundamental: 1º ao 5º ano (1ª a 4ª série).",
          "Ensino Fundamental: 6º ao 9º ano (5ª a 8ª série).",
          "Ensino Fundamental: 1º ao 5º ano (1ª a 4ª série).",
          "Ensino Médio",
          "Ensino Fundamental: 6º ao 9º ano (5ª a 8ª série).",
          "Ensino Médio",
          "Ensino Médio",
          "Ensino Médio",
          "Ensino Fundamental: 6º ao 9º ano (5ª a 8ª série).",
          "Ensino Médio",
          "Ensino Médio",
          "Ensino Médio",
          "Ensino Fundamental: 1º ao 5º ano (1ª a 4ª série).",
          "Ensino Médio",
          "Ensino Médio",
          "Ensino Fundamental: 6º ao 9º ano (5ª a 8ª série).",
          "Ensino Médio",
          "Ensino Médio",
          "Ensino Superior - Graduação.",
          "Ensino Fundamental: 6º ao 9º ano (5ª a 8ª série).",
          "Ensino Médio",
          "Nenhuma",
          "Ensino Médio",
          "Ensino Médio",
          "Ensino Médio",
          "Ensino Médio",
          "Ensino Fundamental: 6º ao 9º ano (5ª a 8ª série).",
          "Ensino Superior - Graduação.",
          "Ensino Médio",
          "Ensino Fundamental: 1º ao 5º ano (1ª a 4ª série).",
          "Ensino Fundamental: 1º ao 5º ano (1ª a 4ª série).",
          "Ensino Médio",
          "Ensino Superior - Graduação.",
          "Ensino Fundamental: 1º ao 5º ano (1ª a 4ª série).",
          "Ensino Superior - Graduação.",
          "Ensino Superior - Graduação.",
          "Ensino Fundamental: 1º ao 5º ano (1ª a 4ª série).",
          "Ensino Médio",
          "Ensino Fundamental: 6º ao 9º ano (5ª a 8ª série).",
          "Ensino Fundamental: 6º ao 9º ano (5ª a 8ª série).",
          "Ensino Superior - Graduação.",
          "Ensino Médio",
          "Ensino Médio",
          "Nenhuma",
          "Ensino Médio",
          "Ensino Médio",
          "Ensino Fundamental: 1º ao 5º ano (1ª a 4ª série).",
          "Ensino Médio",
          "Ensino Superior - Graduação.",
          "Pós-graduação.",
          "Ensino Fundamental: 1º ao 5º ano (1ª a 4ª série).",
          "Ensino Superior - Graduação.",
          "Ensino Fundamental: 6º ao 9º ano (5ª a 8ª série).",
          "Ensino Médio",
          "Ensino Superior - Graduação.",
          "Ensino Fundamental: 6º ao 9º ano (5ª a 8ª série).",
          "Ensino Superior - Graduação.",
          "Ensino Fundamental: 6º ao 9º ano (5ª a 8ª série).",
          "Ensino Médio",
          "Ensino Superior - Graduação.",
          "Ensino Fundamental: 1º ao 5º ano (1ª a 4ª série).",
          "Ensino Médio",
          "Ensino Superior - Graduação.",
          "Ensino Médio",
          "Ensino Médio",
          "Ensino Médio",
          "Pós-graduação.",
          "Ensino Médio",
          "Ensino Médio",
          "Ensino Médio",
          "Ensino Superior - Graduação.",
          "Pós-graduação.",
          "Ensino Fundamental: 6º ao 9º ano (5ª a 8ª série).",
          "Ensino Fundamental: 1º ao 5º ano (1ª a 4ª série).",
          "Ensino Médio",
          "Ensino Fundamental: 6º ao 9º ano (5ª a 8ª série).",
          "Ensino Médio",
          "Ensino Médio",
          "Ensino Médio",
          "Ensino Superior - Graduação.",
          "Ensino Superior - Graduação.",
          "Ensino Médio",
          "Ensino Médio",
          "Ensino Superior - Graduação.",
          "Ensino Médio",
          "Nenhuma",
          "Ensino Médio",
          "Ensino Fundamental: 6º ao 9º ano (5ª a 8ª série).",
          "Ensino Médio",
          "Ensino Médio",
          "Ensino Fundamental: 6º ao 9º ano (5ª a 8ª série).",
          "Ensino Médio",
          "Ensino Médio",
          "Ensino Médio",
          "Ensino Médio",
          "Ensino Médio",
          "Ensino Fundamental: 6º ao 9º ano (5ª a 8ª série).",
          "Ensino Médio",
          "Ensino Médio",
          "Ensino Fundamental: 1º ao 5º ano (1ª a 4ª série).",
          "Ensino Médio",
          "Ensino Médio",
          "Ensino Fundamental: 1º ao 5º ano (1ª a 4ª série).",
          "Ensino Médio",
          "Ensino Médio",
          "Ensino Médio",
          "Ensino Médio",
          "Ensino Fundamental: 1º ao 5º ano (1ª a 4ª série).",
          "Ensino Fundamental: 1º ao 5º ano (1ª a 4ª série).",
          "Nenhuma",
          "Ensino Fundamental: 6º ao 9º ano (5ª a 8ª série).",
          "Ensino Médio",
          "Pós-graduação.",
          "Ensino Médio",
          "Ensino Superior - Graduação.",
          "Ensino Médio",
          "Ensino Superior - Graduação.",
          "Ensino Médio",
          "Ensino Fundamental: 6º ao 9º ano (5ª a 8ª série).",
          "Pós-graduação.",
          "Ensino Médio",
          "Ensino Médio",
          "Ensino Superior - Graduação.",
          "Ensino Superior - Graduação.",
          "Ensino Médio",
          "Ensino Superior - Graduação.",
          "Ensino Médio",
          "Nenhuma",
          "Ensino Superior - Graduação.",
          "Ensino Médio",
          "Ensino Fundamental: 1º ao 5º ano (1ª a 4ª série).",
          "Ensino Fundamental: 6º ao 9º ano (5ª a 8ª série).",
          "Pós-graduação.",
          "Ensino Superior - Graduação.",
          "Ensino Médio",
          "Ensino Superior - Graduação.",
          "Ensino Médio",
          "Ensino Fundamental: 1º ao 5º ano (1ª a 4ª série).",
          "Ensino Médio",
          "Ensino Fundamental: 1º ao 5º ano (1ª a 4ª série).",
          "Ensino Fundamental: 1º ao 5º ano (1ª a 4ª série).",
          "Ensino Fundamental: 1º ao 5º ano (1ª a 4ª série).",
          "Ensino Fundamental: 6º ao 9º ano (5ª a 8ª série).",
          "Ensino Superior - Graduação.",
          "Pós-graduação.",
          "Ensino Médio",
          "Ensino Médio",
          "Ensino Fundamental: 6º ao 9º ano (5ª a 8ª série).",
          "Pós-graduação.",
          "Ensino Superior - Graduação.",
          "Ensino Fundamental: 1º ao 5º ano (1ª a 4ª série).",
          "Ensino Fundamental: 6º ao 9º ano (5ª a 8ª série).",
          "Ensino Médio",
          "Ensino Médio",
          "Ensino Fundamental: 1º ao 5º ano (1ª a 4ª série).",
          "Ensino Médio",
          "Ensino Fundamental: 1º ao 5º ano (1ª a 4ª série).",
          "Ensino Fundamental: 1º ao 5º ano (1ª a 4ª série).",
          "Ensino Fundamental: 1º ao 5º ano (1ª a 4ª série).",
          "Ensino Fundamental: 1º ao 5º ano (1ª a 4ª série).",
          "Ensino Superior - Graduação.",
          "Ensino Médio",
          "Ensino Superior - Graduação.",
          "Ensino Fundamental: 6º ao 9º ano (5ª a 8ª série).",
          "Ensino Médio",
          "Ensino Médio",
          "Ensino Médio",
          "Ensino Médio",
          "Ensino Superior - Graduação.",
          "Ensino Médio",
          "Ensino Médio",
          "Pós-graduação.",
          "Ensino Fundamental: 1º ao 5º ano (1ª a 4ª série).",
          "Ensino Médio",
          "Ensino Médio",
          "Ensino Médio",
          "Ensino Médio",
          "Ensino Superior - Graduação.",
          "Nenhuma",
          "Ensino Fundamental: 1º ao 5º ano (1ª a 4ª série).",
          "Ensino Médio",
          "Ensino Superior - Graduação.",
          "Ensino Fundamental: 1º ao 5º ano (1ª a 4ª série).",
          "Ensino Fundamental: 1º ao 5º ano (1ª a 4ª série).",
          "Ensino Médio",
          "Nenhuma",
          "Ensino Médio",
          "Ensino Médio",
          "Ensino Superior - Graduação.",
          "Ensino Fundamental: 6º ao 9º ano (5ª a 8ª série).",
          "Ensino Médio",
          "Ensino Fundamental: 1º ao 5º ano (1ª a 4ª série).",
          "Ensino Médio",
          "Ensino Médio",
          "Ensino Superior - Graduação.",
          "Ensino Médio",
          "Ensino Fundamental: 1º ao 5º ano (1ª a 4ª série).",
          "Ensino Médio",
          "Ensino Fundamental: 6º ao 9º ano (5ª a 8ª série).",
          "Ensino Fundamental: 6º ao 9º ano (5ª a 8ª série).",
          "Ensino Fundamental: 6º ao 9º ano (5ª a 8ª série).",
          "Ensino Fundamental: 1º ao 5º ano (1ª a 4ª série).",
          "Ensino Médio",
          "Ensino Médio",
          "Ensino Médio",
          "Ensino Médio",
          "Nenhuma",
          "Ensino Fundamental: 1º ao 5º ano (1ª a 4ª série).",
          "Ensino Médio",
          "Ensino Superior - Graduação.",
          "Ensino Fundamental: 6º ao 9º ano (5ª a 8ª série).",
          "Ensino Médio",
          "Ensino Superior - Graduação.",
          "Ensino Fundamental: 1º ao 5º ano (1ª a 4ª série).",
          "Nenhuma",
          "Ensino Fundamental: 1º ao 5º ano (1ª a 4ª série).",
          "Ensino Fundamental: 6º ao 9º ano (5ª a 8ª série).",
          "Ensino Fundamental: 6º ao 9º ano (5ª a 8ª série).",
          "Ensino Superior - Graduação.",
          "Ensino Fundamental: 1º ao 5º ano (1ª a 4ª série).",
          "Ensino Fundamental: 6º ao 9º ano (5ª a 8ª série).",
          "Ensino Médio",
          "Ensino Médio",
          "Ensino Médio",
          "Ensino Fundamental: 1º ao 5º ano (1ª a 4ª série).",
          "Ensino Superior - Graduação.",
          "Ensino Fundamental: 6º ao 9º ano (5ª a 8ª série).",
          "Ensino Médio",
          "Ensino Fundamental: 1º ao 5º ano (1ª a 4ª série).",
          "Ensino Superior - Graduação.",
          "Ensino Fundamental: 1º ao 5º ano (1ª a 4ª série).",
          "Nenhuma",
          "Ensino Fundamental: 1º ao 5º ano (1ª a 4ª série).",
          "Ensino Médio",
          "Ensino Superior - Graduação.",
          "Ensino Superior - Graduação.",
          "Ensino Superior - Graduação.",
          "Ensino Superior - Graduação.",
          "Ensino Médio",
          "Nenhuma",
          "Ensino Superior - Graduação.",
          "Ensino Médio",
          "Ensino Médio",
          "Ensino Fundamental: 6º ao 9º ano (5ª a 8ª série).",
          "Ensino Fundamental: 1º ao 5º ano (1ª a 4ª série).",
          "Ensino Superior - Graduação.",
          "Ensino Fundamental: 6º ao 9º ano (5ª a 8ª série).",
          "Ensino Médio",
          "Ensino Fundamental: 1º ao 5º ano (1ª a 4ª série).",
          "Nenhuma",
          "Ensino Médio",
          "Ensino Médio",
          "Ensino Superior - Graduação.",
          "Ensino Médio",
          "Ensino Superior - Graduação.",
          "Ensino Fundamental: 6º ao 9º ano (5ª a 8ª série).",
          "Ensino Superior - Graduação.",
          "Ensino Fundamental: 6º ao 9º ano (5ª a 8ª série).",
          "Ensino Fundamental: 1º ao 5º ano (1ª a 4ª série).",
          "Ensino Médio",
          "Ensino Médio",
          "Ensino Médio",
          "Ensino Fundamental: 1º ao 5º ano (1ª a 4ª série).",
          "Ensino Fundamental: 1º ao 5º ano (1ª a 4ª série).",
          "Ensino Fundamental: 1º ao 5º ano (1ª a 4ª série).",
          "Ensino Fundamental: 1º ao 5º ano (1ª a 4ª série).",
          "Ensino Médio",
          "Ensino Médio",
          "Ensino Fundamental: 1º ao 5º ano (1ª a 4ª série).",
          "Ensino Fundamental: 6º ao 9º ano (5ª a 8ª série).",
          "Ensino Médio",
          "Ensino Fundamental: 1º ao 5º ano (1ª a 4ª série).",
          "Ensino Fundamental: 1º ao 5º ano (1ª a 4ª série).",
          "Ensino Superior - Graduação.",
          "Nenhuma",
          "Ensino Fundamental: 1º ao 5º ano (1ª a 4ª série).",
          "Ensino Fundamental: 1º ao 5º ano (1ª a 4ª série).",
          "Ensino Médio",
          "Ensino Médio",
          "Nenhuma",
          "Ensino Fundamental: 1º ao 5º ano (1ª a 4ª série).",
          "Ensino Médio",
          "Ensino Médio",
          "Ensino Fundamental: 1º ao 5º ano (1ª a 4ª série).",
          "Ensino Médio",
          "Ensino Fundamental: 6º ao 9º ano (5ª a 8ª série).",
          "Ensino Superior - Graduação.",
          "Ensino Médio",
          "Ensino Médio",
          "Ensino Fundamental: 1º ao 5º ano (1ª a 4ª série).",
          "Ensino Fundamental: 6º ao 9º ano (5ª a 8ª série).",
          "Nenhuma",
          "Ensino Fundamental: 6º ao 9º ano (5ª a 8ª série).",
          "Ensino Médio",
          "Ensino Médio",
          "Ensino Fundamental: 1º ao 5º ano (1ª a 4ª série).",
          "Ensino Médio",
          "Ensino Médio",
          "Ensino Fundamental: 1º ao 5º ano (1ª a 4ª série).",
          "Ensino Fundamental: 1º ao 5º ano (1ª a 4ª série).",
          "Nenhuma",
          "Ensino Fundamental: 1º ao 5º ano (1ª a 4ª série).",
          "Ensino Fundamental: 1º ao 5º ano (1ª a 4ª série).",
          "Nenhuma",
          "Ensino Superior - Graduação.",
          "Nenhuma",
          "Ensino Fundamental: 6º ao 9º ano (5ª a 8ª série).",
          "Ensino Médio",
          "Ensino Fundamental: 1º ao 5º ano (1ª a 4ª série).",
          "Ensino Fundamental: 1º ao 5º ano (1ª a 4ª série).",
          "Ensino Médio",
          "Ensino Fundamental: 6º ao 9º ano (5ª a 8ª série).",
          "Ensino Superior - Graduação.",
          "Ensino Fundamental: 6º ao 9º ano (5ª a 8ª série).",
          "Ensino Fundamental: 6º ao 9º ano (5ª a 8ª série).",
          "Ensino Médio",
          "Ensino Superior - Graduação.",
          "Ensino Fundamental: 1º ao 5º ano (1ª a 4ª série).",
          "Ensino Superior - Graduação.",
          "Ensino Médio",
          "Ensino Fundamental: 6º ao 9º ano (5ª a 8ª série).",
          "Nenhuma",
          "Pós-graduação.",
          "Ensino Médio",
          "Ensino Médio",
          "Ensino Médio",
          "Pós-graduação.",
          "Ensino Fundamental: 1º ao 5º ano (1ª a 4ª série).",
          "Ensino Superior - Graduação.",
          "Ensino Médio",
          "Ensino Superior - Graduação.",
          "Pós-graduação.",
          "Ensino Fundamental: 1º ao 5º ano (1ª a 4ª série).",
          "Nenhuma",
          "Ensino Superior - Graduação.",
          "Ensino Médio",
          "Ensino Médio",
          "Ensino Superior - Graduação.",
          "Ensino Fundamental: 1º ao 5º ano (1ª a 4ª série).",
          "Ensino Médio",
          "Ensino Fundamental: 6º ao 9º ano (5ª a 8ª série).",
          "Ensino Superior - Graduação.",
          "Ensino Médio",
          "Ensino Fundamental: 1º ao 5º ano (1ª a 4ª série).",
          "Ensino Médio",
          "Ensino Médio",
          "Nenhuma",
          "Ensino Médio",
          "Ensino Médio",
          "Ensino Médio",
          "Ensino Médio",
          "Pós-graduação.",
          "Ensino Fundamental: 1º ao 5º ano (1ª a 4ª série).",
          "Ensino Médio",
          "Ensino Médio",
          "Ensino Fundamental: 6º ao 9º ano (5ª a 8ª série).",
          "Ensino Médio",
          "Ensino Fundamental: 1º ao 5º ano (1ª a 4ª série).",
          "Ensino Superior - Graduação.",
          "Ensino Fundamental: 1º ao 5º ano (1ª a 4ª série).",
          "Ensino Médio",
          "Ensino Fundamental: 1º ao 5º ano (1ª a 4ª série).",
          "Ensino Superior - Graduação.",
          "Ensino Fundamental: 6º ao 9º ano (5ª a 8ª série).",
          "Ensino Fundamental: 1º ao 5º ano (1ª a 4ª série).",
          "Ensino Superior - Graduação.",
          "Ensino Superior - Graduação.",
          "Ensino Médio",
          "Ensino Médio",
          "Ensino Médio",
          "Nenhuma",
          "Ensino Médio",
          "Ensino Médio",
          "Ensino Médio",
          "Ensino Médio",
          "Ensino Fundamental: 1º ao 5º ano (1ª a 4ª série).",
          "Ensino Fundamental: 1º ao 5º ano (1ª a 4ª série).",
          "Ensino Médio",
          "Ensino Médio",
          "Pós-graduação.",
          "Ensino Superior - Graduação.",
          "Ensino Médio",
          "Ensino Médio",
          "Ensino Médio",
          "Ensino Superior - Graduação.",
          "Ensino Médio",
          "Nenhuma",
          "Ensino Fundamental: 6º ao 9º ano (5ª a 8ª série).",
          "Nenhuma",
          "Ensino Fundamental: 1º ao 5º ano (1ª a 4ª série).",
          "Ensino Fundamental: 1º ao 5º ano (1ª a 4ª série).",
          "Ensino Médio",
          "Nenhuma",
          "Ensino Fundamental: 1º ao 5º ano (1ª a 4ª série).",
          "Ensino Fundamental: 6º ao 9º ano (5ª a 8ª série).",
          "Nenhuma",
          "Nenhuma",
          "Ensino Fundamental: 1º ao 5º ano (1ª a 4ª série).",
          "Ensino Fundamental: 1º ao 5º ano (1ª a 4ª série).",
          "Ensino Fundamental: 6º ao 9º ano (5ª a 8ª série).",
          "Ensino Médio",
          "Ensino Médio",
          "Ensino Fundamental: 1º ao 5º ano (1ª a 4ª série).",
          "Ensino Fundamental: 1º ao 5º ano (1ª a 4ª série).",
          "Ensino Médio",
          "Ensino Médio",
          "Ensino Médio",
          "Ensino Fundamental: 1º ao 5º ano (1ª a 4ª série).",
          "Nenhuma",
          "Ensino Superior - Graduação.",
          "Ensino Fundamental: 6º ao 9º ano (5ª a 8ª série).",
          "Ensino Fundamental: 1º ao 5º ano (1ª a 4ª série).",
          "Ensino Fundamental: 1º ao 5º ano (1ª a 4ª série).",
          "Ensino Fundamental: 1º ao 5º ano (1ª a 4ª série).",
          "Ensino Fundamental: 1º ao 5º ano (1ª a 4ª série).",
          "Ensino Superior - Graduação.",
          "Ensino Fundamental: 1º ao 5º ano (1ª a 4ª série).",
          "Ensino Médio",
          "Nenhuma",
          "Ensino Fundamental: 1º ao 5º ano (1ª a 4ª série).",
          "Ensino Fundamental: 1º ao 5º ano (1ª a 4ª série).",
          "Ensino Médio",
          "Nenhuma",
          "Ensino Fundamental: 1º ao 5º ano (1ª a 4ª série).",
          "Ensino Médio",
          "Pós-graduação.",
          "Ensino Fundamental: 1º ao 5º ano (1ª a 4ª série).",
          "Ensino Fundamental: 6º ao 9º ano (5ª a 8ª série).",
          "Ensino Fundamental: 1º ao 5º ano (1ª a 4ª série).",
          "Ensino Fundamental: 1º ao 5º ano (1ª a 4ª série).",
          "Nenhuma",
          "Ensino Superior - Graduação.",
          "Ensino Fundamental: 6º ao 9º ano (5ª a 8ª série).",
          "Nenhuma",
          "Ensino Médio",
          "Ensino Médio",
          "Ensino Fundamental: 6º ao 9º ano (5ª a 8ª série).",
          "Ensino Médio",
          "Nenhuma",
          "Ensino Médio",
          "Ensino Fundamental: 6º ao 9º ano (5ª a 8ª série).",
          "Ensino Fundamental: 6º ao 9º ano (5ª a 8ª série).",
          "Ensino Superior - Graduação.",
          "Ensino Fundamental: 1º ao 5º ano (1ª a 4ª série).",
          "Ensino Fundamental: 1º ao 5º ano (1ª a 4ª série).",
          "Ensino Médio",
          "Ensino Fundamental: 1º ao 5º ano (1ª a 4ª série).",
          "Ensino Médio",
          "Ensino Médio",
          "Ensino Fundamental: 6º ao 9º ano (5ª a 8ª série).",
          "Ensino Médio",
          "Ensino Médio",
          "Ensino Médio",
          "Ensino Fundamental: 6º ao 9º ano (5ª a 8ª série).",
          "Ensino Fundamental: 1º ao 5º ano (1ª a 4ª série).",
          "Ensino Médio",
          "Ensino Fundamental: 6º ao 9º ano (5ª a 8ª série).",
          "Ensino Médio",
          "Ensino Médio",
          "Ensino Médio",
          "Nenhuma",
          "Nenhuma",
          "Ensino Fundamental: 1º ao 5º ano (1ª a 4ª série).",
          "Ensino Fundamental: 6º ao 9º ano (5ª a 8ª série).",
          "Ensino Superior - Graduação.",
          "Ensino Médio",
          "Ensino Médio",
          "Ensino Fundamental: 6º ao 9º ano (5ª a 8ª série).",
          "Ensino Médio",
          "Ensino Fundamental: 1º ao 5º ano (1ª a 4ª série).",
          "Ensino Fundamental: 1º ao 5º ano (1ª a 4ª série).",
          "Nenhuma",
          "Ensino Fundamental: 6º ao 9º ano (5ª a 8ª série).",
          "Ensino Fundamental: 6º ao 9º ano (5ª a 8ª série).",
          "Ensino Médio",
          "Ensino Superior - Graduação.",
          "Ensino Fundamental: 1º ao 5º ano (1ª a 4ª série)."
         ],
         "x0": " ",
         "xaxis": "x",
         "y": [
          77.8,
          39.7,
          46,
          70.5,
          56.7,
          50.9,
          44.4,
          62.9,
          38.3,
          68.5,
          48.4,
          50.1,
          28,
          43.2,
          41.9,
          54.1,
          45.4,
          77,
          69.6,
          37.8,
          42.8,
          73.6,
          46.2,
          43.8,
          34.5,
          53.4,
          79.7,
          60.2,
          44.8,
          35.2,
          58.3,
          75.7,
          60.8,
          45,
          70.9,
          39.4,
          58.6,
          47.7,
          62.6,
          47.5,
          57.7,
          56.1,
          62,
          29.4,
          55.9,
          58.3,
          53.8,
          47,
          49.8,
          38.2,
          45.5,
          54.2,
          68.8,
          38.2,
          73.3,
          53.1,
          62.6,
          41.3,
          41.9,
          22.9,
          67.4,
          60.8,
          62.7,
          52.7,
          60.1,
          47.7,
          39.9,
          47.2,
          39,
          51.8,
          60,
          47.6,
          34,
          55,
          54.4,
          61.5,
          55.4,
          72.3,
          60.9,
          38.6,
          57,
          31.6,
          59.2,
          64.7,
          30.3,
          36.2,
          43.9,
          46.7,
          36.7,
          51.3,
          37.5,
          49,
          51.2,
          51,
          63.3,
          27.7,
          42.8,
          55.7,
          54.9,
          43.6,
          56.4,
          47.6,
          55.8,
          67.8,
          55.8,
          47.8,
          45.5,
          37.3,
          47.1,
          45.2,
          59.6,
          32.5,
          52.4,
          24.1,
          39.3,
          51.6,
          54,
          57,
          64.1,
          42.3,
          73.9,
          65.1,
          32.9,
          52.9,
          45.7,
          51.4,
          42.1,
          34.9,
          47.5,
          52.6,
          49.2,
          48.6,
          48.8,
          45.3,
          45.1,
          31.1,
          48.7,
          58.2,
          28,
          68.4,
          28.8,
          33.2,
          34.1,
          35,
          28.5,
          45.4,
          41.9,
          27.6,
          57.5,
          18.5,
          35.9,
          65.5,
          56.5,
          43.9,
          25.6,
          0,
          38.8,
          41.9,
          60.9,
          38.4,
          41.3,
          41.6,
          51.4,
          57.4,
          37.2,
          44.2,
          48.7,
          34.8,
          38.7,
          61.9,
          40.4,
          36.4,
          63.3,
          17.5,
          35,
          42.2,
          40.6,
          44.2,
          56.4,
          39.5,
          24.6,
          46.9,
          49.4,
          47.5,
          53.9,
          46.4,
          28.2,
          33.4,
          35.7,
          51.1,
          39.5,
          26.2,
          48.8,
          44.7,
          39.1,
          39.6,
          67.7,
          30.6,
          36.2,
          43,
          30.2,
          40.8,
          39.1,
          25.1,
          32.6,
          23.1,
          33.5,
          43.1,
          23,
          30.5,
          32.6,
          18.8,
          42.3,
          30,
          49.2,
          35.2,
          59.1,
          21.9,
          49.3,
          46.7,
          25.9,
          26.7,
          39.7,
          37,
          17.5,
          40.4,
          35.4,
          31.3,
          45.6,
          28.1,
          20.6,
          25.5,
          45.4,
          32.1,
          24.5,
          32,
          56.1,
          50,
          22.5,
          20.9,
          25.3,
          34.2,
          31.4,
          33.2,
          53.5,
          39.2,
          56.4,
          38.8,
          68.6,
          74.1,
          21.2,
          22.2,
          40,
          20.7,
          51.2,
          24.6,
          34.1,
          63.7,
          21.3,
          69.9,
          31.5,
          45.7,
          42.1,
          37.3,
          29.9,
          31.3,
          36.4,
          31.1,
          40.3,
          59.2,
          46.7,
          27.9,
          28.8,
          36,
          31.6,
          32.1,
          66.7,
          42.7,
          43.4,
          19.9,
          54.3,
          45,
          31.3,
          37.7,
          16.6,
          49.7,
          27.7,
          35.3,
          23.2,
          50.6,
          32.7,
          0,
          40.3,
          51.8,
          33,
          39.2,
          12.9,
          18.9,
          36.3,
          47.1,
          54.6,
          46.9,
          45.9,
          21.3,
          48.9,
          45.7,
          43.6,
          57.5,
          37.2,
          63.3,
          35.3,
          26.2,
          42.5,
          29.9,
          16.7,
          35,
          27.4,
          55.8,
          25.1,
          62.5,
          26.6,
          36.2,
          17.3,
          19.5,
          38.2,
          38.3,
          37,
          28.1,
          34,
          68.9,
          19.7,
          35.5,
          15.7,
          29.1,
          24.7,
          55.3,
          26.2,
          38.9,
          23.2,
          20.9,
          34.7,
          48.1,
          23.2,
          28.6,
          51.9,
          44.5,
          40,
          16.3,
          34.5,
          40.2,
          49.1,
          31.3,
          44.2,
          39.2,
          25.6,
          37.7,
          38.7,
          52.9,
          62.3,
          39.3,
          40.4,
          49.6,
          45.4,
          52.9,
          43,
          45.6,
          40.1,
          34,
          32.6,
          58.4,
          30.8,
          35.5,
          23.4,
          37.4,
          52.4,
          41.8,
          32.3,
          33.7,
          16.9,
          46.9,
          28.7,
          36.9,
          61.5,
          34.8,
          33.6,
          58,
          34.5,
          19.5,
          23.7,
          33.3,
          39.5,
          57.3,
          29.8,
          30.3,
          33.8,
          45.6,
          51.3,
          37.7,
          38.6,
          52.5,
          26.6,
          46.2,
          25.9,
          58.8,
          39.7,
          28.8,
          36.3,
          36.9,
          41,
          48.5,
          36.4,
          38,
          32.7,
          28,
          49.7,
          31.9,
          61.6,
          29.6,
          12.5,
          31.3,
          13.5,
          49.4,
          39.9,
          32.4,
          36.6,
          37.2,
          28.1,
          34.6,
          15.7,
          53,
          43.2,
          49.7,
          68.1,
          52.4,
          54.1,
          49.1,
          54.7,
          55,
          63.4,
          43.5,
          45.5,
          40.5,
          51.7,
          52.2,
          60.3,
          58.8,
          49.9,
          49.3,
          51.9,
          58.9,
          59.7,
          52.1,
          52.6,
          49,
          67.7,
          57.9,
          48,
          61.7,
          34.4,
          33.1,
          43,
          36.3,
          43.3,
          16,
          26.1,
          18.7,
          34.9,
          31.6,
          41.1,
          46.5,
          33.5,
          41.8,
          21.4,
          33.1,
          20.1,
          39.5,
          43.8,
          26.6,
          26.2,
          28.8,
          42.3,
          39.5,
          38.3,
          35.1,
          54.5,
          29.9,
          25.2,
          45.6,
          44.7,
          25.4,
          35.1,
          50.8,
          60,
          58.6,
          37.4,
          41.6,
          52.9,
          16.8,
          33.5,
          38.1,
          30.1,
          38,
          30.9,
          17.4,
          22,
          20.6,
          37.9,
          49.5,
          29.7,
          48.8,
          15.6,
          52.9,
          20.4,
          45.1,
          41.8,
          30.9,
          21.6,
          58.3,
          21,
          36.8,
          29.5,
          49.5,
          65,
          40.2,
          54.8,
          42.5,
          61.1,
          42.4,
          59.1,
          23.9,
          43.8,
          38.4,
          30.6,
          54.8,
          37.2,
          33.4,
          52.1,
          48,
          47,
          49.7,
          58.8,
          37.1,
          38.2,
          39.8,
          12.6,
          47.1,
          42.4,
          18.6,
          51,
          35.8,
          39.5,
          29.4,
          19,
          29.1,
          34.8,
          21.6,
          23.6,
          25.9,
          30.9,
          27.6,
          26.3,
          36.7,
          24.2,
          26,
          36.5,
          30.1,
          26.2,
          20.1,
          20.9,
          34.9,
          25.6,
          21.6,
          24.1,
          47.7,
          29.7,
          23.2,
          30.9,
          23.2,
          20.5,
          26.5,
          29.8,
          30,
          42.4,
          29.3,
          62.2,
          14.7,
          39.5,
          23.8,
          20.3,
          31.9,
          39.8,
          25.9,
          46.3,
          38.1,
          33.5,
          29.4,
          36.3,
          29.3,
          35.2,
          32,
          44.3,
          21.1,
          25.9,
          41.5,
          45.7,
          28.2,
          30.1,
          30.1,
          36.8,
          54.7,
          31.3,
          36.2,
          32.1,
          54.7,
          42.5,
          19.5,
          66.2,
          25.7,
          35.9,
          32.4,
          48.9,
          26.6,
          30.4,
          37.3,
          32.3,
          35,
          46.4,
          42.1,
          38.8,
          50.6,
          36.2,
          22.5,
          31,
          34.6,
          42,
          47.2,
          29.1,
          39.4,
          20.3,
          40.4,
          28.9,
          19.8,
          39.6,
          52.4,
          52.3,
          45.9,
          28.5,
          27.9,
          48.1,
          24.9,
          45.7,
          33,
          43,
          47,
          52.3,
          50.1,
          60.6,
          66.5,
          50.2,
          51.7,
          57.3,
          39.4,
          57.7,
          57.7,
          58.7,
          59.3,
          70.5,
          42.7,
          57.9,
          55.9,
          39.9,
          30.2,
          42.8,
          40.1,
          57.2,
          48.2,
          54.9,
          65.5,
          70.7,
          65,
          58.4,
          57.9,
          36.3,
          60.3,
          65.2,
          51.1,
          51.2,
          45.5,
          57.9,
          51.7,
          44.7,
          49.6,
          49.4,
          53,
          45.3,
          42.7,
          57.6,
          38.5,
          53.2,
          51.8,
          55.2,
          45.2,
          45.2,
          54,
          51.1,
          43.9,
          52.7,
          33,
          23.9,
          32.3,
          43.7,
          39.5,
          57.9,
          58.8,
          29.8,
          47.4,
          65.9,
          48,
          45.8,
          46.6,
          51,
          37.1,
          56.2,
          34.5,
          31.9,
          48.9,
          50,
          45.7,
          70.4,
          63.4,
          30.9,
          48.8,
          69.7,
          57,
          57.8,
          39.6,
          34.8,
          24.2,
          35.4,
          52.1,
          61.1,
          53.3,
          40.2,
          69.8,
          43.3,
          56.4,
          54.3,
          42.6,
          36.9,
          43.2,
          53.2,
          37.7,
          36.5,
          33.8,
          41.8,
          48.3,
          57.6,
          54.1,
          50,
          68.4,
          17.8,
          30.1,
          15.4,
          25.4,
          20.5,
          29.5,
          40.3,
          24.3,
          28.6,
          23.8,
          30.3,
          22.8,
          57.2,
          32.7,
          36.4,
          18.7,
          22,
          42.2,
          29,
          44.9,
          34,
          40.3,
          42.8,
          46.6,
          33.7,
          35.2,
          31.1,
          37.7,
          43,
          37.5,
          15.8,
          31.8,
          32.1,
          38.8,
          39.9,
          23.3,
          33.6,
          15,
          34.2,
          27.9,
          33.8,
          30,
          19.9,
          40.6,
          28.8,
          24.2,
          62,
          42,
          55,
          21.6,
          49.9,
          10,
          36.6,
          28.8,
          55.5,
          27.6,
          20.9,
          17.6,
          27,
          43.9,
          29.7,
          41.5,
          13.2,
          42
         ],
         "y0": " ",
         "yaxis": "y"
        }
       ],
       "layout": {
        "boxmode": "group",
        "legend": {
         "tracegroupgap": 0
        },
        "margin": {
         "t": 60
        },
        "template": {
         "data": {
          "bar": [
           {
            "error_x": {
             "color": "#2a3f5f"
            },
            "error_y": {
             "color": "#2a3f5f"
            },
            "marker": {
             "line": {
              "color": "#E5ECF6",
              "width": 0.5
             }
            },
            "type": "bar"
           }
          ],
          "barpolar": [
           {
            "marker": {
             "line": {
              "color": "#E5ECF6",
              "width": 0.5
             }
            },
            "type": "barpolar"
           }
          ],
          "carpet": [
           {
            "aaxis": {
             "endlinecolor": "#2a3f5f",
             "gridcolor": "white",
             "linecolor": "white",
             "minorgridcolor": "white",
             "startlinecolor": "#2a3f5f"
            },
            "baxis": {
             "endlinecolor": "#2a3f5f",
             "gridcolor": "white",
             "linecolor": "white",
             "minorgridcolor": "white",
             "startlinecolor": "#2a3f5f"
            },
            "type": "carpet"
           }
          ],
          "choropleth": [
           {
            "colorbar": {
             "outlinewidth": 0,
             "ticks": ""
            },
            "type": "choropleth"
           }
          ],
          "contour": [
           {
            "colorbar": {
             "outlinewidth": 0,
             "ticks": ""
            },
            "colorscale": [
             [
              0,
              "#0d0887"
             ],
             [
              0.1111111111111111,
              "#46039f"
             ],
             [
              0.2222222222222222,
              "#7201a8"
             ],
             [
              0.3333333333333333,
              "#9c179e"
             ],
             [
              0.4444444444444444,
              "#bd3786"
             ],
             [
              0.5555555555555556,
              "#d8576b"
             ],
             [
              0.6666666666666666,
              "#ed7953"
             ],
             [
              0.7777777777777778,
              "#fb9f3a"
             ],
             [
              0.8888888888888888,
              "#fdca26"
             ],
             [
              1,
              "#f0f921"
             ]
            ],
            "type": "contour"
           }
          ],
          "contourcarpet": [
           {
            "colorbar": {
             "outlinewidth": 0,
             "ticks": ""
            },
            "type": "contourcarpet"
           }
          ],
          "heatmap": [
           {
            "colorbar": {
             "outlinewidth": 0,
             "ticks": ""
            },
            "colorscale": [
             [
              0,
              "#0d0887"
             ],
             [
              0.1111111111111111,
              "#46039f"
             ],
             [
              0.2222222222222222,
              "#7201a8"
             ],
             [
              0.3333333333333333,
              "#9c179e"
             ],
             [
              0.4444444444444444,
              "#bd3786"
             ],
             [
              0.5555555555555556,
              "#d8576b"
             ],
             [
              0.6666666666666666,
              "#ed7953"
             ],
             [
              0.7777777777777778,
              "#fb9f3a"
             ],
             [
              0.8888888888888888,
              "#fdca26"
             ],
             [
              1,
              "#f0f921"
             ]
            ],
            "type": "heatmap"
           }
          ],
          "heatmapgl": [
           {
            "colorbar": {
             "outlinewidth": 0,
             "ticks": ""
            },
            "colorscale": [
             [
              0,
              "#0d0887"
             ],
             [
              0.1111111111111111,
              "#46039f"
             ],
             [
              0.2222222222222222,
              "#7201a8"
             ],
             [
              0.3333333333333333,
              "#9c179e"
             ],
             [
              0.4444444444444444,
              "#bd3786"
             ],
             [
              0.5555555555555556,
              "#d8576b"
             ],
             [
              0.6666666666666666,
              "#ed7953"
             ],
             [
              0.7777777777777778,
              "#fb9f3a"
             ],
             [
              0.8888888888888888,
              "#fdca26"
             ],
             [
              1,
              "#f0f921"
             ]
            ],
            "type": "heatmapgl"
           }
          ],
          "histogram": [
           {
            "marker": {
             "colorbar": {
              "outlinewidth": 0,
              "ticks": ""
             }
            },
            "type": "histogram"
           }
          ],
          "histogram2d": [
           {
            "colorbar": {
             "outlinewidth": 0,
             "ticks": ""
            },
            "colorscale": [
             [
              0,
              "#0d0887"
             ],
             [
              0.1111111111111111,
              "#46039f"
             ],
             [
              0.2222222222222222,
              "#7201a8"
             ],
             [
              0.3333333333333333,
              "#9c179e"
             ],
             [
              0.4444444444444444,
              "#bd3786"
             ],
             [
              0.5555555555555556,
              "#d8576b"
             ],
             [
              0.6666666666666666,
              "#ed7953"
             ],
             [
              0.7777777777777778,
              "#fb9f3a"
             ],
             [
              0.8888888888888888,
              "#fdca26"
             ],
             [
              1,
              "#f0f921"
             ]
            ],
            "type": "histogram2d"
           }
          ],
          "histogram2dcontour": [
           {
            "colorbar": {
             "outlinewidth": 0,
             "ticks": ""
            },
            "colorscale": [
             [
              0,
              "#0d0887"
             ],
             [
              0.1111111111111111,
              "#46039f"
             ],
             [
              0.2222222222222222,
              "#7201a8"
             ],
             [
              0.3333333333333333,
              "#9c179e"
             ],
             [
              0.4444444444444444,
              "#bd3786"
             ],
             [
              0.5555555555555556,
              "#d8576b"
             ],
             [
              0.6666666666666666,
              "#ed7953"
             ],
             [
              0.7777777777777778,
              "#fb9f3a"
             ],
             [
              0.8888888888888888,
              "#fdca26"
             ],
             [
              1,
              "#f0f921"
             ]
            ],
            "type": "histogram2dcontour"
           }
          ],
          "mesh3d": [
           {
            "colorbar": {
             "outlinewidth": 0,
             "ticks": ""
            },
            "type": "mesh3d"
           }
          ],
          "parcoords": [
           {
            "line": {
             "colorbar": {
              "outlinewidth": 0,
              "ticks": ""
             }
            },
            "type": "parcoords"
           }
          ],
          "pie": [
           {
            "automargin": true,
            "type": "pie"
           }
          ],
          "scatter": [
           {
            "marker": {
             "colorbar": {
              "outlinewidth": 0,
              "ticks": ""
             }
            },
            "type": "scatter"
           }
          ],
          "scatter3d": [
           {
            "line": {
             "colorbar": {
              "outlinewidth": 0,
              "ticks": ""
             }
            },
            "marker": {
             "colorbar": {
              "outlinewidth": 0,
              "ticks": ""
             }
            },
            "type": "scatter3d"
           }
          ],
          "scattercarpet": [
           {
            "marker": {
             "colorbar": {
              "outlinewidth": 0,
              "ticks": ""
             }
            },
            "type": "scattercarpet"
           }
          ],
          "scattergeo": [
           {
            "marker": {
             "colorbar": {
              "outlinewidth": 0,
              "ticks": ""
             }
            },
            "type": "scattergeo"
           }
          ],
          "scattergl": [
           {
            "marker": {
             "colorbar": {
              "outlinewidth": 0,
              "ticks": ""
             }
            },
            "type": "scattergl"
           }
          ],
          "scattermapbox": [
           {
            "marker": {
             "colorbar": {
              "outlinewidth": 0,
              "ticks": ""
             }
            },
            "type": "scattermapbox"
           }
          ],
          "scatterpolar": [
           {
            "marker": {
             "colorbar": {
              "outlinewidth": 0,
              "ticks": ""
             }
            },
            "type": "scatterpolar"
           }
          ],
          "scatterpolargl": [
           {
            "marker": {
             "colorbar": {
              "outlinewidth": 0,
              "ticks": ""
             }
            },
            "type": "scatterpolargl"
           }
          ],
          "scatterternary": [
           {
            "marker": {
             "colorbar": {
              "outlinewidth": 0,
              "ticks": ""
             }
            },
            "type": "scatterternary"
           }
          ],
          "surface": [
           {
            "colorbar": {
             "outlinewidth": 0,
             "ticks": ""
            },
            "colorscale": [
             [
              0,
              "#0d0887"
             ],
             [
              0.1111111111111111,
              "#46039f"
             ],
             [
              0.2222222222222222,
              "#7201a8"
             ],
             [
              0.3333333333333333,
              "#9c179e"
             ],
             [
              0.4444444444444444,
              "#bd3786"
             ],
             [
              0.5555555555555556,
              "#d8576b"
             ],
             [
              0.6666666666666666,
              "#ed7953"
             ],
             [
              0.7777777777777778,
              "#fb9f3a"
             ],
             [
              0.8888888888888888,
              "#fdca26"
             ],
             [
              1,
              "#f0f921"
             ]
            ],
            "type": "surface"
           }
          ],
          "table": [
           {
            "cells": {
             "fill": {
              "color": "#EBF0F8"
             },
             "line": {
              "color": "white"
             }
            },
            "header": {
             "fill": {
              "color": "#C8D4E3"
             },
             "line": {
              "color": "white"
             }
            },
            "type": "table"
           }
          ]
         },
         "layout": {
          "annotationdefaults": {
           "arrowcolor": "#2a3f5f",
           "arrowhead": 0,
           "arrowwidth": 1
          },
          "autotypenumbers": "strict",
          "coloraxis": {
           "colorbar": {
            "outlinewidth": 0,
            "ticks": ""
           }
          },
          "colorscale": {
           "diverging": [
            [
             0,
             "#8e0152"
            ],
            [
             0.1,
             "#c51b7d"
            ],
            [
             0.2,
             "#de77ae"
            ],
            [
             0.3,
             "#f1b6da"
            ],
            [
             0.4,
             "#fde0ef"
            ],
            [
             0.5,
             "#f7f7f7"
            ],
            [
             0.6,
             "#e6f5d0"
            ],
            [
             0.7,
             "#b8e186"
            ],
            [
             0.8,
             "#7fbc41"
            ],
            [
             0.9,
             "#4d9221"
            ],
            [
             1,
             "#276419"
            ]
           ],
           "sequential": [
            [
             0,
             "#0d0887"
            ],
            [
             0.1111111111111111,
             "#46039f"
            ],
            [
             0.2222222222222222,
             "#7201a8"
            ],
            [
             0.3333333333333333,
             "#9c179e"
            ],
            [
             0.4444444444444444,
             "#bd3786"
            ],
            [
             0.5555555555555556,
             "#d8576b"
            ],
            [
             0.6666666666666666,
             "#ed7953"
            ],
            [
             0.7777777777777778,
             "#fb9f3a"
            ],
            [
             0.8888888888888888,
             "#fdca26"
            ],
            [
             1,
             "#f0f921"
            ]
           ],
           "sequentialminus": [
            [
             0,
             "#0d0887"
            ],
            [
             0.1111111111111111,
             "#46039f"
            ],
            [
             0.2222222222222222,
             "#7201a8"
            ],
            [
             0.3333333333333333,
             "#9c179e"
            ],
            [
             0.4444444444444444,
             "#bd3786"
            ],
            [
             0.5555555555555556,
             "#d8576b"
            ],
            [
             0.6666666666666666,
             "#ed7953"
            ],
            [
             0.7777777777777778,
             "#fb9f3a"
            ],
            [
             0.8888888888888888,
             "#fdca26"
            ],
            [
             1,
             "#f0f921"
            ]
           ]
          },
          "colorway": [
           "#636efa",
           "#EF553B",
           "#00cc96",
           "#ab63fa",
           "#FFA15A",
           "#19d3f3",
           "#FF6692",
           "#B6E880",
           "#FF97FF",
           "#FECB52"
          ],
          "font": {
           "color": "#2a3f5f"
          },
          "geo": {
           "bgcolor": "white",
           "lakecolor": "white",
           "landcolor": "#E5ECF6",
           "showlakes": true,
           "showland": true,
           "subunitcolor": "white"
          },
          "hoverlabel": {
           "align": "left"
          },
          "hovermode": "closest",
          "mapbox": {
           "style": "light"
          },
          "paper_bgcolor": "white",
          "plot_bgcolor": "#E5ECF6",
          "polar": {
           "angularaxis": {
            "gridcolor": "white",
            "linecolor": "white",
            "ticks": ""
           },
           "bgcolor": "#E5ECF6",
           "radialaxis": {
            "gridcolor": "white",
            "linecolor": "white",
            "ticks": ""
           }
          },
          "scene": {
           "xaxis": {
            "backgroundcolor": "#E5ECF6",
            "gridcolor": "white",
            "gridwidth": 2,
            "linecolor": "white",
            "showbackground": true,
            "ticks": "",
            "zerolinecolor": "white"
           },
           "yaxis": {
            "backgroundcolor": "#E5ECF6",
            "gridcolor": "white",
            "gridwidth": 2,
            "linecolor": "white",
            "showbackground": true,
            "ticks": "",
            "zerolinecolor": "white"
           },
           "zaxis": {
            "backgroundcolor": "#E5ECF6",
            "gridcolor": "white",
            "gridwidth": 2,
            "linecolor": "white",
            "showbackground": true,
            "ticks": "",
            "zerolinecolor": "white"
           }
          },
          "shapedefaults": {
           "line": {
            "color": "#2a3f5f"
           }
          },
          "ternary": {
           "aaxis": {
            "gridcolor": "white",
            "linecolor": "white",
            "ticks": ""
           },
           "baxis": {
            "gridcolor": "white",
            "linecolor": "white",
            "ticks": ""
           },
           "bgcolor": "#E5ECF6",
           "caxis": {
            "gridcolor": "white",
            "linecolor": "white",
            "ticks": ""
           }
          },
          "title": {
           "x": 0.05
          },
          "xaxis": {
           "automargin": true,
           "gridcolor": "white",
           "linecolor": "white",
           "ticks": "",
           "title": {
            "standoff": 15
           },
           "zerolinecolor": "white",
           "zerolinewidth": 2
          },
          "yaxis": {
           "automargin": true,
           "gridcolor": "white",
           "linecolor": "white",
           "ticks": "",
           "title": {
            "standoff": 15
           },
           "zerolinecolor": "white",
           "zerolinewidth": 2
          }
         }
        },
        "xaxis": {
         "anchor": "y",
         "domain": [
          0,
          1
         ],
         "title": {
          "text": "Até que etapa de escolarização seu pai concluiu?"
         }
        },
        "yaxis": {
         "anchor": "x",
         "domain": [
          0,
          1
         ],
         "title": {
          "text": "NOTA PROVA"
         }
        }
       }
      },
      "text/html": [
       "<div>                            <div id=\"1aa4d266-d242-4a96-9f8a-6adfe3279af3\" class=\"plotly-graph-div\" style=\"height:525px; width:100%;\"></div>            <script type=\"text/javascript\">                require([\"plotly\"], function(Plotly) {                    window.PLOTLYENV=window.PLOTLYENV || {};                                    if (document.getElementById(\"1aa4d266-d242-4a96-9f8a-6adfe3279af3\")) {                    Plotly.newPlot(                        \"1aa4d266-d242-4a96-9f8a-6adfe3279af3\",                        [{\"alignmentgroup\": \"True\", \"boxpoints\": \"all\", \"hovertemplate\": \"At\\u00e9 que etapa de escolariza\\u00e7\\u00e3o seu pai concluiu?=%{x}<br>NOTA PROVA=%{y}<extra></extra>\", \"legendgroup\": \"\", \"marker\": {\"color\": \"#636efa\"}, \"name\": \"\", \"notched\": false, \"offsetgroup\": \"\", \"orientation\": \"v\", \"showlegend\": false, \"type\": \"box\", \"x\": [\"P\\u00f3s-gradua\\u00e7\\u00e3o.\", \"Ensino Superior - Gradua\\u00e7\\u00e3o.\", \"Ensino M\\u00e9dio\", \"Ensino Superior - Gradua\\u00e7\\u00e3o.\", \"Ensino Fundamental: 1\\u00ba ao 5\\u00ba ano (1\\u00aa a 4\\u00aa s\\u00e9rie).\", \"P\\u00f3s-gradua\\u00e7\\u00e3o.\", \"Ensino M\\u00e9dio\", \"Ensino M\\u00e9dio\", \"Ensino Fundamental: 1\\u00ba ao 5\\u00ba ano (1\\u00aa a 4\\u00aa s\\u00e9rie).\", \"Ensino M\\u00e9dio\", \"Ensino M\\u00e9dio\", \"Ensino Superior - Gradua\\u00e7\\u00e3o.\", \"Nenhuma\", \"Ensino M\\u00e9dio\", \"Ensino Superior - Gradua\\u00e7\\u00e3o.\", \"Ensino Fundamental: 1\\u00ba ao 5\\u00ba ano (1\\u00aa a 4\\u00aa s\\u00e9rie).\", \"Ensino Superior - Gradua\\u00e7\\u00e3o.\", \"P\\u00f3s-gradua\\u00e7\\u00e3o.\", \"Ensino M\\u00e9dio\", \"Ensino Superior - Gradua\\u00e7\\u00e3o.\", \"Ensino Fundamental: 1\\u00ba ao 5\\u00ba ano (1\\u00aa a 4\\u00aa s\\u00e9rie).\", \"Ensino Superior - Gradua\\u00e7\\u00e3o.\", \"Ensino Fundamental: 1\\u00ba ao 5\\u00ba ano (1\\u00aa a 4\\u00aa s\\u00e9rie).\", \"Ensino M\\u00e9dio\", \"Ensino Superior - Gradua\\u00e7\\u00e3o.\", \"Ensino Fundamental: 1\\u00ba ao 5\\u00ba ano (1\\u00aa a 4\\u00aa s\\u00e9rie).\", \"Ensino Superior - Gradua\\u00e7\\u00e3o.\", \"Ensino M\\u00e9dio\", \"Ensino Superior - Gradua\\u00e7\\u00e3o.\", \"Ensino Fundamental: 6\\u00ba ao 9\\u00ba ano (5\\u00aa a 8\\u00aa s\\u00e9rie).\", \"Ensino Superior - Gradua\\u00e7\\u00e3o.\", \"Ensino M\\u00e9dio\", \"Ensino M\\u00e9dio\", \"Ensino M\\u00e9dio\", \"Ensino M\\u00e9dio\", \"Ensino Fundamental: 1\\u00ba ao 5\\u00ba ano (1\\u00aa a 4\\u00aa s\\u00e9rie).\", \"Nenhuma\", \"Ensino Superior - Gradua\\u00e7\\u00e3o.\", \"Ensino Superior - Gradua\\u00e7\\u00e3o.\", \"Ensino M\\u00e9dio\", \"Ensino Fundamental: 6\\u00ba ao 9\\u00ba ano (5\\u00aa a 8\\u00aa s\\u00e9rie).\", \"Ensino M\\u00e9dio\", \"Ensino Superior - Gradua\\u00e7\\u00e3o.\", \"Ensino Superior - Gradua\\u00e7\\u00e3o.\", \"Ensino M\\u00e9dio\", \"Ensino Fundamental: 6\\u00ba ao 9\\u00ba ano (5\\u00aa a 8\\u00aa s\\u00e9rie).\", \"Ensino M\\u00e9dio\", \"Ensino Fundamental: 1\\u00ba ao 5\\u00ba ano (1\\u00aa a 4\\u00aa s\\u00e9rie).\", \"Ensino Fundamental: 6\\u00ba ao 9\\u00ba ano (5\\u00aa a 8\\u00aa s\\u00e9rie).\", \"Ensino M\\u00e9dio\", \"Ensino Fundamental: 1\\u00ba ao 5\\u00ba ano (1\\u00aa a 4\\u00aa s\\u00e9rie).\", \"Ensino Superior - Gradua\\u00e7\\u00e3o.\", \"Ensino M\\u00e9dio\", \"Ensino Fundamental: 6\\u00ba ao 9\\u00ba ano (5\\u00aa a 8\\u00aa s\\u00e9rie).\", \"Ensino M\\u00e9dio\", \"Ensino Superior - Gradua\\u00e7\\u00e3o.\", \"Ensino M\\u00e9dio\", \"Ensino Fundamental: 6\\u00ba ao 9\\u00ba ano (5\\u00aa a 8\\u00aa s\\u00e9rie).\", \"Ensino Fundamental: 6\\u00ba ao 9\\u00ba ano (5\\u00aa a 8\\u00aa s\\u00e9rie).\", \"Ensino Fundamental: 6\\u00ba ao 9\\u00ba ano (5\\u00aa a 8\\u00aa s\\u00e9rie).\", \"Ensino Fundamental: 1\\u00ba ao 5\\u00ba ano (1\\u00aa a 4\\u00aa s\\u00e9rie).\", \"Ensino M\\u00e9dio\", \"Ensino Fundamental: 6\\u00ba ao 9\\u00ba ano (5\\u00aa a 8\\u00aa s\\u00e9rie).\", \"Ensino M\\u00e9dio\", \"Ensino Superior - Gradua\\u00e7\\u00e3o.\", \"Ensino M\\u00e9dio\", \"Ensino Fundamental: 1\\u00ba ao 5\\u00ba ano (1\\u00aa a 4\\u00aa s\\u00e9rie).\", \"P\\u00f3s-gradua\\u00e7\\u00e3o.\", \"Ensino Superior - Gradua\\u00e7\\u00e3o.\", \"Ensino Superior - Gradua\\u00e7\\u00e3o.\", \"Ensino M\\u00e9dio\", \"Ensino Superior - Gradua\\u00e7\\u00e3o.\", \"Ensino Fundamental: 6\\u00ba ao 9\\u00ba ano (5\\u00aa a 8\\u00aa s\\u00e9rie).\", \"Ensino M\\u00e9dio\", \"Ensino Fundamental: 1\\u00ba ao 5\\u00ba ano (1\\u00aa a 4\\u00aa s\\u00e9rie).\", \"Ensino M\\u00e9dio\", \"Ensino Superior - Gradua\\u00e7\\u00e3o.\", \"P\\u00f3s-gradua\\u00e7\\u00e3o.\", \"Ensino Superior - Gradua\\u00e7\\u00e3o.\", \"Ensino M\\u00e9dio\", \"Ensino M\\u00e9dio\", \"Ensino M\\u00e9dio\", \"P\\u00f3s-gradua\\u00e7\\u00e3o.\", \"Ensino Fundamental: 6\\u00ba ao 9\\u00ba ano (5\\u00aa a 8\\u00aa s\\u00e9rie).\", \"Ensino Fundamental: 1\\u00ba ao 5\\u00ba ano (1\\u00aa a 4\\u00aa s\\u00e9rie).\", \"Ensino Fundamental: 6\\u00ba ao 9\\u00ba ano (5\\u00aa a 8\\u00aa s\\u00e9rie).\", \"Ensino Fundamental: 6\\u00ba ao 9\\u00ba ano (5\\u00aa a 8\\u00aa s\\u00e9rie).\", \"P\\u00f3s-gradua\\u00e7\\u00e3o.\", \"Ensino Fundamental: 1\\u00ba ao 5\\u00ba ano (1\\u00aa a 4\\u00aa s\\u00e9rie).\", \"Ensino Fundamental: 1\\u00ba ao 5\\u00ba ano (1\\u00aa a 4\\u00aa s\\u00e9rie).\", \"Ensino Fundamental: 1\\u00ba ao 5\\u00ba ano (1\\u00aa a 4\\u00aa s\\u00e9rie).\", \"Ensino M\\u00e9dio\", \"Ensino M\\u00e9dio\", \"Ensino Superior - Gradua\\u00e7\\u00e3o.\", \"Ensino Fundamental: 1\\u00ba ao 5\\u00ba ano (1\\u00aa a 4\\u00aa s\\u00e9rie).\", \"Ensino M\\u00e9dio\", \"Ensino M\\u00e9dio\", \"Ensino M\\u00e9dio\", \"Ensino Fundamental: 6\\u00ba ao 9\\u00ba ano (5\\u00aa a 8\\u00aa s\\u00e9rie).\", \"Ensino M\\u00e9dio\", \"Ensino Superior - Gradua\\u00e7\\u00e3o.\", \"Ensino Fundamental: 1\\u00ba ao 5\\u00ba ano (1\\u00aa a 4\\u00aa s\\u00e9rie).\", \"Ensino M\\u00e9dio\", \"Ensino Superior - Gradua\\u00e7\\u00e3o.\", \"Ensino Superior - Gradua\\u00e7\\u00e3o.\", \"Ensino Fundamental: 1\\u00ba ao 5\\u00ba ano (1\\u00aa a 4\\u00aa s\\u00e9rie).\", \"Ensino Superior - Gradua\\u00e7\\u00e3o.\", \"Ensino Fundamental: 1\\u00ba ao 5\\u00ba ano (1\\u00aa a 4\\u00aa s\\u00e9rie).\", \"P\\u00f3s-gradua\\u00e7\\u00e3o.\", \"Ensino M\\u00e9dio\", \"Ensino M\\u00e9dio\", \"Ensino M\\u00e9dio\", \"Ensino Fundamental: 1\\u00ba ao 5\\u00ba ano (1\\u00aa a 4\\u00aa s\\u00e9rie).\", \"Ensino Superior - Gradua\\u00e7\\u00e3o.\", \"Ensino M\\u00e9dio\", \"Ensino M\\u00e9dio\", \"Ensino M\\u00e9dio\", \"Ensino Superior - Gradua\\u00e7\\u00e3o.\", \"P\\u00f3s-gradua\\u00e7\\u00e3o.\", \"Ensino M\\u00e9dio\", \"P\\u00f3s-gradua\\u00e7\\u00e3o.\", \"Ensino Superior - Gradua\\u00e7\\u00e3o.\", \"P\\u00f3s-gradua\\u00e7\\u00e3o.\", \"Ensino M\\u00e9dio\", \"P\\u00f3s-gradua\\u00e7\\u00e3o.\", \"Ensino Fundamental: 6\\u00ba ao 9\\u00ba ano (5\\u00aa a 8\\u00aa s\\u00e9rie).\", \"Ensino Superior - Gradua\\u00e7\\u00e3o.\", \"Ensino Fundamental: 1\\u00ba ao 5\\u00ba ano (1\\u00aa a 4\\u00aa s\\u00e9rie).\", \"Ensino M\\u00e9dio\", \"Ensino M\\u00e9dio\", \"Ensino Fundamental: 6\\u00ba ao 9\\u00ba ano (5\\u00aa a 8\\u00aa s\\u00e9rie).\", \"Ensino M\\u00e9dio\", \"Ensino Superior - Gradua\\u00e7\\u00e3o.\", \"Ensino M\\u00e9dio\", \"Ensino Superior - Gradua\\u00e7\\u00e3o.\", \"Ensino M\\u00e9dio\", \"Ensino Fundamental: 1\\u00ba ao 5\\u00ba ano (1\\u00aa a 4\\u00aa s\\u00e9rie).\", \"Ensino Fundamental: 6\\u00ba ao 9\\u00ba ano (5\\u00aa a 8\\u00aa s\\u00e9rie).\", \"Ensino Superior - Gradua\\u00e7\\u00e3o.\", \"Ensino Superior - Gradua\\u00e7\\u00e3o.\", \"Ensino M\\u00e9dio\", \"Ensino M\\u00e9dio\", \"Ensino M\\u00e9dio\", \"Ensino M\\u00e9dio\", \"Ensino Fundamental: 6\\u00ba ao 9\\u00ba ano (5\\u00aa a 8\\u00aa s\\u00e9rie).\", \"Ensino M\\u00e9dio\", \"Ensino M\\u00e9dio\", \"Ensino M\\u00e9dio\", \"Ensino Superior - Gradua\\u00e7\\u00e3o.\", \"Ensino Fundamental: 1\\u00ba ao 5\\u00ba ano (1\\u00aa a 4\\u00aa s\\u00e9rie).\", \"Ensino Superior - Gradua\\u00e7\\u00e3o.\", \"Ensino Superior - Gradua\\u00e7\\u00e3o.\", \"Ensino M\\u00e9dio\", \"Nenhuma\", \"Ensino M\\u00e9dio\", \"Ensino Fundamental: 1\\u00ba ao 5\\u00ba ano (1\\u00aa a 4\\u00aa s\\u00e9rie).\", \"Ensino Fundamental: 1\\u00ba ao 5\\u00ba ano (1\\u00aa a 4\\u00aa s\\u00e9rie).\", \"Ensino Fundamental: 6\\u00ba ao 9\\u00ba ano (5\\u00aa a 8\\u00aa s\\u00e9rie).\", \"Ensino M\\u00e9dio\", \"Ensino M\\u00e9dio\", \"Ensino Superior - Gradua\\u00e7\\u00e3o.\", \"Ensino M\\u00e9dio\", \"Ensino Fundamental: 6\\u00ba ao 9\\u00ba ano (5\\u00aa a 8\\u00aa s\\u00e9rie).\", \"Ensino M\\u00e9dio\", \"Ensino M\\u00e9dio\", \"Ensino Superior - Gradua\\u00e7\\u00e3o.\", \"Ensino M\\u00e9dio\", \"Ensino M\\u00e9dio\", \"Ensino M\\u00e9dio\", \"Ensino Superior - Gradua\\u00e7\\u00e3o.\", \"Ensino Fundamental: 6\\u00ba ao 9\\u00ba ano (5\\u00aa a 8\\u00aa s\\u00e9rie).\", \"Ensino M\\u00e9dio\", \"Ensino Superior - Gradua\\u00e7\\u00e3o.\", \"P\\u00f3s-gradua\\u00e7\\u00e3o.\", \"Nenhuma\", \"Ensino Fundamental: 6\\u00ba ao 9\\u00ba ano (5\\u00aa a 8\\u00aa s\\u00e9rie).\", \"Ensino M\\u00e9dio\", \"Ensino M\\u00e9dio\", \"Ensino M\\u00e9dio\", \"Ensino Fundamental: 6\\u00ba ao 9\\u00ba ano (5\\u00aa a 8\\u00aa s\\u00e9rie).\", \"Ensino Fundamental: 6\\u00ba ao 9\\u00ba ano (5\\u00aa a 8\\u00aa s\\u00e9rie).\", \"Ensino Fundamental: 1\\u00ba ao 5\\u00ba ano (1\\u00aa a 4\\u00aa s\\u00e9rie).\", \"Ensino M\\u00e9dio\", \"Ensino M\\u00e9dio\", \"Ensino Superior - Gradua\\u00e7\\u00e3o.\", \"Ensino Superior - Gradua\\u00e7\\u00e3o.\", \"Ensino Fundamental: 6\\u00ba ao 9\\u00ba ano (5\\u00aa a 8\\u00aa s\\u00e9rie).\", \"Ensino Superior - Gradua\\u00e7\\u00e3o.\", \"Nenhuma\", \"Ensino Superior - Gradua\\u00e7\\u00e3o.\", \"Ensino M\\u00e9dio\", \"Ensino M\\u00e9dio\", \"Ensino Fundamental: 6\\u00ba ao 9\\u00ba ano (5\\u00aa a 8\\u00aa s\\u00e9rie).\", \"Ensino M\\u00e9dio\", \"Ensino M\\u00e9dio\", \"Ensino M\\u00e9dio\", \"Ensino M\\u00e9dio\", \"Ensino Fundamental: 6\\u00ba ao 9\\u00ba ano (5\\u00aa a 8\\u00aa s\\u00e9rie).\", \"Ensino Superior - Gradua\\u00e7\\u00e3o.\", \"P\\u00f3s-gradua\\u00e7\\u00e3o.\", \"Ensino Fundamental: 1\\u00ba ao 5\\u00ba ano (1\\u00aa a 4\\u00aa s\\u00e9rie).\", \"Ensino M\\u00e9dio\", \"Ensino M\\u00e9dio\", \"Ensino M\\u00e9dio\", \"Ensino M\\u00e9dio\", \"Ensino M\\u00e9dio\", \"Ensino M\\u00e9dio\", \"Ensino M\\u00e9dio\", \"Ensino M\\u00e9dio\", \"Ensino Superior - Gradua\\u00e7\\u00e3o.\", \"Ensino M\\u00e9dio\", \"Ensino Superior - Gradua\\u00e7\\u00e3o.\", \"Ensino Superior - Gradua\\u00e7\\u00e3o.\", \"Ensino M\\u00e9dio\", \"Ensino Fundamental: 6\\u00ba ao 9\\u00ba ano (5\\u00aa a 8\\u00aa s\\u00e9rie).\", \"Ensino M\\u00e9dio\", \"Ensino Superior - Gradua\\u00e7\\u00e3o.\", \"Ensino Fundamental: 1\\u00ba ao 5\\u00ba ano (1\\u00aa a 4\\u00aa s\\u00e9rie).\", \"Ensino Fundamental: 1\\u00ba ao 5\\u00ba ano (1\\u00aa a 4\\u00aa s\\u00e9rie).\", \"Ensino M\\u00e9dio\", \"Ensino M\\u00e9dio\", \"Ensino Fundamental: 6\\u00ba ao 9\\u00ba ano (5\\u00aa a 8\\u00aa s\\u00e9rie).\", \"Ensino M\\u00e9dio\", \"P\\u00f3s-gradua\\u00e7\\u00e3o.\", \"Ensino Superior - Gradua\\u00e7\\u00e3o.\", \"Ensino Fundamental: 6\\u00ba ao 9\\u00ba ano (5\\u00aa a 8\\u00aa s\\u00e9rie).\", \"Ensino Fundamental: 1\\u00ba ao 5\\u00ba ano (1\\u00aa a 4\\u00aa s\\u00e9rie).\", \"P\\u00f3s-gradua\\u00e7\\u00e3o.\", \"Ensino M\\u00e9dio\", \"Ensino M\\u00e9dio\", \"Ensino Superior - Gradua\\u00e7\\u00e3o.\", \"Ensino M\\u00e9dio\", \"Ensino Superior - Gradua\\u00e7\\u00e3o.\", \"Ensino M\\u00e9dio\", \"Ensino M\\u00e9dio\", \"Ensino M\\u00e9dio\", \"Ensino Superior - Gradua\\u00e7\\u00e3o.\", \"Ensino Superior - Gradua\\u00e7\\u00e3o.\", \"Ensino Fundamental: 6\\u00ba ao 9\\u00ba ano (5\\u00aa a 8\\u00aa s\\u00e9rie).\", \"Ensino M\\u00e9dio\", \"Ensino Fundamental: 6\\u00ba ao 9\\u00ba ano (5\\u00aa a 8\\u00aa s\\u00e9rie).\", \"P\\u00f3s-gradua\\u00e7\\u00e3o.\", \"Ensino Fundamental: 1\\u00ba ao 5\\u00ba ano (1\\u00aa a 4\\u00aa s\\u00e9rie).\", \"P\\u00f3s-gradua\\u00e7\\u00e3o.\", \"Ensino Fundamental: 6\\u00ba ao 9\\u00ba ano (5\\u00aa a 8\\u00aa s\\u00e9rie).\", \"P\\u00f3s-gradua\\u00e7\\u00e3o.\", \"Ensino Superior - Gradua\\u00e7\\u00e3o.\", \"Ensino M\\u00e9dio\", \"Ensino Fundamental: 6\\u00ba ao 9\\u00ba ano (5\\u00aa a 8\\u00aa s\\u00e9rie).\", \"Ensino Superior - Gradua\\u00e7\\u00e3o.\", \"Ensino M\\u00e9dio\", \"P\\u00f3s-gradua\\u00e7\\u00e3o.\", \"Ensino Superior - Gradua\\u00e7\\u00e3o.\", \"Ensino Fundamental: 1\\u00ba ao 5\\u00ba ano (1\\u00aa a 4\\u00aa s\\u00e9rie).\", \"Ensino M\\u00e9dio\", \"Ensino M\\u00e9dio\", \"Ensino Fundamental: 6\\u00ba ao 9\\u00ba ano (5\\u00aa a 8\\u00aa s\\u00e9rie).\", \"Ensino M\\u00e9dio\", \"Ensino M\\u00e9dio\", \"Ensino Fundamental: 6\\u00ba ao 9\\u00ba ano (5\\u00aa a 8\\u00aa s\\u00e9rie).\", \"Ensino Fundamental: 6\\u00ba ao 9\\u00ba ano (5\\u00aa a 8\\u00aa s\\u00e9rie).\", \"P\\u00f3s-gradua\\u00e7\\u00e3o.\", \"Ensino Superior - Gradua\\u00e7\\u00e3o.\", \"Ensino Fundamental: 1\\u00ba ao 5\\u00ba ano (1\\u00aa a 4\\u00aa s\\u00e9rie).\", \"Ensino M\\u00e9dio\", \"Nenhuma\", \"Ensino M\\u00e9dio\", \"Ensino M\\u00e9dio\", \"Ensino Superior - Gradua\\u00e7\\u00e3o.\", \"Ensino Superior - Gradua\\u00e7\\u00e3o.\", \"Ensino Fundamental: 6\\u00ba ao 9\\u00ba ano (5\\u00aa a 8\\u00aa s\\u00e9rie).\", \"Ensino M\\u00e9dio\", \"Ensino Superior - Gradua\\u00e7\\u00e3o.\", \"Ensino M\\u00e9dio\", \"Ensino M\\u00e9dio\", \"Ensino Fundamental: 6\\u00ba ao 9\\u00ba ano (5\\u00aa a 8\\u00aa s\\u00e9rie).\", \"Ensino M\\u00e9dio\", \"P\\u00f3s-gradua\\u00e7\\u00e3o.\", \"Ensino M\\u00e9dio\", \"Ensino M\\u00e9dio\", \"Ensino Superior - Gradua\\u00e7\\u00e3o.\", \"Ensino Superior - Gradua\\u00e7\\u00e3o.\", \"Ensino Superior - Gradua\\u00e7\\u00e3o.\", \"Ensino M\\u00e9dio\", \"Ensino Fundamental: 6\\u00ba ao 9\\u00ba ano (5\\u00aa a 8\\u00aa s\\u00e9rie).\", \"Ensino Fundamental: 6\\u00ba ao 9\\u00ba ano (5\\u00aa a 8\\u00aa s\\u00e9rie).\", \"Ensino M\\u00e9dio\", \"Ensino Superior - Gradua\\u00e7\\u00e3o.\", \"Ensino M\\u00e9dio\", \"Ensino Fundamental: 6\\u00ba ao 9\\u00ba ano (5\\u00aa a 8\\u00aa s\\u00e9rie).\", \"Ensino Superior - Gradua\\u00e7\\u00e3o.\", \"Ensino Fundamental: 6\\u00ba ao 9\\u00ba ano (5\\u00aa a 8\\u00aa s\\u00e9rie).\", \"Ensino Superior - Gradua\\u00e7\\u00e3o.\", \"Ensino M\\u00e9dio\", \"Ensino Fundamental: 6\\u00ba ao 9\\u00ba ano (5\\u00aa a 8\\u00aa s\\u00e9rie).\", \"Ensino Superior - Gradua\\u00e7\\u00e3o.\", \"Ensino M\\u00e9dio\", \"Ensino Superior - Gradua\\u00e7\\u00e3o.\", \"Ensino M\\u00e9dio\", \"P\\u00f3s-gradua\\u00e7\\u00e3o.\", \"Ensino Superior - Gradua\\u00e7\\u00e3o.\", \"Ensino M\\u00e9dio\", \"Ensino Superior - Gradua\\u00e7\\u00e3o.\", \"Ensino Fundamental: 6\\u00ba ao 9\\u00ba ano (5\\u00aa a 8\\u00aa s\\u00e9rie).\", \"Ensino Fundamental: 6\\u00ba ao 9\\u00ba ano (5\\u00aa a 8\\u00aa s\\u00e9rie).\", \"Ensino Fundamental: 6\\u00ba ao 9\\u00ba ano (5\\u00aa a 8\\u00aa s\\u00e9rie).\", \"Ensino Superior - Gradua\\u00e7\\u00e3o.\", \"P\\u00f3s-gradua\\u00e7\\u00e3o.\", \"Ensino M\\u00e9dio\", \"Ensino Fundamental: 6\\u00ba ao 9\\u00ba ano (5\\u00aa a 8\\u00aa s\\u00e9rie).\", \"Ensino Fundamental: 6\\u00ba ao 9\\u00ba ano (5\\u00aa a 8\\u00aa s\\u00e9rie).\", \"Ensino M\\u00e9dio\", \"Ensino M\\u00e9dio\", \"Ensino M\\u00e9dio\", \"Ensino Fundamental: 1\\u00ba ao 5\\u00ba ano (1\\u00aa a 4\\u00aa s\\u00e9rie).\", \"Ensino M\\u00e9dio\", \"Ensino M\\u00e9dio\", \"Ensino Superior - Gradua\\u00e7\\u00e3o.\", \"P\\u00f3s-gradua\\u00e7\\u00e3o.\", \"Ensino Superior - Gradua\\u00e7\\u00e3o.\", \"Ensino Superior - Gradua\\u00e7\\u00e3o.\", \"Ensino Superior - Gradua\\u00e7\\u00e3o.\", \"Ensino Superior - Gradua\\u00e7\\u00e3o.\", \"Nenhuma\", \"Ensino Superior - Gradua\\u00e7\\u00e3o.\", \"Ensino Superior - Gradua\\u00e7\\u00e3o.\", \"Ensino Fundamental: 1\\u00ba ao 5\\u00ba ano (1\\u00aa a 4\\u00aa s\\u00e9rie).\", \"Ensino Fundamental: 6\\u00ba ao 9\\u00ba ano (5\\u00aa a 8\\u00aa s\\u00e9rie).\", \"Ensino M\\u00e9dio\", \"Ensino Fundamental: 1\\u00ba ao 5\\u00ba ano (1\\u00aa a 4\\u00aa s\\u00e9rie).\", \"Ensino Fundamental: 6\\u00ba ao 9\\u00ba ano (5\\u00aa a 8\\u00aa s\\u00e9rie).\", \"P\\u00f3s-gradua\\u00e7\\u00e3o.\", \"Ensino Superior - Gradua\\u00e7\\u00e3o.\", \"Ensino M\\u00e9dio\", \"Ensino M\\u00e9dio\", \"Ensino M\\u00e9dio\", \"Ensino M\\u00e9dio\", \"Ensino Superior - Gradua\\u00e7\\u00e3o.\", \"Ensino M\\u00e9dio\", \"Ensino M\\u00e9dio\", \"Ensino M\\u00e9dio\", \"P\\u00f3s-gradua\\u00e7\\u00e3o.\", \"Ensino Fundamental: 6\\u00ba ao 9\\u00ba ano (5\\u00aa a 8\\u00aa s\\u00e9rie).\", \"Ensino Fundamental: 1\\u00ba ao 5\\u00ba ano (1\\u00aa a 4\\u00aa s\\u00e9rie).\", \"Ensino M\\u00e9dio\", \"Ensino Fundamental: 1\\u00ba ao 5\\u00ba ano (1\\u00aa a 4\\u00aa s\\u00e9rie).\", \"Ensino Superior - Gradua\\u00e7\\u00e3o.\", \"Ensino Fundamental: 1\\u00ba ao 5\\u00ba ano (1\\u00aa a 4\\u00aa s\\u00e9rie).\", \"Ensino Fundamental: 6\\u00ba ao 9\\u00ba ano (5\\u00aa a 8\\u00aa s\\u00e9rie).\", \"Ensino Fundamental: 1\\u00ba ao 5\\u00ba ano (1\\u00aa a 4\\u00aa s\\u00e9rie).\", \"Ensino M\\u00e9dio\", \"Ensino Fundamental: 6\\u00ba ao 9\\u00ba ano (5\\u00aa a 8\\u00aa s\\u00e9rie).\", \"Ensino M\\u00e9dio\", \"Ensino M\\u00e9dio\", \"Ensino M\\u00e9dio\", \"Ensino Fundamental: 6\\u00ba ao 9\\u00ba ano (5\\u00aa a 8\\u00aa s\\u00e9rie).\", \"Ensino M\\u00e9dio\", \"Ensino M\\u00e9dio\", \"Ensino M\\u00e9dio\", \"Ensino Fundamental: 1\\u00ba ao 5\\u00ba ano (1\\u00aa a 4\\u00aa s\\u00e9rie).\", \"Ensino M\\u00e9dio\", \"Ensino M\\u00e9dio\", \"Ensino Fundamental: 6\\u00ba ao 9\\u00ba ano (5\\u00aa a 8\\u00aa s\\u00e9rie).\", \"Ensino M\\u00e9dio\", \"Ensino M\\u00e9dio\", \"Ensino Superior - Gradua\\u00e7\\u00e3o.\", \"Ensino Fundamental: 6\\u00ba ao 9\\u00ba ano (5\\u00aa a 8\\u00aa s\\u00e9rie).\", \"Ensino M\\u00e9dio\", \"Nenhuma\", \"Ensino M\\u00e9dio\", \"Ensino M\\u00e9dio\", \"Ensino M\\u00e9dio\", \"Ensino M\\u00e9dio\", \"Ensino Fundamental: 6\\u00ba ao 9\\u00ba ano (5\\u00aa a 8\\u00aa s\\u00e9rie).\", \"Ensino Superior - Gradua\\u00e7\\u00e3o.\", \"Ensino M\\u00e9dio\", \"Ensino Fundamental: 1\\u00ba ao 5\\u00ba ano (1\\u00aa a 4\\u00aa s\\u00e9rie).\", \"Ensino Fundamental: 1\\u00ba ao 5\\u00ba ano (1\\u00aa a 4\\u00aa s\\u00e9rie).\", \"Ensino M\\u00e9dio\", \"Ensino Superior - Gradua\\u00e7\\u00e3o.\", \"Ensino Fundamental: 1\\u00ba ao 5\\u00ba ano (1\\u00aa a 4\\u00aa s\\u00e9rie).\", \"Ensino Superior - Gradua\\u00e7\\u00e3o.\", \"Ensino Superior - Gradua\\u00e7\\u00e3o.\", \"Ensino Fundamental: 1\\u00ba ao 5\\u00ba ano (1\\u00aa a 4\\u00aa s\\u00e9rie).\", \"Ensino M\\u00e9dio\", \"Ensino Fundamental: 6\\u00ba ao 9\\u00ba ano (5\\u00aa a 8\\u00aa s\\u00e9rie).\", \"Ensino Fundamental: 6\\u00ba ao 9\\u00ba ano (5\\u00aa a 8\\u00aa s\\u00e9rie).\", \"Ensino Superior - Gradua\\u00e7\\u00e3o.\", \"Ensino M\\u00e9dio\", \"Ensino M\\u00e9dio\", \"Nenhuma\", \"Ensino M\\u00e9dio\", \"Ensino M\\u00e9dio\", \"Ensino Fundamental: 1\\u00ba ao 5\\u00ba ano (1\\u00aa a 4\\u00aa s\\u00e9rie).\", \"Ensino M\\u00e9dio\", \"Ensino Superior - Gradua\\u00e7\\u00e3o.\", \"P\\u00f3s-gradua\\u00e7\\u00e3o.\", \"Ensino Fundamental: 1\\u00ba ao 5\\u00ba ano (1\\u00aa a 4\\u00aa s\\u00e9rie).\", \"Ensino Superior - Gradua\\u00e7\\u00e3o.\", \"Ensino Fundamental: 6\\u00ba ao 9\\u00ba ano (5\\u00aa a 8\\u00aa s\\u00e9rie).\", \"Ensino M\\u00e9dio\", \"Ensino Superior - Gradua\\u00e7\\u00e3o.\", \"Ensino Fundamental: 6\\u00ba ao 9\\u00ba ano (5\\u00aa a 8\\u00aa s\\u00e9rie).\", \"Ensino Superior - Gradua\\u00e7\\u00e3o.\", \"Ensino Fundamental: 6\\u00ba ao 9\\u00ba ano (5\\u00aa a 8\\u00aa s\\u00e9rie).\", \"Ensino M\\u00e9dio\", \"Ensino Superior - Gradua\\u00e7\\u00e3o.\", \"Ensino Fundamental: 1\\u00ba ao 5\\u00ba ano (1\\u00aa a 4\\u00aa s\\u00e9rie).\", \"Ensino M\\u00e9dio\", \"Ensino Superior - Gradua\\u00e7\\u00e3o.\", \"Ensino M\\u00e9dio\", \"Ensino M\\u00e9dio\", \"Ensino M\\u00e9dio\", \"P\\u00f3s-gradua\\u00e7\\u00e3o.\", \"Ensino M\\u00e9dio\", \"Ensino M\\u00e9dio\", \"Ensino M\\u00e9dio\", \"Ensino Superior - Gradua\\u00e7\\u00e3o.\", \"P\\u00f3s-gradua\\u00e7\\u00e3o.\", \"Ensino Fundamental: 6\\u00ba ao 9\\u00ba ano (5\\u00aa a 8\\u00aa s\\u00e9rie).\", \"Ensino Fundamental: 1\\u00ba ao 5\\u00ba ano (1\\u00aa a 4\\u00aa s\\u00e9rie).\", \"Ensino M\\u00e9dio\", \"Ensino Fundamental: 6\\u00ba ao 9\\u00ba ano (5\\u00aa a 8\\u00aa s\\u00e9rie).\", \"Ensino M\\u00e9dio\", \"Ensino M\\u00e9dio\", \"Ensino M\\u00e9dio\", \"Ensino Superior - Gradua\\u00e7\\u00e3o.\", \"Ensino Superior - Gradua\\u00e7\\u00e3o.\", \"Ensino M\\u00e9dio\", \"Ensino M\\u00e9dio\", \"Ensino Superior - Gradua\\u00e7\\u00e3o.\", \"Ensino M\\u00e9dio\", \"Nenhuma\", \"Ensino M\\u00e9dio\", \"Ensino Fundamental: 6\\u00ba ao 9\\u00ba ano (5\\u00aa a 8\\u00aa s\\u00e9rie).\", \"Ensino M\\u00e9dio\", \"Ensino M\\u00e9dio\", \"Ensino Fundamental: 6\\u00ba ao 9\\u00ba ano (5\\u00aa a 8\\u00aa s\\u00e9rie).\", \"Ensino M\\u00e9dio\", \"Ensino M\\u00e9dio\", \"Ensino M\\u00e9dio\", \"Ensino M\\u00e9dio\", \"Ensino M\\u00e9dio\", \"Ensino Fundamental: 6\\u00ba ao 9\\u00ba ano (5\\u00aa a 8\\u00aa s\\u00e9rie).\", \"Ensino M\\u00e9dio\", \"Ensino M\\u00e9dio\", \"Ensino Fundamental: 1\\u00ba ao 5\\u00ba ano (1\\u00aa a 4\\u00aa s\\u00e9rie).\", \"Ensino M\\u00e9dio\", \"Ensino M\\u00e9dio\", \"Ensino Fundamental: 1\\u00ba ao 5\\u00ba ano (1\\u00aa a 4\\u00aa s\\u00e9rie).\", \"Ensino M\\u00e9dio\", \"Ensino M\\u00e9dio\", \"Ensino M\\u00e9dio\", \"Ensino M\\u00e9dio\", \"Ensino Fundamental: 1\\u00ba ao 5\\u00ba ano (1\\u00aa a 4\\u00aa s\\u00e9rie).\", \"Ensino Fundamental: 1\\u00ba ao 5\\u00ba ano (1\\u00aa a 4\\u00aa s\\u00e9rie).\", \"Nenhuma\", \"Ensino Fundamental: 6\\u00ba ao 9\\u00ba ano (5\\u00aa a 8\\u00aa s\\u00e9rie).\", \"Ensino M\\u00e9dio\", \"P\\u00f3s-gradua\\u00e7\\u00e3o.\", \"Ensino M\\u00e9dio\", \"Ensino Superior - Gradua\\u00e7\\u00e3o.\", \"Ensino M\\u00e9dio\", \"Ensino Superior - Gradua\\u00e7\\u00e3o.\", \"Ensino M\\u00e9dio\", \"Ensino Fundamental: 6\\u00ba ao 9\\u00ba ano (5\\u00aa a 8\\u00aa s\\u00e9rie).\", \"P\\u00f3s-gradua\\u00e7\\u00e3o.\", \"Ensino M\\u00e9dio\", \"Ensino M\\u00e9dio\", \"Ensino Superior - Gradua\\u00e7\\u00e3o.\", \"Ensino Superior - Gradua\\u00e7\\u00e3o.\", \"Ensino M\\u00e9dio\", \"Ensino Superior - Gradua\\u00e7\\u00e3o.\", \"Ensino M\\u00e9dio\", \"Nenhuma\", \"Ensino Superior - Gradua\\u00e7\\u00e3o.\", \"Ensino M\\u00e9dio\", \"Ensino Fundamental: 1\\u00ba ao 5\\u00ba ano (1\\u00aa a 4\\u00aa s\\u00e9rie).\", \"Ensino Fundamental: 6\\u00ba ao 9\\u00ba ano (5\\u00aa a 8\\u00aa s\\u00e9rie).\", \"P\\u00f3s-gradua\\u00e7\\u00e3o.\", \"Ensino Superior - Gradua\\u00e7\\u00e3o.\", \"Ensino M\\u00e9dio\", \"Ensino Superior - Gradua\\u00e7\\u00e3o.\", \"Ensino M\\u00e9dio\", \"Ensino Fundamental: 1\\u00ba ao 5\\u00ba ano (1\\u00aa a 4\\u00aa s\\u00e9rie).\", \"Ensino M\\u00e9dio\", \"Ensino Fundamental: 1\\u00ba ao 5\\u00ba ano (1\\u00aa a 4\\u00aa s\\u00e9rie).\", \"Ensino Fundamental: 1\\u00ba ao 5\\u00ba ano (1\\u00aa a 4\\u00aa s\\u00e9rie).\", \"Ensino Fundamental: 1\\u00ba ao 5\\u00ba ano (1\\u00aa a 4\\u00aa s\\u00e9rie).\", \"Ensino Fundamental: 6\\u00ba ao 9\\u00ba ano (5\\u00aa a 8\\u00aa s\\u00e9rie).\", \"Ensino Superior - Gradua\\u00e7\\u00e3o.\", \"P\\u00f3s-gradua\\u00e7\\u00e3o.\", \"Ensino M\\u00e9dio\", \"Ensino M\\u00e9dio\", \"Ensino Fundamental: 6\\u00ba ao 9\\u00ba ano (5\\u00aa a 8\\u00aa s\\u00e9rie).\", \"P\\u00f3s-gradua\\u00e7\\u00e3o.\", \"Ensino Superior - Gradua\\u00e7\\u00e3o.\", \"Ensino Fundamental: 1\\u00ba ao 5\\u00ba ano (1\\u00aa a 4\\u00aa s\\u00e9rie).\", \"Ensino Fundamental: 6\\u00ba ao 9\\u00ba ano (5\\u00aa a 8\\u00aa s\\u00e9rie).\", \"Ensino M\\u00e9dio\", \"Ensino M\\u00e9dio\", \"Ensino Fundamental: 1\\u00ba ao 5\\u00ba ano (1\\u00aa a 4\\u00aa s\\u00e9rie).\", \"Ensino M\\u00e9dio\", \"Ensino Fundamental: 1\\u00ba ao 5\\u00ba ano (1\\u00aa a 4\\u00aa s\\u00e9rie).\", \"Ensino Fundamental: 1\\u00ba ao 5\\u00ba ano (1\\u00aa a 4\\u00aa s\\u00e9rie).\", \"Ensino Fundamental: 1\\u00ba ao 5\\u00ba ano (1\\u00aa a 4\\u00aa s\\u00e9rie).\", \"Ensino Fundamental: 1\\u00ba ao 5\\u00ba ano (1\\u00aa a 4\\u00aa s\\u00e9rie).\", \"Ensino Superior - Gradua\\u00e7\\u00e3o.\", \"Ensino M\\u00e9dio\", \"Ensino Superior - Gradua\\u00e7\\u00e3o.\", \"Ensino Fundamental: 6\\u00ba ao 9\\u00ba ano (5\\u00aa a 8\\u00aa s\\u00e9rie).\", \"Ensino M\\u00e9dio\", \"Ensino M\\u00e9dio\", \"Ensino M\\u00e9dio\", \"Ensino M\\u00e9dio\", \"Ensino Superior - Gradua\\u00e7\\u00e3o.\", \"Ensino M\\u00e9dio\", \"Ensino M\\u00e9dio\", \"P\\u00f3s-gradua\\u00e7\\u00e3o.\", \"Ensino Fundamental: 1\\u00ba ao 5\\u00ba ano (1\\u00aa a 4\\u00aa s\\u00e9rie).\", \"Ensino M\\u00e9dio\", \"Ensino M\\u00e9dio\", \"Ensino M\\u00e9dio\", \"Ensino M\\u00e9dio\", \"Ensino Superior - Gradua\\u00e7\\u00e3o.\", \"Nenhuma\", \"Ensino Fundamental: 1\\u00ba ao 5\\u00ba ano (1\\u00aa a 4\\u00aa s\\u00e9rie).\", \"Ensino M\\u00e9dio\", \"Ensino Superior - Gradua\\u00e7\\u00e3o.\", \"Ensino Fundamental: 1\\u00ba ao 5\\u00ba ano (1\\u00aa a 4\\u00aa s\\u00e9rie).\", \"Ensino Fundamental: 1\\u00ba ao 5\\u00ba ano (1\\u00aa a 4\\u00aa s\\u00e9rie).\", \"Ensino M\\u00e9dio\", \"Nenhuma\", \"Ensino M\\u00e9dio\", \"Ensino M\\u00e9dio\", \"Ensino Superior - Gradua\\u00e7\\u00e3o.\", \"Ensino Fundamental: 6\\u00ba ao 9\\u00ba ano (5\\u00aa a 8\\u00aa s\\u00e9rie).\", \"Ensino M\\u00e9dio\", \"Ensino Fundamental: 1\\u00ba ao 5\\u00ba ano (1\\u00aa a 4\\u00aa s\\u00e9rie).\", \"Ensino M\\u00e9dio\", \"Ensino M\\u00e9dio\", \"Ensino Superior - Gradua\\u00e7\\u00e3o.\", \"Ensino M\\u00e9dio\", \"Ensino Fundamental: 1\\u00ba ao 5\\u00ba ano (1\\u00aa a 4\\u00aa s\\u00e9rie).\", \"Ensino M\\u00e9dio\", \"Ensino Fundamental: 6\\u00ba ao 9\\u00ba ano (5\\u00aa a 8\\u00aa s\\u00e9rie).\", \"Ensino Fundamental: 6\\u00ba ao 9\\u00ba ano (5\\u00aa a 8\\u00aa s\\u00e9rie).\", \"Ensino Fundamental: 6\\u00ba ao 9\\u00ba ano (5\\u00aa a 8\\u00aa s\\u00e9rie).\", \"Ensino Fundamental: 1\\u00ba ao 5\\u00ba ano (1\\u00aa a 4\\u00aa s\\u00e9rie).\", \"Ensino M\\u00e9dio\", \"Ensino M\\u00e9dio\", \"Ensino M\\u00e9dio\", \"Ensino M\\u00e9dio\", \"Nenhuma\", \"Ensino Fundamental: 1\\u00ba ao 5\\u00ba ano (1\\u00aa a 4\\u00aa s\\u00e9rie).\", \"Ensino M\\u00e9dio\", \"Ensino Superior - Gradua\\u00e7\\u00e3o.\", \"Ensino Fundamental: 6\\u00ba ao 9\\u00ba ano (5\\u00aa a 8\\u00aa s\\u00e9rie).\", \"Ensino M\\u00e9dio\", \"Ensino Superior - Gradua\\u00e7\\u00e3o.\", \"Ensino Fundamental: 1\\u00ba ao 5\\u00ba ano (1\\u00aa a 4\\u00aa s\\u00e9rie).\", \"Nenhuma\", \"Ensino Fundamental: 1\\u00ba ao 5\\u00ba ano (1\\u00aa a 4\\u00aa s\\u00e9rie).\", \"Ensino Fundamental: 6\\u00ba ao 9\\u00ba ano (5\\u00aa a 8\\u00aa s\\u00e9rie).\", \"Ensino Fundamental: 6\\u00ba ao 9\\u00ba ano (5\\u00aa a 8\\u00aa s\\u00e9rie).\", \"Ensino Superior - Gradua\\u00e7\\u00e3o.\", \"Ensino Fundamental: 1\\u00ba ao 5\\u00ba ano (1\\u00aa a 4\\u00aa s\\u00e9rie).\", \"Ensino Fundamental: 6\\u00ba ao 9\\u00ba ano (5\\u00aa a 8\\u00aa s\\u00e9rie).\", \"Ensino M\\u00e9dio\", \"Ensino M\\u00e9dio\", \"Ensino M\\u00e9dio\", \"Ensino Fundamental: 1\\u00ba ao 5\\u00ba ano (1\\u00aa a 4\\u00aa s\\u00e9rie).\", \"Ensino Superior - Gradua\\u00e7\\u00e3o.\", \"Ensino Fundamental: 6\\u00ba ao 9\\u00ba ano (5\\u00aa a 8\\u00aa s\\u00e9rie).\", \"Ensino M\\u00e9dio\", \"Ensino Fundamental: 1\\u00ba ao 5\\u00ba ano (1\\u00aa a 4\\u00aa s\\u00e9rie).\", \"Ensino Superior - Gradua\\u00e7\\u00e3o.\", \"Ensino Fundamental: 1\\u00ba ao 5\\u00ba ano (1\\u00aa a 4\\u00aa s\\u00e9rie).\", \"Nenhuma\", \"Ensino Fundamental: 1\\u00ba ao 5\\u00ba ano (1\\u00aa a 4\\u00aa s\\u00e9rie).\", \"Ensino M\\u00e9dio\", \"Ensino Superior - Gradua\\u00e7\\u00e3o.\", \"Ensino Superior - Gradua\\u00e7\\u00e3o.\", \"Ensino Superior - Gradua\\u00e7\\u00e3o.\", \"Ensino Superior - Gradua\\u00e7\\u00e3o.\", \"Ensino M\\u00e9dio\", \"Nenhuma\", \"Ensino Superior - Gradua\\u00e7\\u00e3o.\", \"Ensino M\\u00e9dio\", \"Ensino M\\u00e9dio\", \"Ensino Fundamental: 6\\u00ba ao 9\\u00ba ano (5\\u00aa a 8\\u00aa s\\u00e9rie).\", \"Ensino Fundamental: 1\\u00ba ao 5\\u00ba ano (1\\u00aa a 4\\u00aa s\\u00e9rie).\", \"Ensino Superior - Gradua\\u00e7\\u00e3o.\", \"Ensino Fundamental: 6\\u00ba ao 9\\u00ba ano (5\\u00aa a 8\\u00aa s\\u00e9rie).\", \"Ensino M\\u00e9dio\", \"Ensino Fundamental: 1\\u00ba ao 5\\u00ba ano (1\\u00aa a 4\\u00aa s\\u00e9rie).\", \"Nenhuma\", \"Ensino M\\u00e9dio\", \"Ensino M\\u00e9dio\", \"Ensino Superior - Gradua\\u00e7\\u00e3o.\", \"Ensino M\\u00e9dio\", \"Ensino Superior - Gradua\\u00e7\\u00e3o.\", \"Ensino Fundamental: 6\\u00ba ao 9\\u00ba ano (5\\u00aa a 8\\u00aa s\\u00e9rie).\", \"Ensino Superior - Gradua\\u00e7\\u00e3o.\", \"Ensino Fundamental: 6\\u00ba ao 9\\u00ba ano (5\\u00aa a 8\\u00aa s\\u00e9rie).\", \"Ensino Fundamental: 1\\u00ba ao 5\\u00ba ano (1\\u00aa a 4\\u00aa s\\u00e9rie).\", \"Ensino M\\u00e9dio\", \"Ensino M\\u00e9dio\", \"Ensino M\\u00e9dio\", \"Ensino Fundamental: 1\\u00ba ao 5\\u00ba ano (1\\u00aa a 4\\u00aa s\\u00e9rie).\", \"Ensino Fundamental: 1\\u00ba ao 5\\u00ba ano (1\\u00aa a 4\\u00aa s\\u00e9rie).\", \"Ensino Fundamental: 1\\u00ba ao 5\\u00ba ano (1\\u00aa a 4\\u00aa s\\u00e9rie).\", \"Ensino Fundamental: 1\\u00ba ao 5\\u00ba ano (1\\u00aa a 4\\u00aa s\\u00e9rie).\", \"Ensino M\\u00e9dio\", \"Ensino M\\u00e9dio\", \"Ensino Fundamental: 1\\u00ba ao 5\\u00ba ano (1\\u00aa a 4\\u00aa s\\u00e9rie).\", \"Ensino Fundamental: 6\\u00ba ao 9\\u00ba ano (5\\u00aa a 8\\u00aa s\\u00e9rie).\", \"Ensino M\\u00e9dio\", \"Ensino Fundamental: 1\\u00ba ao 5\\u00ba ano (1\\u00aa a 4\\u00aa s\\u00e9rie).\", \"Ensino Fundamental: 1\\u00ba ao 5\\u00ba ano (1\\u00aa a 4\\u00aa s\\u00e9rie).\", \"Ensino Superior - Gradua\\u00e7\\u00e3o.\", \"Nenhuma\", \"Ensino Fundamental: 1\\u00ba ao 5\\u00ba ano (1\\u00aa a 4\\u00aa s\\u00e9rie).\", \"Ensino Fundamental: 1\\u00ba ao 5\\u00ba ano (1\\u00aa a 4\\u00aa s\\u00e9rie).\", \"Ensino M\\u00e9dio\", \"Ensino M\\u00e9dio\", \"Nenhuma\", \"Ensino Fundamental: 1\\u00ba ao 5\\u00ba ano (1\\u00aa a 4\\u00aa s\\u00e9rie).\", \"Ensino M\\u00e9dio\", \"Ensino M\\u00e9dio\", \"Ensino Fundamental: 1\\u00ba ao 5\\u00ba ano (1\\u00aa a 4\\u00aa s\\u00e9rie).\", \"Ensino M\\u00e9dio\", \"Ensino Fundamental: 6\\u00ba ao 9\\u00ba ano (5\\u00aa a 8\\u00aa s\\u00e9rie).\", \"Ensino Superior - Gradua\\u00e7\\u00e3o.\", \"Ensino M\\u00e9dio\", \"Ensino M\\u00e9dio\", \"Ensino Fundamental: 1\\u00ba ao 5\\u00ba ano (1\\u00aa a 4\\u00aa s\\u00e9rie).\", \"Ensino Fundamental: 6\\u00ba ao 9\\u00ba ano (5\\u00aa a 8\\u00aa s\\u00e9rie).\", \"Nenhuma\", \"Ensino Fundamental: 6\\u00ba ao 9\\u00ba ano (5\\u00aa a 8\\u00aa s\\u00e9rie).\", \"Ensino M\\u00e9dio\", \"Ensino M\\u00e9dio\", \"Ensino Fundamental: 1\\u00ba ao 5\\u00ba ano (1\\u00aa a 4\\u00aa s\\u00e9rie).\", \"Ensino M\\u00e9dio\", \"Ensino M\\u00e9dio\", \"Ensino Fundamental: 1\\u00ba ao 5\\u00ba ano (1\\u00aa a 4\\u00aa s\\u00e9rie).\", \"Ensino Fundamental: 1\\u00ba ao 5\\u00ba ano (1\\u00aa a 4\\u00aa s\\u00e9rie).\", \"Nenhuma\", \"Ensino Fundamental: 1\\u00ba ao 5\\u00ba ano (1\\u00aa a 4\\u00aa s\\u00e9rie).\", \"Ensino Fundamental: 1\\u00ba ao 5\\u00ba ano (1\\u00aa a 4\\u00aa s\\u00e9rie).\", \"Nenhuma\", \"Ensino Superior - Gradua\\u00e7\\u00e3o.\", \"Nenhuma\", \"Ensino Fundamental: 6\\u00ba ao 9\\u00ba ano (5\\u00aa a 8\\u00aa s\\u00e9rie).\", \"Ensino M\\u00e9dio\", \"Ensino Fundamental: 1\\u00ba ao 5\\u00ba ano (1\\u00aa a 4\\u00aa s\\u00e9rie).\", \"Ensino Fundamental: 1\\u00ba ao 5\\u00ba ano (1\\u00aa a 4\\u00aa s\\u00e9rie).\", \"Ensino M\\u00e9dio\", \"Ensino Fundamental: 6\\u00ba ao 9\\u00ba ano (5\\u00aa a 8\\u00aa s\\u00e9rie).\", \"Ensino Superior - Gradua\\u00e7\\u00e3o.\", \"Ensino Fundamental: 6\\u00ba ao 9\\u00ba ano (5\\u00aa a 8\\u00aa s\\u00e9rie).\", \"Ensino Fundamental: 6\\u00ba ao 9\\u00ba ano (5\\u00aa a 8\\u00aa s\\u00e9rie).\", \"Ensino M\\u00e9dio\", \"Ensino Superior - Gradua\\u00e7\\u00e3o.\", \"Ensino Fundamental: 1\\u00ba ao 5\\u00ba ano (1\\u00aa a 4\\u00aa s\\u00e9rie).\", \"Ensino Superior - Gradua\\u00e7\\u00e3o.\", \"Ensino M\\u00e9dio\", \"Ensino Fundamental: 6\\u00ba ao 9\\u00ba ano (5\\u00aa a 8\\u00aa s\\u00e9rie).\", \"Nenhuma\", \"P\\u00f3s-gradua\\u00e7\\u00e3o.\", \"Ensino M\\u00e9dio\", \"Ensino M\\u00e9dio\", \"Ensino M\\u00e9dio\", \"P\\u00f3s-gradua\\u00e7\\u00e3o.\", \"Ensino Fundamental: 1\\u00ba ao 5\\u00ba ano (1\\u00aa a 4\\u00aa s\\u00e9rie).\", \"Ensino Superior - Gradua\\u00e7\\u00e3o.\", \"Ensino M\\u00e9dio\", \"Ensino Superior - Gradua\\u00e7\\u00e3o.\", \"P\\u00f3s-gradua\\u00e7\\u00e3o.\", \"Ensino Fundamental: 1\\u00ba ao 5\\u00ba ano (1\\u00aa a 4\\u00aa s\\u00e9rie).\", \"Nenhuma\", \"Ensino Superior - Gradua\\u00e7\\u00e3o.\", \"Ensino M\\u00e9dio\", \"Ensino M\\u00e9dio\", \"Ensino Superior - Gradua\\u00e7\\u00e3o.\", \"Ensino Fundamental: 1\\u00ba ao 5\\u00ba ano (1\\u00aa a 4\\u00aa s\\u00e9rie).\", \"Ensino M\\u00e9dio\", \"Ensino Fundamental: 6\\u00ba ao 9\\u00ba ano (5\\u00aa a 8\\u00aa s\\u00e9rie).\", \"Ensino Superior - Gradua\\u00e7\\u00e3o.\", \"Ensino M\\u00e9dio\", \"Ensino Fundamental: 1\\u00ba ao 5\\u00ba ano (1\\u00aa a 4\\u00aa s\\u00e9rie).\", \"Ensino M\\u00e9dio\", \"Ensino M\\u00e9dio\", \"Nenhuma\", \"Ensino M\\u00e9dio\", \"Ensino M\\u00e9dio\", \"Ensino M\\u00e9dio\", \"Ensino M\\u00e9dio\", \"P\\u00f3s-gradua\\u00e7\\u00e3o.\", \"Ensino Fundamental: 1\\u00ba ao 5\\u00ba ano (1\\u00aa a 4\\u00aa s\\u00e9rie).\", \"Ensino M\\u00e9dio\", \"Ensino M\\u00e9dio\", \"Ensino Fundamental: 6\\u00ba ao 9\\u00ba ano (5\\u00aa a 8\\u00aa s\\u00e9rie).\", \"Ensino M\\u00e9dio\", \"Ensino Fundamental: 1\\u00ba ao 5\\u00ba ano (1\\u00aa a 4\\u00aa s\\u00e9rie).\", \"Ensino Superior - Gradua\\u00e7\\u00e3o.\", \"Ensino Fundamental: 1\\u00ba ao 5\\u00ba ano (1\\u00aa a 4\\u00aa s\\u00e9rie).\", \"Ensino M\\u00e9dio\", \"Ensino Fundamental: 1\\u00ba ao 5\\u00ba ano (1\\u00aa a 4\\u00aa s\\u00e9rie).\", \"Ensino Superior - Gradua\\u00e7\\u00e3o.\", \"Ensino Fundamental: 6\\u00ba ao 9\\u00ba ano (5\\u00aa a 8\\u00aa s\\u00e9rie).\", \"Ensino Fundamental: 1\\u00ba ao 5\\u00ba ano (1\\u00aa a 4\\u00aa s\\u00e9rie).\", \"Ensino Superior - Gradua\\u00e7\\u00e3o.\", \"Ensino Superior - Gradua\\u00e7\\u00e3o.\", \"Ensino M\\u00e9dio\", \"Ensino M\\u00e9dio\", \"Ensino M\\u00e9dio\", \"Nenhuma\", \"Ensino M\\u00e9dio\", \"Ensino M\\u00e9dio\", \"Ensino M\\u00e9dio\", \"Ensino M\\u00e9dio\", \"Ensino Fundamental: 1\\u00ba ao 5\\u00ba ano (1\\u00aa a 4\\u00aa s\\u00e9rie).\", \"Ensino Fundamental: 1\\u00ba ao 5\\u00ba ano (1\\u00aa a 4\\u00aa s\\u00e9rie).\", \"Ensino M\\u00e9dio\", \"Ensino M\\u00e9dio\", \"P\\u00f3s-gradua\\u00e7\\u00e3o.\", \"Ensino Superior - Gradua\\u00e7\\u00e3o.\", \"Ensino M\\u00e9dio\", \"Ensino M\\u00e9dio\", \"Ensino M\\u00e9dio\", \"Ensino Superior - Gradua\\u00e7\\u00e3o.\", \"Ensino M\\u00e9dio\", \"Nenhuma\", \"Ensino Fundamental: 6\\u00ba ao 9\\u00ba ano (5\\u00aa a 8\\u00aa s\\u00e9rie).\", \"Nenhuma\", \"Ensino Fundamental: 1\\u00ba ao 5\\u00ba ano (1\\u00aa a 4\\u00aa s\\u00e9rie).\", \"Ensino Fundamental: 1\\u00ba ao 5\\u00ba ano (1\\u00aa a 4\\u00aa s\\u00e9rie).\", \"Ensino M\\u00e9dio\", \"Nenhuma\", \"Ensino Fundamental: 1\\u00ba ao 5\\u00ba ano (1\\u00aa a 4\\u00aa s\\u00e9rie).\", \"Ensino Fundamental: 6\\u00ba ao 9\\u00ba ano (5\\u00aa a 8\\u00aa s\\u00e9rie).\", \"Nenhuma\", \"Nenhuma\", \"Ensino Fundamental: 1\\u00ba ao 5\\u00ba ano (1\\u00aa a 4\\u00aa s\\u00e9rie).\", \"Ensino Fundamental: 1\\u00ba ao 5\\u00ba ano (1\\u00aa a 4\\u00aa s\\u00e9rie).\", \"Ensino Fundamental: 6\\u00ba ao 9\\u00ba ano (5\\u00aa a 8\\u00aa s\\u00e9rie).\", \"Ensino M\\u00e9dio\", \"Ensino M\\u00e9dio\", \"Ensino Fundamental: 1\\u00ba ao 5\\u00ba ano (1\\u00aa a 4\\u00aa s\\u00e9rie).\", \"Ensino Fundamental: 1\\u00ba ao 5\\u00ba ano (1\\u00aa a 4\\u00aa s\\u00e9rie).\", \"Ensino M\\u00e9dio\", \"Ensino M\\u00e9dio\", \"Ensino M\\u00e9dio\", \"Ensino Fundamental: 1\\u00ba ao 5\\u00ba ano (1\\u00aa a 4\\u00aa s\\u00e9rie).\", \"Nenhuma\", \"Ensino Superior - Gradua\\u00e7\\u00e3o.\", \"Ensino Fundamental: 6\\u00ba ao 9\\u00ba ano (5\\u00aa a 8\\u00aa s\\u00e9rie).\", \"Ensino Fundamental: 1\\u00ba ao 5\\u00ba ano (1\\u00aa a 4\\u00aa s\\u00e9rie).\", \"Ensino Fundamental: 1\\u00ba ao 5\\u00ba ano (1\\u00aa a 4\\u00aa s\\u00e9rie).\", \"Ensino Fundamental: 1\\u00ba ao 5\\u00ba ano (1\\u00aa a 4\\u00aa s\\u00e9rie).\", \"Ensino Fundamental: 1\\u00ba ao 5\\u00ba ano (1\\u00aa a 4\\u00aa s\\u00e9rie).\", \"Ensino Superior - Gradua\\u00e7\\u00e3o.\", \"Ensino Fundamental: 1\\u00ba ao 5\\u00ba ano (1\\u00aa a 4\\u00aa s\\u00e9rie).\", \"Ensino M\\u00e9dio\", \"Nenhuma\", \"Ensino Fundamental: 1\\u00ba ao 5\\u00ba ano (1\\u00aa a 4\\u00aa s\\u00e9rie).\", \"Ensino Fundamental: 1\\u00ba ao 5\\u00ba ano (1\\u00aa a 4\\u00aa s\\u00e9rie).\", \"Ensino M\\u00e9dio\", \"Nenhuma\", \"Ensino Fundamental: 1\\u00ba ao 5\\u00ba ano (1\\u00aa a 4\\u00aa s\\u00e9rie).\", \"Ensino M\\u00e9dio\", \"P\\u00f3s-gradua\\u00e7\\u00e3o.\", \"Ensino Fundamental: 1\\u00ba ao 5\\u00ba ano (1\\u00aa a 4\\u00aa s\\u00e9rie).\", \"Ensino Fundamental: 6\\u00ba ao 9\\u00ba ano (5\\u00aa a 8\\u00aa s\\u00e9rie).\", \"Ensino Fundamental: 1\\u00ba ao 5\\u00ba ano (1\\u00aa a 4\\u00aa s\\u00e9rie).\", \"Ensino Fundamental: 1\\u00ba ao 5\\u00ba ano (1\\u00aa a 4\\u00aa s\\u00e9rie).\", \"Nenhuma\", \"Ensino Superior - Gradua\\u00e7\\u00e3o.\", \"Ensino Fundamental: 6\\u00ba ao 9\\u00ba ano (5\\u00aa a 8\\u00aa s\\u00e9rie).\", \"Nenhuma\", \"Ensino M\\u00e9dio\", \"Ensino M\\u00e9dio\", \"Ensino Fundamental: 6\\u00ba ao 9\\u00ba ano (5\\u00aa a 8\\u00aa s\\u00e9rie).\", \"Ensino M\\u00e9dio\", \"Nenhuma\", \"Ensino M\\u00e9dio\", \"Ensino Fundamental: 6\\u00ba ao 9\\u00ba ano (5\\u00aa a 8\\u00aa s\\u00e9rie).\", \"Ensino Fundamental: 6\\u00ba ao 9\\u00ba ano (5\\u00aa a 8\\u00aa s\\u00e9rie).\", \"Ensino Superior - Gradua\\u00e7\\u00e3o.\", \"Ensino Fundamental: 1\\u00ba ao 5\\u00ba ano (1\\u00aa a 4\\u00aa s\\u00e9rie).\", \"Ensino Fundamental: 1\\u00ba ao 5\\u00ba ano (1\\u00aa a 4\\u00aa s\\u00e9rie).\", \"Ensino M\\u00e9dio\", \"Ensino Fundamental: 1\\u00ba ao 5\\u00ba ano (1\\u00aa a 4\\u00aa s\\u00e9rie).\", \"Ensino M\\u00e9dio\", \"Ensino M\\u00e9dio\", \"Ensino Fundamental: 6\\u00ba ao 9\\u00ba ano (5\\u00aa a 8\\u00aa s\\u00e9rie).\", \"Ensino M\\u00e9dio\", \"Ensino M\\u00e9dio\", \"Ensino M\\u00e9dio\", \"Ensino Fundamental: 6\\u00ba ao 9\\u00ba ano (5\\u00aa a 8\\u00aa s\\u00e9rie).\", \"Ensino Fundamental: 1\\u00ba ao 5\\u00ba ano (1\\u00aa a 4\\u00aa s\\u00e9rie).\", \"Ensino M\\u00e9dio\", \"Ensino Fundamental: 6\\u00ba ao 9\\u00ba ano (5\\u00aa a 8\\u00aa s\\u00e9rie).\", \"Ensino M\\u00e9dio\", \"Ensino M\\u00e9dio\", \"Ensino M\\u00e9dio\", \"Nenhuma\", \"Nenhuma\", \"Ensino Fundamental: 1\\u00ba ao 5\\u00ba ano (1\\u00aa a 4\\u00aa s\\u00e9rie).\", \"Ensino Fundamental: 6\\u00ba ao 9\\u00ba ano (5\\u00aa a 8\\u00aa s\\u00e9rie).\", \"Ensino Superior - Gradua\\u00e7\\u00e3o.\", \"Ensino M\\u00e9dio\", \"Ensino M\\u00e9dio\", \"Ensino Fundamental: 6\\u00ba ao 9\\u00ba ano (5\\u00aa a 8\\u00aa s\\u00e9rie).\", \"Ensino M\\u00e9dio\", \"Ensino Fundamental: 1\\u00ba ao 5\\u00ba ano (1\\u00aa a 4\\u00aa s\\u00e9rie).\", \"Ensino Fundamental: 1\\u00ba ao 5\\u00ba ano (1\\u00aa a 4\\u00aa s\\u00e9rie).\", \"Nenhuma\", \"Ensino Fundamental: 6\\u00ba ao 9\\u00ba ano (5\\u00aa a 8\\u00aa s\\u00e9rie).\", \"Ensino Fundamental: 6\\u00ba ao 9\\u00ba ano (5\\u00aa a 8\\u00aa s\\u00e9rie).\", \"Ensino M\\u00e9dio\", \"Ensino Superior - Gradua\\u00e7\\u00e3o.\", \"Ensino Fundamental: 1\\u00ba ao 5\\u00ba ano (1\\u00aa a 4\\u00aa s\\u00e9rie).\"], \"x0\": \" \", \"xaxis\": \"x\", \"y\": [77.8, 39.7, 46.0, 70.5, 56.7, 50.9, 44.4, 62.9, 38.3, 68.5, 48.4, 50.1, 28.0, 43.2, 41.9, 54.1, 45.4, 77.0, 69.6, 37.8, 42.8, 73.6, 46.2, 43.8, 34.5, 53.4, 79.7, 60.2, 44.8, 35.2, 58.3, 75.7, 60.8, 45.0, 70.9, 39.4, 58.6, 47.7, 62.6, 47.5, 57.7, 56.1, 62.0, 29.4, 55.9, 58.3, 53.8, 47.0, 49.8, 38.2, 45.5, 54.2, 68.8, 38.2, 73.3, 53.1, 62.6, 41.3, 41.9, 22.9, 67.4, 60.8, 62.7, 52.7, 60.1, 47.7, 39.9, 47.2, 39.0, 51.8, 60.0, 47.6, 34.0, 55.0, 54.4, 61.5, 55.4, 72.3, 60.9, 38.6, 57.0, 31.6, 59.2, 64.7, 30.3, 36.2, 43.9, 46.7, 36.7, 51.3, 37.5, 49.0, 51.2, 51.0, 63.3, 27.7, 42.8, 55.7, 54.9, 43.6, 56.4, 47.6, 55.8, 67.8, 55.8, 47.8, 45.5, 37.3, 47.1, 45.2, 59.6, 32.5, 52.4, 24.1, 39.3, 51.6, 54.0, 57.0, 64.1, 42.3, 73.9, 65.1, 32.9, 52.9, 45.7, 51.4, 42.1, 34.9, 47.5, 52.6, 49.2, 48.6, 48.8, 45.3, 45.1, 31.1, 48.7, 58.2, 28.0, 68.4, 28.8, 33.2, 34.1, 35.0, 28.5, 45.4, 41.9, 27.6, 57.5, 18.5, 35.9, 65.5, 56.5, 43.9, 25.6, 0.0, 38.8, 41.9, 60.9, 38.4, 41.3, 41.6, 51.4, 57.4, 37.2, 44.2, 48.7, 34.8, 38.7, 61.9, 40.4, 36.4, 63.3, 17.5, 35.0, 42.2, 40.6, 44.2, 56.4, 39.5, 24.6, 46.9, 49.4, 47.5, 53.9, 46.4, 28.2, 33.4, 35.7, 51.1, 39.5, 26.2, 48.8, 44.7, 39.1, 39.6, 67.7, 30.6, 36.2, 43.0, 30.2, 40.8, 39.1, 25.1, 32.6, 23.1, 33.5, 43.1, 23.0, 30.5, 32.6, 18.8, 42.3, 30.0, 49.2, 35.2, 59.1, 21.9, 49.3, 46.7, 25.9, 26.7, 39.7, 37.0, 17.5, 40.4, 35.4, 31.3, 45.6, 28.1, 20.6, 25.5, 45.4, 32.1, 24.5, 32.0, 56.1, 50.0, 22.5, 20.9, 25.3, 34.2, 31.4, 33.2, 53.5, 39.2, 56.4, 38.8, 68.6, 74.1, 21.2, 22.2, 40.0, 20.7, 51.2, 24.6, 34.1, 63.7, 21.3, 69.9, 31.5, 45.7, 42.1, 37.3, 29.9, 31.3, 36.4, 31.1, 40.3, 59.2, 46.7, 27.9, 28.8, 36.0, 31.6, 32.1, 66.7, 42.7, 43.4, 19.9, 54.3, 45.0, 31.3, 37.7, 16.6, 49.7, 27.7, 35.3, 23.2, 50.6, 32.7, 0.0, 40.3, 51.8, 33.0, 39.2, 12.9, 18.9, 36.3, 47.1, 54.6, 46.9, 45.9, 21.3, 48.9, 45.7, 43.6, 57.5, 37.2, 63.3, 35.3, 26.2, 42.5, 29.9, 16.7, 35.0, 27.4, 55.8, 25.1, 62.5, 26.6, 36.2, 17.3, 19.5, 38.2, 38.3, 37.0, 28.1, 34.0, 68.9, 19.7, 35.5, 15.7, 29.1, 24.7, 55.3, 26.2, 38.9, 23.2, 20.9, 34.7, 48.1, 23.2, 28.6, 51.9, 44.5, 40.0, 16.3, 34.5, 40.2, 49.1, 31.3, 44.2, 39.2, 25.6, 37.7, 38.7, 52.9, 62.3, 39.3, 40.4, 49.6, 45.4, 52.9, 43.0, 45.6, 40.1, 34.0, 32.6, 58.4, 30.8, 35.5, 23.4, 37.4, 52.4, 41.8, 32.3, 33.7, 16.9, 46.9, 28.7, 36.9, 61.5, 34.8, 33.6, 58.0, 34.5, 19.5, 23.7, 33.3, 39.5, 57.3, 29.8, 30.3, 33.8, 45.6, 51.3, 37.7, 38.6, 52.5, 26.6, 46.2, 25.9, 58.8, 39.7, 28.8, 36.3, 36.9, 41.0, 48.5, 36.4, 38.0, 32.7, 28.0, 49.7, 31.9, 61.6, 29.6, 12.5, 31.3, 13.5, 49.4, 39.9, 32.4, 36.6, 37.2, 28.1, 34.6, 15.7, 53.0, 43.2, 49.7, 68.1, 52.4, 54.1, 49.1, 54.7, 55.0, 63.4, 43.5, 45.5, 40.5, 51.7, 52.2, 60.3, 58.8, 49.9, 49.3, 51.9, 58.9, 59.7, 52.1, 52.6, 49.0, 67.7, 57.9, 48.0, 61.7, 34.4, 33.1, 43.0, 36.3, 43.3, 16.0, 26.1, 18.7, 34.9, 31.6, 41.1, 46.5, 33.5, 41.8, 21.4, 33.1, 20.1, 39.5, 43.8, 26.6, 26.2, 28.8, 42.3, 39.5, 38.3, 35.1, 54.5, 29.9, 25.2, 45.6, 44.7, 25.4, 35.1, 50.8, 60.0, 58.6, 37.4, 41.6, 52.9, 16.8, 33.5, 38.1, 30.1, 38.0, 30.9, 17.4, 22.0, 20.6, 37.9, 49.5, 29.7, 48.8, 15.6, 52.9, 20.4, 45.1, 41.8, 30.9, 21.6, 58.3, 21.0, 36.8, 29.5, 49.5, 65.0, 40.2, 54.8, 42.5, 61.1, 42.4, 59.1, 23.9, 43.8, 38.4, 30.6, 54.8, 37.2, 33.4, 52.1, 48.0, 47.0, 49.7, 58.8, 37.1, 38.2, 39.8, 12.6, 47.1, 42.4, 18.6, 51.0, 35.8, 39.5, 29.4, 19.0, 29.1, 34.8, 21.6, 23.6, 25.9, 30.9, 27.6, 26.3, 36.7, 24.2, 26.0, 36.5, 30.1, 26.2, 20.1, 20.9, 34.9, 25.6, 21.6, 24.1, 47.7, 29.7, 23.2, 30.9, 23.2, 20.5, 26.5, 29.8, 30.0, 42.4, 29.3, 62.2, 14.7, 39.5, 23.8, 20.3, 31.9, 39.8, 25.9, 46.3, 38.1, 33.5, 29.4, 36.3, 29.3, 35.2, 32.0, 44.3, 21.1, 25.9, 41.5, 45.7, 28.2, 30.1, 30.1, 36.8, 54.7, 31.3, 36.2, 32.1, 54.7, 42.5, 19.5, 66.2, 25.7, 35.9, 32.4, 48.9, 26.6, 30.4, 37.3, 32.3, 35.0, 46.4, 42.1, 38.8, 50.6, 36.2, 22.5, 31.0, 34.6, 42.0, 47.2, 29.1, 39.4, 20.3, 40.4, 28.9, 19.8, 39.6, 52.4, 52.3, 45.9, 28.5, 27.9, 48.1, 24.9, 45.7, 33.0, 43.0, 47.0, 52.3, 50.1, 60.6, 66.5, 50.2, 51.7, 57.3, 39.4, 57.7, 57.7, 58.7, 59.3, 70.5, 42.7, 57.9, 55.9, 39.9, 30.2, 42.8, 40.1, 57.2, 48.2, 54.9, 65.5, 70.7, 65.0, 58.4, 57.9, 36.3, 60.3, 65.2, 51.1, 51.2, 45.5, 57.9, 51.7, 44.7, 49.6, 49.4, 53.0, 45.3, 42.7, 57.6, 38.5, 53.2, 51.8, 55.2, 45.2, 45.2, 54.0, 51.1, 43.9, 52.7, 33.0, 23.9, 32.3, 43.7, 39.5, 57.9, 58.8, 29.8, 47.4, 65.9, 48.0, 45.8, 46.6, 51.0, 37.1, 56.2, 34.5, 31.9, 48.9, 50.0, 45.7, 70.4, 63.4, 30.9, 48.8, 69.7, 57.0, 57.8, 39.6, 34.8, 24.2, 35.4, 52.1, 61.1, 53.3, 40.2, 69.8, 43.3, 56.4, 54.3, 42.6, 36.9, 43.2, 53.2, 37.7, 36.5, 33.8, 41.8, 48.3, 57.6, 54.1, 50.0, 68.4, 17.8, 30.1, 15.4, 25.4, 20.5, 29.5, 40.3, 24.3, 28.6, 23.8, 30.3, 22.8, 57.2, 32.7, 36.4, 18.7, 22.0, 42.2, 29.0, 44.9, 34.0, 40.3, 42.8, 46.6, 33.7, 35.2, 31.1, 37.7, 43.0, 37.5, 15.8, 31.8, 32.1, 38.8, 39.9, 23.3, 33.6, 15.0, 34.2, 27.9, 33.8, 30.0, 19.9, 40.6, 28.8, 24.2, 62.0, 42.0, 55.0, 21.6, 49.9, 10.0, 36.6, 28.8, 55.5, 27.6, 20.9, 17.6, 27.0, 43.9, 29.7, 41.5, 13.2, 42.0], \"y0\": \" \", \"yaxis\": \"y\"}],                        {\"boxmode\": \"group\", \"legend\": {\"tracegroupgap\": 0}, \"margin\": {\"t\": 60}, \"template\": {\"data\": {\"bar\": [{\"error_x\": {\"color\": \"#2a3f5f\"}, \"error_y\": {\"color\": \"#2a3f5f\"}, \"marker\": {\"line\": {\"color\": \"#E5ECF6\", \"width\": 0.5}}, \"type\": \"bar\"}], \"barpolar\": [{\"marker\": {\"line\": {\"color\": \"#E5ECF6\", \"width\": 0.5}}, \"type\": \"barpolar\"}], \"carpet\": [{\"aaxis\": {\"endlinecolor\": \"#2a3f5f\", \"gridcolor\": \"white\", \"linecolor\": \"white\", \"minorgridcolor\": \"white\", \"startlinecolor\": \"#2a3f5f\"}, \"baxis\": {\"endlinecolor\": \"#2a3f5f\", \"gridcolor\": \"white\", \"linecolor\": \"white\", \"minorgridcolor\": \"white\", \"startlinecolor\": \"#2a3f5f\"}, \"type\": \"carpet\"}], \"choropleth\": [{\"colorbar\": {\"outlinewidth\": 0, \"ticks\": \"\"}, \"type\": \"choropleth\"}], \"contour\": [{\"colorbar\": {\"outlinewidth\": 0, \"ticks\": \"\"}, \"colorscale\": [[0.0, \"#0d0887\"], [0.1111111111111111, \"#46039f\"], [0.2222222222222222, \"#7201a8\"], [0.3333333333333333, \"#9c179e\"], [0.4444444444444444, \"#bd3786\"], [0.5555555555555556, \"#d8576b\"], [0.6666666666666666, \"#ed7953\"], [0.7777777777777778, \"#fb9f3a\"], [0.8888888888888888, \"#fdca26\"], [1.0, \"#f0f921\"]], \"type\": \"contour\"}], \"contourcarpet\": [{\"colorbar\": {\"outlinewidth\": 0, \"ticks\": \"\"}, \"type\": \"contourcarpet\"}], \"heatmap\": [{\"colorbar\": {\"outlinewidth\": 0, \"ticks\": \"\"}, \"colorscale\": [[0.0, \"#0d0887\"], [0.1111111111111111, \"#46039f\"], [0.2222222222222222, \"#7201a8\"], [0.3333333333333333, \"#9c179e\"], [0.4444444444444444, \"#bd3786\"], [0.5555555555555556, \"#d8576b\"], [0.6666666666666666, \"#ed7953\"], [0.7777777777777778, \"#fb9f3a\"], [0.8888888888888888, \"#fdca26\"], [1.0, \"#f0f921\"]], \"type\": \"heatmap\"}], \"heatmapgl\": [{\"colorbar\": {\"outlinewidth\": 0, \"ticks\": \"\"}, \"colorscale\": [[0.0, \"#0d0887\"], [0.1111111111111111, \"#46039f\"], [0.2222222222222222, \"#7201a8\"], [0.3333333333333333, \"#9c179e\"], [0.4444444444444444, \"#bd3786\"], [0.5555555555555556, \"#d8576b\"], [0.6666666666666666, \"#ed7953\"], [0.7777777777777778, \"#fb9f3a\"], [0.8888888888888888, \"#fdca26\"], [1.0, \"#f0f921\"]], \"type\": \"heatmapgl\"}], \"histogram\": [{\"marker\": {\"colorbar\": {\"outlinewidth\": 0, \"ticks\": \"\"}}, \"type\": \"histogram\"}], \"histogram2d\": [{\"colorbar\": {\"outlinewidth\": 0, \"ticks\": \"\"}, \"colorscale\": [[0.0, \"#0d0887\"], [0.1111111111111111, \"#46039f\"], [0.2222222222222222, \"#7201a8\"], [0.3333333333333333, \"#9c179e\"], [0.4444444444444444, \"#bd3786\"], [0.5555555555555556, \"#d8576b\"], [0.6666666666666666, \"#ed7953\"], [0.7777777777777778, \"#fb9f3a\"], [0.8888888888888888, \"#fdca26\"], [1.0, \"#f0f921\"]], \"type\": \"histogram2d\"}], \"histogram2dcontour\": [{\"colorbar\": {\"outlinewidth\": 0, \"ticks\": \"\"}, \"colorscale\": [[0.0, \"#0d0887\"], [0.1111111111111111, \"#46039f\"], [0.2222222222222222, \"#7201a8\"], [0.3333333333333333, \"#9c179e\"], [0.4444444444444444, \"#bd3786\"], [0.5555555555555556, \"#d8576b\"], [0.6666666666666666, \"#ed7953\"], [0.7777777777777778, \"#fb9f3a\"], [0.8888888888888888, \"#fdca26\"], [1.0, \"#f0f921\"]], \"type\": \"histogram2dcontour\"}], \"mesh3d\": [{\"colorbar\": {\"outlinewidth\": 0, \"ticks\": \"\"}, \"type\": \"mesh3d\"}], \"parcoords\": [{\"line\": {\"colorbar\": {\"outlinewidth\": 0, \"ticks\": \"\"}}, \"type\": \"parcoords\"}], \"pie\": [{\"automargin\": true, \"type\": \"pie\"}], \"scatter\": [{\"marker\": {\"colorbar\": {\"outlinewidth\": 0, \"ticks\": \"\"}}, \"type\": \"scatter\"}], \"scatter3d\": [{\"line\": {\"colorbar\": {\"outlinewidth\": 0, \"ticks\": \"\"}}, \"marker\": {\"colorbar\": {\"outlinewidth\": 0, \"ticks\": \"\"}}, \"type\": \"scatter3d\"}], \"scattercarpet\": [{\"marker\": {\"colorbar\": {\"outlinewidth\": 0, \"ticks\": \"\"}}, \"type\": \"scattercarpet\"}], \"scattergeo\": [{\"marker\": {\"colorbar\": {\"outlinewidth\": 0, \"ticks\": \"\"}}, \"type\": \"scattergeo\"}], \"scattergl\": [{\"marker\": {\"colorbar\": {\"outlinewidth\": 0, \"ticks\": \"\"}}, \"type\": \"scattergl\"}], \"scattermapbox\": [{\"marker\": {\"colorbar\": {\"outlinewidth\": 0, \"ticks\": \"\"}}, \"type\": \"scattermapbox\"}], \"scatterpolar\": [{\"marker\": {\"colorbar\": {\"outlinewidth\": 0, \"ticks\": \"\"}}, \"type\": \"scatterpolar\"}], \"scatterpolargl\": [{\"marker\": {\"colorbar\": {\"outlinewidth\": 0, \"ticks\": \"\"}}, \"type\": \"scatterpolargl\"}], \"scatterternary\": [{\"marker\": {\"colorbar\": {\"outlinewidth\": 0, \"ticks\": \"\"}}, \"type\": \"scatterternary\"}], \"surface\": [{\"colorbar\": {\"outlinewidth\": 0, \"ticks\": \"\"}, \"colorscale\": [[0.0, \"#0d0887\"], [0.1111111111111111, \"#46039f\"], [0.2222222222222222, \"#7201a8\"], [0.3333333333333333, \"#9c179e\"], [0.4444444444444444, \"#bd3786\"], [0.5555555555555556, \"#d8576b\"], [0.6666666666666666, \"#ed7953\"], [0.7777777777777778, \"#fb9f3a\"], [0.8888888888888888, \"#fdca26\"], [1.0, \"#f0f921\"]], \"type\": \"surface\"}], \"table\": [{\"cells\": {\"fill\": {\"color\": \"#EBF0F8\"}, \"line\": {\"color\": \"white\"}}, \"header\": {\"fill\": {\"color\": \"#C8D4E3\"}, \"line\": {\"color\": \"white\"}}, \"type\": \"table\"}]}, \"layout\": {\"annotationdefaults\": {\"arrowcolor\": \"#2a3f5f\", \"arrowhead\": 0, \"arrowwidth\": 1}, \"autotypenumbers\": \"strict\", \"coloraxis\": {\"colorbar\": {\"outlinewidth\": 0, \"ticks\": \"\"}}, \"colorscale\": {\"diverging\": [[0, \"#8e0152\"], [0.1, \"#c51b7d\"], [0.2, \"#de77ae\"], [0.3, \"#f1b6da\"], [0.4, \"#fde0ef\"], [0.5, \"#f7f7f7\"], [0.6, \"#e6f5d0\"], [0.7, \"#b8e186\"], [0.8, \"#7fbc41\"], [0.9, \"#4d9221\"], [1, \"#276419\"]], \"sequential\": [[0.0, \"#0d0887\"], [0.1111111111111111, \"#46039f\"], [0.2222222222222222, \"#7201a8\"], [0.3333333333333333, \"#9c179e\"], [0.4444444444444444, \"#bd3786\"], [0.5555555555555556, \"#d8576b\"], [0.6666666666666666, \"#ed7953\"], [0.7777777777777778, \"#fb9f3a\"], [0.8888888888888888, \"#fdca26\"], [1.0, \"#f0f921\"]], \"sequentialminus\": [[0.0, \"#0d0887\"], [0.1111111111111111, \"#46039f\"], [0.2222222222222222, \"#7201a8\"], [0.3333333333333333, \"#9c179e\"], [0.4444444444444444, \"#bd3786\"], [0.5555555555555556, \"#d8576b\"], [0.6666666666666666, \"#ed7953\"], [0.7777777777777778, \"#fb9f3a\"], [0.8888888888888888, \"#fdca26\"], [1.0, \"#f0f921\"]]}, \"colorway\": [\"#636efa\", \"#EF553B\", \"#00cc96\", \"#ab63fa\", \"#FFA15A\", \"#19d3f3\", \"#FF6692\", \"#B6E880\", \"#FF97FF\", \"#FECB52\"], \"font\": {\"color\": \"#2a3f5f\"}, \"geo\": {\"bgcolor\": \"white\", \"lakecolor\": \"white\", \"landcolor\": \"#E5ECF6\", \"showlakes\": true, \"showland\": true, \"subunitcolor\": \"white\"}, \"hoverlabel\": {\"align\": \"left\"}, \"hovermode\": \"closest\", \"mapbox\": {\"style\": \"light\"}, \"paper_bgcolor\": \"white\", \"plot_bgcolor\": \"#E5ECF6\", \"polar\": {\"angularaxis\": {\"gridcolor\": \"white\", \"linecolor\": \"white\", \"ticks\": \"\"}, \"bgcolor\": \"#E5ECF6\", \"radialaxis\": {\"gridcolor\": \"white\", \"linecolor\": \"white\", \"ticks\": \"\"}}, \"scene\": {\"xaxis\": {\"backgroundcolor\": \"#E5ECF6\", \"gridcolor\": \"white\", \"gridwidth\": 2, \"linecolor\": \"white\", \"showbackground\": true, \"ticks\": \"\", \"zerolinecolor\": \"white\"}, \"yaxis\": {\"backgroundcolor\": \"#E5ECF6\", \"gridcolor\": \"white\", \"gridwidth\": 2, \"linecolor\": \"white\", \"showbackground\": true, \"ticks\": \"\", \"zerolinecolor\": \"white\"}, \"zaxis\": {\"backgroundcolor\": \"#E5ECF6\", \"gridcolor\": \"white\", \"gridwidth\": 2, \"linecolor\": \"white\", \"showbackground\": true, \"ticks\": \"\", \"zerolinecolor\": \"white\"}}, \"shapedefaults\": {\"line\": {\"color\": \"#2a3f5f\"}}, \"ternary\": {\"aaxis\": {\"gridcolor\": \"white\", \"linecolor\": \"white\", \"ticks\": \"\"}, \"baxis\": {\"gridcolor\": \"white\", \"linecolor\": \"white\", \"ticks\": \"\"}, \"bgcolor\": \"#E5ECF6\", \"caxis\": {\"gridcolor\": \"white\", \"linecolor\": \"white\", \"ticks\": \"\"}}, \"title\": {\"x\": 0.05}, \"xaxis\": {\"automargin\": true, \"gridcolor\": \"white\", \"linecolor\": \"white\", \"ticks\": \"\", \"title\": {\"standoff\": 15}, \"zerolinecolor\": \"white\", \"zerolinewidth\": 2}, \"yaxis\": {\"automargin\": true, \"gridcolor\": \"white\", \"linecolor\": \"white\", \"ticks\": \"\", \"title\": {\"standoff\": 15}, \"zerolinecolor\": \"white\", \"zerolinewidth\": 2}}}, \"xaxis\": {\"anchor\": \"y\", \"domain\": [0.0, 1.0], \"title\": {\"text\": \"At\\u00e9 que etapa de escolariza\\u00e7\\u00e3o seu pai concluiu?\"}}, \"yaxis\": {\"anchor\": \"x\", \"domain\": [0.0, 1.0], \"title\": {\"text\": \"NOTA PROVA\"}}},                        {\"responsive\": true}                    ).then(function(){\n",
       "                            \n",
       "var gd = document.getElementById('1aa4d266-d242-4a96-9f8a-6adfe3279af3');\n",
       "var x = new MutationObserver(function (mutations, observer) {{\n",
       "        var display = window.getComputedStyle(gd).display;\n",
       "        if (!display || display === 'none') {{\n",
       "            console.log([gd, 'removed!']);\n",
       "            Plotly.purge(gd);\n",
       "            observer.disconnect();\n",
       "        }}\n",
       "}});\n",
       "\n",
       "// Listen for the removal of the full notebook cells\n",
       "var notebookContainer = gd.closest('#notebook-container');\n",
       "if (notebookContainer) {{\n",
       "    x.observe(notebookContainer, {childList: true});\n",
       "}}\n",
       "\n",
       "// Listen for the clearing of the current output cell\n",
       "var outputEl = gd.closest('.output');\n",
       "if (outputEl) {{\n",
       "    x.observe(outputEl, {childList: true});\n",
       "}}\n",
       "\n",
       "                        })                };                });            </script>        </div>"
      ]
     },
     "metadata": {},
     "output_type": "display_data"
    }
   ],
   "source": [
    "fig = px.box(engenharias_ufpa_csv, x = 'Até que etapa de escolarização seu pai concluiu?' , y = 'NOTA PROVA', points=\"all\")\n",
    "fig.show()"
   ]
  },
  {
   "cell_type": "code",
   "execution_count": null,
   "metadata": {},
   "outputs": [],
   "source": []
  }
 ],
 "metadata": {
  "kernelspec": {
   "display_name": "Python 3",
   "language": "python",
   "name": "python3"
  },
  "language_info": {
   "codemirror_mode": {
    "name": "ipython",
    "version": 3
   },
   "file_extension": ".py",
   "mimetype": "text/x-python",
   "name": "python",
   "nbconvert_exporter": "python",
   "pygments_lexer": "ipython3",
   "version": "3.8.5"
  }
 },
 "nbformat": 4,
 "nbformat_minor": 4
}
