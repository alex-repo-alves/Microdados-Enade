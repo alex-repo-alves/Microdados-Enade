{
 "cells": [
  {
   "cell_type": "markdown",
   "metadata": {},
   "source": [
    "# <font color='blue'>Carregamento microdados Enade 2019</font>"
   ]
  },
  {
   "cell_type": "code",
   "execution_count": 1,
   "metadata": {},
   "outputs": [
    {
     "data": {
      "text/plain": [
       "'1.1.3'"
      ]
     },
     "execution_count": 1,
     "metadata": {},
     "output_type": "execute_result"
    }
   ],
   "source": [
    "# Importando pandas\n",
    "import pandas as pd\n",
    "pd.__version__"
   ]
  },
  {
   "cell_type": "code",
   "execution_count": 2,
   "metadata": {},
   "outputs": [],
   "source": [
    "# Criação do DataFrame com os dados do CSV\n",
    "# low_memory=False para ignorar a limitação de memória\n",
    "engenharias_ufpa_csv = pd.read_csv(\"Dados/2019/microdados_enade_2019_engenharias_UFPA - Copia.csv\", \n",
    "                                   encoding='utf-8', sep=\";\", low_memory=False)"
   ]
  },
  {
   "cell_type": "code",
   "execution_count": 3,
   "metadata": {},
   "outputs": [
    {
     "data": {
      "text/html": [
       "<div>\n",
       "<style scoped>\n",
       "    .dataframe tbody tr th:only-of-type {\n",
       "        vertical-align: middle;\n",
       "    }\n",
       "\n",
       "    .dataframe tbody tr th {\n",
       "        vertical-align: top;\n",
       "    }\n",
       "\n",
       "    .dataframe thead th {\n",
       "        text-align: right;\n",
       "    }\n",
       "</style>\n",
       "<table border=\"1\" class=\"dataframe\">\n",
       "  <thead>\n",
       "    <tr style=\"text-align: right;\">\n",
       "      <th></th>\n",
       "      <th>ANO EXAME</th>\n",
       "      <th>CO_IES</th>\n",
       "      <th>CO_CATEGAD</th>\n",
       "      <th>CO_ORGACAD</th>\n",
       "      <th>CO_GRUPO</th>\n",
       "      <th>CO_CURSO</th>\n",
       "      <th>CO_MODALIDADE</th>\n",
       "      <th>MUNICIPIO CURSO</th>\n",
       "      <th>CO_UF_CURSO</th>\n",
       "      <th>CO_REGIAO_CURSO</th>\n",
       "      <th>...</th>\n",
       "      <th>A instituição dispôs de quantidade suficiente de funcionários para o apoio administrativo e acadêmico.</th>\n",
       "      <th>O curso disponibilizou monitores ou tutores para auxiliar os estudantes.</th>\n",
       "      <th>As condições de infraestrutura das salas de aula foram adequadas.</th>\n",
       "      <th>Os equipamentos e materiais disponíveis para as aulas práticas foram adequados para a quantidade de estudantes.</th>\n",
       "      <th>Os ambientes e equipamentos destinados às aulas práticas foram adequados ao curso.</th>\n",
       "      <th>A biblioteca dispôs das referências bibliográficas que os estudantes necessitaram.</th>\n",
       "      <th>A instituição contou com biblioteca virtual ou conferiu acesso a obras disponíveis em acervos virtuais.</th>\n",
       "      <th>As atividades acadêmicas desenvolvidas dentro e fora da sala de aula possibilitaram reflexão, convivência e respeito à diversidade.</th>\n",
       "      <th>A instituição promoveu atividades de cultura, de lazer e interação social.</th>\n",
       "      <th>A instituição dispôs de refeitório, cantina e banheiros em condições adequadas que atenderam as necessidades dos seus usuários.</th>\n",
       "    </tr>\n",
       "  </thead>\n",
       "  <tbody>\n",
       "    <tr>\n",
       "      <th>0</th>\n",
       "      <td>2019</td>\n",
       "      <td>569</td>\n",
       "      <td>10002</td>\n",
       "      <td>10028</td>\n",
       "      <td>ENGENHARIA CIVIL</td>\n",
       "      <td>12001</td>\n",
       "      <td>1</td>\n",
       "      <td>BELEM</td>\n",
       "      <td>15</td>\n",
       "      <td>1</td>\n",
       "      <td>...</td>\n",
       "      <td>Concordo</td>\n",
       "      <td>Concordo totalmente</td>\n",
       "      <td>Concordo totalmente</td>\n",
       "      <td>Concordo totalmente</td>\n",
       "      <td>Concordo totalmente</td>\n",
       "      <td>Concordo totalmente</td>\n",
       "      <td>Concordo totalmente</td>\n",
       "      <td>Concordo totalmente</td>\n",
       "      <td>Concordo totalmente</td>\n",
       "      <td>Concordo totalmente</td>\n",
       "    </tr>\n",
       "    <tr>\n",
       "      <th>1</th>\n",
       "      <td>2019</td>\n",
       "      <td>569</td>\n",
       "      <td>10002</td>\n",
       "      <td>10028</td>\n",
       "      <td>ENGENHARIA CIVIL</td>\n",
       "      <td>12001</td>\n",
       "      <td>1</td>\n",
       "      <td>BELEM</td>\n",
       "      <td>15</td>\n",
       "      <td>1</td>\n",
       "      <td>...</td>\n",
       "      <td>Concordo totalmente</td>\n",
       "      <td>Concordo totalmente</td>\n",
       "      <td>Concordo totalmente</td>\n",
       "      <td>Concordo totalmente</td>\n",
       "      <td>Concordo</td>\n",
       "      <td>Concordo totalmente</td>\n",
       "      <td>Concordo totalmente</td>\n",
       "      <td>Concordo totalmente</td>\n",
       "      <td>Concordo totalmente</td>\n",
       "      <td>Concordo totalmente</td>\n",
       "    </tr>\n",
       "    <tr>\n",
       "      <th>2</th>\n",
       "      <td>2019</td>\n",
       "      <td>569</td>\n",
       "      <td>10002</td>\n",
       "      <td>10028</td>\n",
       "      <td>ENGENHARIA CIVIL</td>\n",
       "      <td>12001</td>\n",
       "      <td>1</td>\n",
       "      <td>BELEM</td>\n",
       "      <td>15</td>\n",
       "      <td>1</td>\n",
       "      <td>...</td>\n",
       "      <td>Concordo parcialmente</td>\n",
       "      <td>Discordo parcialmente</td>\n",
       "      <td>Concordo</td>\n",
       "      <td>Concordo parcialmente</td>\n",
       "      <td>Concordo parcialmente</td>\n",
       "      <td>Concordo parcialmente</td>\n",
       "      <td>Concordo parcialmente</td>\n",
       "      <td>Concordo parcialmente</td>\n",
       "      <td>Discordo parcialmente</td>\n",
       "      <td>Concordo parcialmente</td>\n",
       "    </tr>\n",
       "    <tr>\n",
       "      <th>3</th>\n",
       "      <td>2019</td>\n",
       "      <td>569</td>\n",
       "      <td>10002</td>\n",
       "      <td>10028</td>\n",
       "      <td>ENGENHARIA CIVIL</td>\n",
       "      <td>12001</td>\n",
       "      <td>1</td>\n",
       "      <td>BELEM</td>\n",
       "      <td>15</td>\n",
       "      <td>1</td>\n",
       "      <td>...</td>\n",
       "      <td>Concordo parcialmente</td>\n",
       "      <td>Concordo parcialmente</td>\n",
       "      <td>Concordo</td>\n",
       "      <td>Concordo parcialmente</td>\n",
       "      <td>Concordo</td>\n",
       "      <td>Concordo totalmente</td>\n",
       "      <td>Discordo parcialmente</td>\n",
       "      <td>Concordo</td>\n",
       "      <td>Concordo totalmente</td>\n",
       "      <td>Concordo</td>\n",
       "    </tr>\n",
       "    <tr>\n",
       "      <th>4</th>\n",
       "      <td>2019</td>\n",
       "      <td>569</td>\n",
       "      <td>10002</td>\n",
       "      <td>10028</td>\n",
       "      <td>ENGENHARIA CIVIL</td>\n",
       "      <td>12001</td>\n",
       "      <td>1</td>\n",
       "      <td>BELEM</td>\n",
       "      <td>15</td>\n",
       "      <td>1</td>\n",
       "      <td>...</td>\n",
       "      <td>Discordo parcialmente</td>\n",
       "      <td>Concordo parcialmente</td>\n",
       "      <td>Concordo</td>\n",
       "      <td>Discordo parcialmente</td>\n",
       "      <td>Discordo parcialmente</td>\n",
       "      <td>Discordo parcialmente</td>\n",
       "      <td>Não se aplica</td>\n",
       "      <td>Concordo parcialmente</td>\n",
       "      <td>Concordo parcialmente</td>\n",
       "      <td>Concordo parcialmente</td>\n",
       "    </tr>\n",
       "  </tbody>\n",
       "</table>\n",
       "<p>5 rows × 137 columns</p>\n",
       "</div>"
      ],
      "text/plain": [
       "   ANO EXAME  CO_IES  CO_CATEGAD  CO_ORGACAD          CO_GRUPO  CO_CURSO  \\\n",
       "0       2019     569       10002       10028  ENGENHARIA CIVIL     12001   \n",
       "1       2019     569       10002       10028  ENGENHARIA CIVIL     12001   \n",
       "2       2019     569       10002       10028  ENGENHARIA CIVIL     12001   \n",
       "3       2019     569       10002       10028  ENGENHARIA CIVIL     12001   \n",
       "4       2019     569       10002       10028  ENGENHARIA CIVIL     12001   \n",
       "\n",
       "   CO_MODALIDADE MUNICIPIO CURSO  CO_UF_CURSO  CO_REGIAO_CURSO  ...  \\\n",
       "0              1           BELEM           15                1  ...   \n",
       "1              1           BELEM           15                1  ...   \n",
       "2              1           BELEM           15                1  ...   \n",
       "3              1           BELEM           15                1  ...   \n",
       "4              1           BELEM           15                1  ...   \n",
       "\n",
       "   A instituição dispôs de quantidade suficiente de funcionários para o apoio administrativo e acadêmico.  \\\n",
       "0                                           Concordo                                                        \n",
       "1                                Concordo totalmente                                                        \n",
       "2                              Concordo parcialmente                                                        \n",
       "3                              Concordo parcialmente                                                        \n",
       "4                              Discordo parcialmente                                                        \n",
       "\n",
       "  O curso disponibilizou monitores ou tutores para auxiliar os estudantes.  \\\n",
       "0                                Concordo totalmente                         \n",
       "1                                Concordo totalmente                         \n",
       "2                              Discordo parcialmente                         \n",
       "3                              Concordo parcialmente                         \n",
       "4                              Concordo parcialmente                         \n",
       "\n",
       "   As condições de infraestrutura das salas de aula foram adequadas.  \\\n",
       "0                                Concordo totalmente                   \n",
       "1                                Concordo totalmente                   \n",
       "2                                           Concordo                   \n",
       "3                                           Concordo                   \n",
       "4                                           Concordo                   \n",
       "\n",
       "   Os equipamentos e materiais disponíveis para as aulas práticas foram adequados para a quantidade de estudantes.  \\\n",
       "0                                Concordo totalmente                                                                 \n",
       "1                                Concordo totalmente                                                                 \n",
       "2                              Concordo parcialmente                                                                 \n",
       "3                              Concordo parcialmente                                                                 \n",
       "4                              Discordo parcialmente                                                                 \n",
       "\n",
       "   Os ambientes e equipamentos destinados às aulas práticas foram adequados ao curso.  \\\n",
       "0                                Concordo totalmente                                    \n",
       "1                                           Concordo                                    \n",
       "2                              Concordo parcialmente                                    \n",
       "3                                           Concordo                                    \n",
       "4                              Discordo parcialmente                                    \n",
       "\n",
       "   A biblioteca dispôs das referências bibliográficas que os estudantes necessitaram.  \\\n",
       "0                                Concordo totalmente                                    \n",
       "1                                Concordo totalmente                                    \n",
       "2                              Concordo parcialmente                                    \n",
       "3                                Concordo totalmente                                    \n",
       "4                              Discordo parcialmente                                    \n",
       "\n",
       "   A instituição contou com biblioteca virtual ou conferiu acesso a obras disponíveis em acervos virtuais.  \\\n",
       "0                                Concordo totalmente                                                         \n",
       "1                                Concordo totalmente                                                         \n",
       "2                              Concordo parcialmente                                                         \n",
       "3                              Discordo parcialmente                                                         \n",
       "4                                      Não se aplica                                                         \n",
       "\n",
       "   As atividades acadêmicas desenvolvidas dentro e fora da sala de aula possibilitaram reflexão, convivência e respeito à diversidade.  \\\n",
       "0                                Concordo totalmente                                                                                     \n",
       "1                                Concordo totalmente                                                                                     \n",
       "2                              Concordo parcialmente                                                                                     \n",
       "3                                           Concordo                                                                                     \n",
       "4                              Concordo parcialmente                                                                                     \n",
       "\n",
       "   A instituição promoveu atividades de cultura, de lazer e interação social.  \\\n",
       "0                                Concordo totalmente                            \n",
       "1                                Concordo totalmente                            \n",
       "2                              Discordo parcialmente                            \n",
       "3                                Concordo totalmente                            \n",
       "4                              Concordo parcialmente                            \n",
       "\n",
       "   A instituição dispôs de refeitório, cantina e banheiros em condições adequadas que atenderam as necessidades dos seus usuários.  \n",
       "0                                Concordo totalmente                                                                                \n",
       "1                                Concordo totalmente                                                                                \n",
       "2                              Concordo parcialmente                                                                                \n",
       "3                                           Concordo                                                                                \n",
       "4                              Concordo parcialmente                                                                                \n",
       "\n",
       "[5 rows x 137 columns]"
      ]
     },
     "execution_count": 3,
     "metadata": {},
     "output_type": "execute_result"
    }
   ],
   "source": [
    "# Visualiza cabeçario\n",
    "engenharias_ufpa_csv.head()"
   ]
  },
  {
   "cell_type": "code",
   "execution_count": 4,
   "metadata": {},
   "outputs": [],
   "source": [
    "# Removendo colunas usando método do DataFrame\n",
    "engenharias_ufpa_csv = engenharias_ufpa_csv.drop(columns=['ANO EXAME', 'CO_IES', 'CO_CATEGAD', 'CO_ORGACAD', 'CO_CURSO', 'CO_MODALIDADE',\n",
    "                                                          'CO_UF_CURSO', 'CO_REGIAO_CURSO', 'TP_INSCRICAO_ADM', 'TP_INSCRICAO', \n",
    "                                                          'NU_ITEM_OFG', 'NU_ITEM_OFG_Z', 'NU_ITEM_OFG_X', 'NU_ITEM_OFG_N', \n",
    "                                                          'NU_ITEM_OCE', 'NU_ITEM_OCE_Z', 'NU_ITEM_OCE_X', 'NU_ITEM_OCE_N', \n",
    "                                                          'DS_VT_GAB_OFG_ORIG', 'DS_VT_GAB_OFG_FIN', 'DS_VT_GAB_OCE_ORIG', \n",
    "                                                          'DS_VT_GAB_OCE_FIN', 'DS_VT_ESC_OFG', 'DS_VT_ACE_OFG', 'DS_VT_ESC_OCE',\n",
    "                                                          'DS_VT_ACE_OCE', 'PRESENCA NO ENADE', 'TP_PR_GER', 'TP_PR_OB_FG', \n",
    "                                                          'TP_PR_DI_FG', 'TP_PR_OB_CE', 'TP_PR_DI_CE', 'TP_SFG_D1', 'TP_SFG_D2', \n",
    "                                                          'TP_SCE_D1', 'TP_SCE_D2', 'TP_SCE_D3', 'NT_FG_D1', 'NT_FG_D1_PT', \n",
    "                                                          'NT_FG_D1_CT', 'NT_FG_D2', 'NT_FG_D2_PT', 'NT_FG_D2_CT', 'NT_CE_D1', \n",
    "                                                          'NT_CE_D2', 'NT_CE_D3'])"
   ]
  },
  {
   "cell_type": "code",
   "execution_count": null,
   "metadata": {},
   "outputs": [],
   "source": [
    "# Importando sweetviz para visualização de gráficos e numpy\n",
    "import sweetviz as sv\n",
    "import numpy as np"
   ]
  },
  {
   "cell_type": "code",
   "execution_count": 5,
   "metadata": {},
   "outputs": [],
   "source": [
    "# Importando D-Tale para manipular DataFrames com frontend\n",
    "import dtale"
   ]
  },
  {
   "cell_type": "code",
   "execution_count": null,
   "metadata": {},
   "outputs": [],
   "source": [
    "# Criando um report dos dados com o sweetviz\n",
    "my_report = sv.analyze(engenharias_ufpa_csv)"
   ]
  },
  {
   "cell_type": "code",
   "execution_count": null,
   "metadata": {},
   "outputs": [],
   "source": [
    "# Visualizando o report graficamente em html\n",
    "my_report.show_html('engenharias_ufpa_csv_Report.html')"
   ]
  },
  {
   "cell_type": "code",
   "execution_count": 6,
   "metadata": {},
   "outputs": [
    {
     "name": "stderr",
     "output_type": "stream",
     "text": [
      "2021-05-03 11:20:58,194 - INFO     - NumExpr defaulting to 6 threads.\n"
     ]
    },
    {
     "data": {
      "text/html": [
       "\n",
       "        <iframe\n",
       "            width=\"100%\"\n",
       "            height=\"475\"\n",
       "            src=\"http://DESKTOP-T1C7ISN:40000/dtale/iframe/1\"\n",
       "            frameborder=\"0\"\n",
       "            allowfullscreen\n",
       "        ></iframe>\n",
       "        "
      ],
      "text/plain": [
       "<IPython.lib.display.IFrame at 0x12616fb7a90>"
      ]
     },
     "metadata": {},
     "output_type": "display_data"
    },
    {
     "data": {
      "text/plain": []
     },
     "execution_count": 6,
     "metadata": {},
     "output_type": "execute_result"
    }
   ],
   "source": [
    "# Manipulando o DataFrame com D-Tale\n",
    "dtale.show(engenharias_ufpa_csv)"
   ]
  },
  {
   "cell_type": "code",
   "execution_count": null,
   "metadata": {},
   "outputs": [],
   "source": []
  }
 ],
 "metadata": {
  "kernelspec": {
   "display_name": "Python 3",
   "language": "python",
   "name": "python3"
  },
  "language_info": {
   "codemirror_mode": {
    "name": "ipython",
    "version": 3
   },
   "file_extension": ".py",
   "mimetype": "text/x-python",
   "name": "python",
   "nbconvert_exporter": "python",
   "pygments_lexer": "ipython3",
   "version": "3.8.5"
  }
 },
 "nbformat": 4,
 "nbformat_minor": 4
}
