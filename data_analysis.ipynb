{
 "cells": [
  {
   "cell_type": "markdown",
   "id": "c5ea833c-91f1-41fe-9e81-c682e5b3f2d4",
   "metadata": {},
   "source": [
    "# Imports"
   ]
  },
  {
   "cell_type": "code",
   "execution_count": 4,
   "id": "3607d149-9522-4244-ac4f-dc7602b3cef0",
   "metadata": {},
   "outputs": [],
   "source": [
    "import os\n",
    "import pandas as pd\n",
    "import numpy as np\n",
    "import seaborn as sns\n",
    "from matplotlib import pyplot as plt\n",
    "from zipfile import ZipFile\n",
    "%matplotlib inline"
   ]
  },
  {
   "cell_type": "markdown",
   "id": "12b039f4-8e59-42ed-9818-3572d157a4de",
   "metadata": {
    "tags": []
   },
   "source": [
    "# ETL - Extract, Transform, and Load"
   ]
  },
  {
   "cell_type": "markdown",
   "id": "4341f5c7-1563-44d0-aedf-3f3cf982f646",
   "metadata": {},
   "source": [
    "## Extract"
   ]
  },
  {
   "cell_type": "code",
   "execution_count": 74,
   "id": "c170ee87-c328-4718-9c0a-c2ecd6889fbf",
   "metadata": {
    "tags": []
   },
   "outputs": [],
   "source": [
    "RELATIVE_PATH = os.path.join(os.getcwd(), 'input')\n",
    "\n",
    "FILES = os.listdir(relative_path)\n",
    "\n",
    "def is_allowed_extension(file):\n",
    "    dot_index = -4\n",
    "    ext = file[dot_index:]    \n",
    "    allowed = [ f'.{_ext}' for _ext in ['csv', 'txt']]\n",
    "    return ext in allowed\n",
    "\n",
    "def sort_paths(paths):\n",
    "    sorted_paths = []\n",
    "    for i in range(1, len(paths) + 1):\n",
    "        path = next(\n",
    "            filter(\n",
    "                lambda _path: f'arq{i}.' in _path,\n",
    "                paths\n",
    "            )\n",
    "        )\n",
    "        sorted_paths.append(path)\n",
    "    return sorted_paths\n",
    "\n",
    "INPUTS = list(filter(is_allowed_extension, FILES))\n",
    "\n",
    "def make_absolute_path(file):\n",
    "    return os.path.join(RELATIVE_PATH, file)\n",
    "\n",
    "absolute_paths = sort_paths(list(map(make_absolute_path, INPUTS)))"
   ]
  },
  {
   "cell_type": "markdown",
   "id": "15a1a89c-3310-4afa-aacd-31456340e433",
   "metadata": {},
   "source": [
    "## Load"
   ]
  },
  {
   "cell_type": "code",
   "execution_count": 82,
   "id": "fc8cc754-aa07-4acb-a185-2b3790721f86",
   "metadata": {},
   "outputs": [
    {
     "name": "stdout",
     "output_type": "stream",
     "text": [
      "<class 'pandas.core.frame.DataFrame'>\n",
      "RangeIndex: 433930 entries, 0 to 433929\n",
      "Data columns (total 10 columns):\n",
      " #   Column           Non-Null Count   Dtype\n",
      "---  ------           --------------   -----\n",
      " 0   NU_ANO           433930 non-null  int64\n",
      " 1   CO_CURSO         433930 non-null  int64\n",
      " 2   CO_IES           433930 non-null  int64\n",
      " 3   CO_CATEGAD       433930 non-null  int64\n",
      " 4   CO_ORGACAD       433930 non-null  int64\n",
      " 5   CO_GRUPO         433930 non-null  int64\n",
      " 6   CO_MODALIDADE    433930 non-null  int64\n",
      " 7   CO_MUNIC_CURSO   433930 non-null  int64\n",
      " 8   CO_UF_CURSO      433930 non-null  int64\n",
      " 9   CO_REGIAO_CURSO  433930 non-null  int64\n",
      "dtypes: int64(10)\n",
      "memory usage: 33.1 MB\n"
     ]
    }
   ],
   "source": [
    "pd.read_table(absolute_paths[0], delimiter=\";\").info()"
   ]
  }
 ],
 "metadata": {
  "kernelspec": {
   "display_name": "Python 3 (ipykernel)",
   "language": "python",
   "name": "python3"
  },
  "language_info": {
   "codemirror_mode": {
    "name": "ipython",
    "version": 3
   },
   "file_extension": ".py",
   "mimetype": "text/x-python",
   "name": "python",
   "nbconvert_exporter": "python",
   "pygments_lexer": "ipython3",
   "version": "3.10.4"
  }
 },
 "nbformat": 4,
 "nbformat_minor": 5
}
